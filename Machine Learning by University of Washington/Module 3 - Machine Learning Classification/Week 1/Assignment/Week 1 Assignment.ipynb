{
 "cells": [
  {
   "cell_type": "markdown",
   "id": "8cdcbd92-0fd1-4f75-b0e2-e1465cde178f",
   "metadata": {},
   "source": [
    "## Loading Dataset"
   ]
  },
  {
   "cell_type": "code",
   "execution_count": 51,
   "id": "9153b5d3-61f8-4b8f-ae67-d5ad7d05867b",
   "metadata": {},
   "outputs": [],
   "source": [
    "import pandas as pd\n",
    "import numpy as np"
   ]
  },
  {
   "cell_type": "code",
   "execution_count": 52,
   "id": "08036bbc-930f-4d2b-b153-76d0de8e4410",
   "metadata": {},
   "outputs": [
    {
     "data": {
      "text/html": [
       "<div>\n",
       "<style scoped>\n",
       "    .dataframe tbody tr th:only-of-type {\n",
       "        vertical-align: middle;\n",
       "    }\n",
       "\n",
       "    .dataframe tbody tr th {\n",
       "        vertical-align: top;\n",
       "    }\n",
       "\n",
       "    .dataframe thead th {\n",
       "        text-align: right;\n",
       "    }\n",
       "</style>\n",
       "<table border=\"1\" class=\"dataframe\">\n",
       "  <thead>\n",
       "    <tr style=\"text-align: right;\">\n",
       "      <th></th>\n",
       "      <th>name</th>\n",
       "      <th>review</th>\n",
       "      <th>rating</th>\n",
       "    </tr>\n",
       "  </thead>\n",
       "  <tbody>\n",
       "    <tr>\n",
       "      <th>0</th>\n",
       "      <td>Planetwise Flannel Wipes</td>\n",
       "      <td>These flannel wipes are OK, but in my opinion ...</td>\n",
       "      <td>3</td>\n",
       "    </tr>\n",
       "    <tr>\n",
       "      <th>1</th>\n",
       "      <td>Planetwise Wipe Pouch</td>\n",
       "      <td>it came early and was not disappointed. i love...</td>\n",
       "      <td>5</td>\n",
       "    </tr>\n",
       "    <tr>\n",
       "      <th>2</th>\n",
       "      <td>Annas Dream Full Quilt with 2 Shams</td>\n",
       "      <td>Very soft and comfortable and warmer than it l...</td>\n",
       "      <td>5</td>\n",
       "    </tr>\n",
       "    <tr>\n",
       "      <th>3</th>\n",
       "      <td>Stop Pacifier Sucking without tears with Thumb...</td>\n",
       "      <td>This is a product well worth the purchase.  I ...</td>\n",
       "      <td>5</td>\n",
       "    </tr>\n",
       "    <tr>\n",
       "      <th>4</th>\n",
       "      <td>Stop Pacifier Sucking without tears with Thumb...</td>\n",
       "      <td>All of my kids have cried non-stop when I trie...</td>\n",
       "      <td>5</td>\n",
       "    </tr>\n",
       "  </tbody>\n",
       "</table>\n",
       "</div>"
      ],
      "text/plain": [
       "                                                name  \\\n",
       "0                           Planetwise Flannel Wipes   \n",
       "1                              Planetwise Wipe Pouch   \n",
       "2                Annas Dream Full Quilt with 2 Shams   \n",
       "3  Stop Pacifier Sucking without tears with Thumb...   \n",
       "4  Stop Pacifier Sucking without tears with Thumb...   \n",
       "\n",
       "                                              review  rating  \n",
       "0  These flannel wipes are OK, but in my opinion ...       3  \n",
       "1  it came early and was not disappointed. i love...       5  \n",
       "2  Very soft and comfortable and warmer than it l...       5  \n",
       "3  This is a product well worth the purchase.  I ...       5  \n",
       "4  All of my kids have cried non-stop when I trie...       5  "
      ]
     },
     "execution_count": 52,
     "metadata": {},
     "output_type": "execute_result"
    }
   ],
   "source": [
    "# Reading the csv file and displaying the first 5 rows of the dataframe.\n",
    "products = pd.read_csv(r'Dataset/amazon_baby.csv')\n",
    "products.head()"
   ]
  },
  {
   "cell_type": "markdown",
   "id": "0bb016eb-883a-49af-9ced-f040589381f2",
   "metadata": {},
   "source": [
    "## Cleaning the Data"
   ]
  },
  {
   "cell_type": "code",
   "execution_count": 53,
   "id": "dd72f3f7-7c93-4a4b-9258-3098983d5d75",
   "metadata": {},
   "outputs": [
    {
     "data": {
      "text/html": [
       "<div>\n",
       "<style scoped>\n",
       "    .dataframe tbody tr th:only-of-type {\n",
       "        vertical-align: middle;\n",
       "    }\n",
       "\n",
       "    .dataframe tbody tr th {\n",
       "        vertical-align: top;\n",
       "    }\n",
       "\n",
       "    .dataframe thead th {\n",
       "        text-align: right;\n",
       "    }\n",
       "</style>\n",
       "<table border=\"1\" class=\"dataframe\">\n",
       "  <thead>\n",
       "    <tr style=\"text-align: right;\">\n",
       "      <th></th>\n",
       "      <th>name</th>\n",
       "      <th>review</th>\n",
       "      <th>rating</th>\n",
       "      <th>review_clean</th>\n",
       "    </tr>\n",
       "  </thead>\n",
       "  <tbody>\n",
       "    <tr>\n",
       "      <th>0</th>\n",
       "      <td>Planetwise Flannel Wipes</td>\n",
       "      <td>These flannel wipes are OK, but in my opinion ...</td>\n",
       "      <td>3</td>\n",
       "      <td>These flannel wipes are OK but in my opinion n...</td>\n",
       "    </tr>\n",
       "    <tr>\n",
       "      <th>1</th>\n",
       "      <td>Planetwise Wipe Pouch</td>\n",
       "      <td>it came early and was not disappointed. i love...</td>\n",
       "      <td>5</td>\n",
       "      <td>it came early and was not disappointed i love ...</td>\n",
       "    </tr>\n",
       "    <tr>\n",
       "      <th>2</th>\n",
       "      <td>Annas Dream Full Quilt with 2 Shams</td>\n",
       "      <td>Very soft and comfortable and warmer than it l...</td>\n",
       "      <td>5</td>\n",
       "      <td>Very soft and comfortable and warmer than it l...</td>\n",
       "    </tr>\n",
       "    <tr>\n",
       "      <th>3</th>\n",
       "      <td>Stop Pacifier Sucking without tears with Thumb...</td>\n",
       "      <td>This is a product well worth the purchase.  I ...</td>\n",
       "      <td>5</td>\n",
       "      <td>This is a product well worth the purchase  I h...</td>\n",
       "    </tr>\n",
       "    <tr>\n",
       "      <th>4</th>\n",
       "      <td>Stop Pacifier Sucking without tears with Thumb...</td>\n",
       "      <td>All of my kids have cried non-stop when I trie...</td>\n",
       "      <td>5</td>\n",
       "      <td>All of my kids have cried nonstop when I tried...</td>\n",
       "    </tr>\n",
       "  </tbody>\n",
       "</table>\n",
       "</div>"
      ],
      "text/plain": [
       "                                                name  \\\n",
       "0                           Planetwise Flannel Wipes   \n",
       "1                              Planetwise Wipe Pouch   \n",
       "2                Annas Dream Full Quilt with 2 Shams   \n",
       "3  Stop Pacifier Sucking without tears with Thumb...   \n",
       "4  Stop Pacifier Sucking without tears with Thumb...   \n",
       "\n",
       "                                              review  rating  \\\n",
       "0  These flannel wipes are OK, but in my opinion ...       3   \n",
       "1  it came early and was not disappointed. i love...       5   \n",
       "2  Very soft and comfortable and warmer than it l...       5   \n",
       "3  This is a product well worth the purchase.  I ...       5   \n",
       "4  All of my kids have cried non-stop when I trie...       5   \n",
       "\n",
       "                                        review_clean  \n",
       "0  These flannel wipes are OK but in my opinion n...  \n",
       "1  it came early and was not disappointed i love ...  \n",
       "2  Very soft and comfortable and warmer than it l...  \n",
       "3  This is a product well worth the purchase  I h...  \n",
       "4  All of my kids have cried nonstop when I tried...  "
      ]
     },
     "execution_count": 53,
     "metadata": {},
     "output_type": "execute_result"
    }
   ],
   "source": [
    "def remove_punctuation(text):\n",
    "    \"\"\"\n",
    "    The function takes in a string, and returns a new string with all of the punctuation removed. \n",
    "    \n",
    "    The function uses Python's built-in string.punctuation variable, which is a string of all the punctuation characters. \n",
    "    \n",
    "    The function str.translate() takes in a translation table, which you can generate using the maketrans() helper function\n",
    "    in the string library. \n",
    "    \n",
    "    :param text: The text to be processed\n",
    "    :return: A string with all punctuation removed.\n",
    "    \"\"\"\n",
    "    import string\n",
    "    return str(text).translate(str.maketrans('', '', string.punctuation)) \n",
    "\n",
    "# Applying the remove_punctuation function to the review column of the products dataframe.\n",
    "products['review_clean'] = products['review'].apply(remove_punctuation)\n",
    "\n",
    "# Displaying the first 5 rows of the dataframe.\n",
    "products.head()"
   ]
  },
  {
   "cell_type": "code",
   "execution_count": 54,
   "id": "3ecc44ce-38f3-48f9-9535-3596900a4d93",
   "metadata": {},
   "outputs": [
    {
     "data": {
      "text/plain": [
       "name            318\n",
       "review          829\n",
       "rating            0\n",
       "review_clean      0\n",
       "dtype: int64"
      ]
     },
     "execution_count": 54,
     "metadata": {},
     "output_type": "execute_result"
    }
   ],
   "source": [
    "# Counting the number of missing values in each column.\n",
    "products.isna().sum()"
   ]
  },
  {
   "cell_type": "code",
   "execution_count": 55,
   "id": "735c92f0-c968-4e1f-9070-c98b68f535c2",
   "metadata": {},
   "outputs": [],
   "source": [
    "# Replacing all the empty name, reviews with an empty string.\n",
    "products = products.fillna({'name':'', 'review':''})"
   ]
  },
  {
   "cell_type": "code",
   "execution_count": 56,
   "id": "1dbdfb20-7ff1-4da1-a8bd-16e86acd2b70",
   "metadata": {},
   "outputs": [],
   "source": [
    "# Filtering out all the products with rating 3.\n",
    "products = products[products['rating'] != 3]\n",
    "# Creating a new column called 'sentiment' and assigning it a value of +1 if the rating is greater than 3 and -1 if the rating is less than 3.\n",
    "products['sentiment'] = products['rating'].apply(lambda rating : +1 if rating > 3 else -1)"
   ]
  },
  {
   "cell_type": "markdown",
   "id": "4f752fe6-e0fe-4fde-a2b1-b2e3af10cbac",
   "metadata": {},
   "source": [
    "## Train Test Split"
   ]
  },
  {
   "cell_type": "code",
   "execution_count": 57,
   "id": "1a9a8c6b-a840-499c-b81c-7588b0550f2b",
   "metadata": {},
   "outputs": [],
   "source": [
    "# The below code is loading the train and test index files into the train_index and test_index variables.Index files are used to follow the same implementation done in assignment as it's not done on pandas.\n",
    "import json\n",
    "\n",
    "temp_file = open('Dataset/module-2-assignment-train-idx.json')\n",
    "train_index = json.load(temp_file)\n",
    "temp_file.close()\n",
    "temp_file = open('Dataset/module-2-assignment-test-idx.json')\n",
    "test_index = json.load(temp_file)\n",
    "temp_file.close()"
   ]
  },
  {
   "cell_type": "code",
   "execution_count": 84,
   "id": "50d3a4b0-ed7a-4616-b583-ddaed8661f8e",
   "metadata": {},
   "outputs": [],
   "source": [
    "# The above code is splitting the data into training and test data.\n",
    "train_data = products.iloc[train_index]\n",
    "test_data = products.iloc[test_index]\n",
    "# Reseting the index\n",
    "train_data.reset_index(drop=True, inplace=True)\n",
    "test_data.reset_index(drop=True, inplace=True)\n",
    "# Assigning the sentiment column to the train_target and test_target variables.\n",
    "train_target = train_data['sentiment']\n",
    "test_target = test_data['sentiment']"
   ]
  },
  {
   "cell_type": "markdown",
   "id": "6a58ba21-bc9c-4410-a370-f853dd1bcddb",
   "metadata": {},
   "source": [
    "## Encoding the data"
   ]
  },
  {
   "cell_type": "code",
   "execution_count": 61,
   "id": "fe011f26-f3d6-4a01-a150-d174db02e783",
   "metadata": {},
   "outputs": [],
   "source": [
    "from sklearn.feature_extraction.text import CountVectorizer\n",
    "\n",
    "vectorizer = CountVectorizer(token_pattern=r'\\b\\w+\\b')\n",
    "# Use this token pattern to keep single-letter words\n",
    "# First, learn vocabulary from the training data and assign columns to words\n",
    "# Then convert the training data into a sparse matrix\n",
    "train_matrix = vectorizer.fit_transform(train_data['review_clean'])\n",
    "# Second, convert the test data into a sparse matrix, using the same word-column mapping\n",
    "test_matrix = vectorizer.transform(test_data['review_clean'])"
   ]
  },
  {
   "cell_type": "markdown",
   "id": "d32e155b-5f52-4cc9-9f0f-e2018bde7b7e",
   "metadata": {},
   "source": [
    "## Logistic Regression model"
   ]
  },
  {
   "cell_type": "code",
   "execution_count": 62,
   "id": "9336beaf-ae34-4c60-8957-4e0748df1303",
   "metadata": {},
   "outputs": [],
   "source": [
    "from sklearn.linear_model import LogisticRegression"
   ]
  },
  {
   "cell_type": "code",
   "execution_count": 171,
   "id": "7352a276-d6ec-4cb4-b7fe-46a1fb17e1c7",
   "metadata": {},
   "outputs": [
    {
     "name": "stderr",
     "output_type": "stream",
     "text": [
      "E:\\Coding\\Online Moocs\\Machine Leanring by Uni of Washington\\venv\\lib\\site-packages\\sklearn\\linear_model\\_logistic.py:444: ConvergenceWarning: lbfgs failed to converge (status=1):\n",
      "STOP: TOTAL NO. of ITERATIONS REACHED LIMIT.\n",
      "\n",
      "Increase the number of iterations (max_iter) or scale the data as shown in:\n",
      "    https://scikit-learn.org/stable/modules/preprocessing.html\n",
      "Please also refer to the documentation for alternative solver options:\n",
      "    https://scikit-learn.org/stable/modules/linear_model.html#logistic-regression\n",
      "  n_iter_i = _check_optimize_result(\n"
     ]
    },
    {
     "data": {
      "text/html": [
       "<style>#sk-container-id-4 {color: black;background-color: white;}#sk-container-id-4 pre{padding: 0;}#sk-container-id-4 div.sk-toggleable {background-color: white;}#sk-container-id-4 label.sk-toggleable__label {cursor: pointer;display: block;width: 100%;margin-bottom: 0;padding: 0.3em;box-sizing: border-box;text-align: center;}#sk-container-id-4 label.sk-toggleable__label-arrow:before {content: \"▸\";float: left;margin-right: 0.25em;color: #696969;}#sk-container-id-4 label.sk-toggleable__label-arrow:hover:before {color: black;}#sk-container-id-4 div.sk-estimator:hover label.sk-toggleable__label-arrow:before {color: black;}#sk-container-id-4 div.sk-toggleable__content {max-height: 0;max-width: 0;overflow: hidden;text-align: left;background-color: #f0f8ff;}#sk-container-id-4 div.sk-toggleable__content pre {margin: 0.2em;color: black;border-radius: 0.25em;background-color: #f0f8ff;}#sk-container-id-4 input.sk-toggleable__control:checked~div.sk-toggleable__content {max-height: 200px;max-width: 100%;overflow: auto;}#sk-container-id-4 input.sk-toggleable__control:checked~label.sk-toggleable__label-arrow:before {content: \"▾\";}#sk-container-id-4 div.sk-estimator input.sk-toggleable__control:checked~label.sk-toggleable__label {background-color: #d4ebff;}#sk-container-id-4 div.sk-label input.sk-toggleable__control:checked~label.sk-toggleable__label {background-color: #d4ebff;}#sk-container-id-4 input.sk-hidden--visually {border: 0;clip: rect(1px 1px 1px 1px);clip: rect(1px, 1px, 1px, 1px);height: 1px;margin: -1px;overflow: hidden;padding: 0;position: absolute;width: 1px;}#sk-container-id-4 div.sk-estimator {font-family: monospace;background-color: #f0f8ff;border: 1px dotted black;border-radius: 0.25em;box-sizing: border-box;margin-bottom: 0.5em;}#sk-container-id-4 div.sk-estimator:hover {background-color: #d4ebff;}#sk-container-id-4 div.sk-parallel-item::after {content: \"\";width: 100%;border-bottom: 1px solid gray;flex-grow: 1;}#sk-container-id-4 div.sk-label:hover label.sk-toggleable__label {background-color: #d4ebff;}#sk-container-id-4 div.sk-serial::before {content: \"\";position: absolute;border-left: 1px solid gray;box-sizing: border-box;top: 0;bottom: 0;left: 50%;z-index: 0;}#sk-container-id-4 div.sk-serial {display: flex;flex-direction: column;align-items: center;background-color: white;padding-right: 0.2em;padding-left: 0.2em;position: relative;}#sk-container-id-4 div.sk-item {position: relative;z-index: 1;}#sk-container-id-4 div.sk-parallel {display: flex;align-items: stretch;justify-content: center;background-color: white;position: relative;}#sk-container-id-4 div.sk-item::before, #sk-container-id-4 div.sk-parallel-item::before {content: \"\";position: absolute;border-left: 1px solid gray;box-sizing: border-box;top: 0;bottom: 0;left: 50%;z-index: -1;}#sk-container-id-4 div.sk-parallel-item {display: flex;flex-direction: column;z-index: 1;position: relative;background-color: white;}#sk-container-id-4 div.sk-parallel-item:first-child::after {align-self: flex-end;width: 50%;}#sk-container-id-4 div.sk-parallel-item:last-child::after {align-self: flex-start;width: 50%;}#sk-container-id-4 div.sk-parallel-item:only-child::after {width: 0;}#sk-container-id-4 div.sk-dashed-wrapped {border: 1px dashed gray;margin: 0 0.4em 0.5em 0.4em;box-sizing: border-box;padding-bottom: 0.4em;background-color: white;}#sk-container-id-4 div.sk-label label {font-family: monospace;font-weight: bold;display: inline-block;line-height: 1.2em;}#sk-container-id-4 div.sk-label-container {text-align: center;}#sk-container-id-4 div.sk-container {/* jupyter's `normalize.less` sets `[hidden] { display: none; }` but bootstrap.min.css set `[hidden] { display: none !important; }` so we also need the `!important` here to be able to override the default hidden behavior on the sphinx rendered scikit-learn.org. See: https://github.com/scikit-learn/scikit-learn/issues/21755 */display: inline-block !important;position: relative;}#sk-container-id-4 div.sk-text-repr-fallback {display: none;}</style><div id=\"sk-container-id-4\" class=\"sk-top-container\"><div class=\"sk-text-repr-fallback\"><pre>LogisticRegression()</pre><b>In a Jupyter environment, please rerun this cell to show the HTML representation or trust the notebook. <br />On GitHub, the HTML representation is unable to render, please try loading this page with nbviewer.org.</b></div><div class=\"sk-container\" hidden><div class=\"sk-item\"><div class=\"sk-estimator sk-toggleable\"><input class=\"sk-toggleable__control sk-hidden--visually\" id=\"sk-estimator-id-4\" type=\"checkbox\" checked><label for=\"sk-estimator-id-4\" class=\"sk-toggleable__label sk-toggleable__label-arrow\">LogisticRegression</label><div class=\"sk-toggleable__content\"><pre>LogisticRegression()</pre></div></div></div></div></div>"
      ],
      "text/plain": [
       "LogisticRegression()"
      ]
     },
     "execution_count": 171,
     "metadata": {},
     "output_type": "execute_result"
    }
   ],
   "source": [
    "# Fitting a logistic regression model to the training data.\n",
    "lr_model = LogisticRegression()\n",
    "lr_model.fit(train_matrix, train_target)"
   ]
  },
  {
   "cell_type": "markdown",
   "id": "47596696-01c6-4a38-a1ab-6bb1fe467c3c",
   "metadata": {},
   "source": [
    "## Minor EDA as per assigment"
   ]
  },
  {
   "cell_type": "code",
   "execution_count": 98,
   "id": "2dd3e353-b500-487e-8471-c6a1e650212e",
   "metadata": {},
   "outputs": [
    {
     "data": {
      "text/html": [
       "<div>\n",
       "<style scoped>\n",
       "    .dataframe tbody tr th:only-of-type {\n",
       "        vertical-align: middle;\n",
       "    }\n",
       "\n",
       "    .dataframe tbody tr th {\n",
       "        vertical-align: top;\n",
       "    }\n",
       "\n",
       "    .dataframe thead th {\n",
       "        text-align: right;\n",
       "    }\n",
       "</style>\n",
       "<table border=\"1\" class=\"dataframe\">\n",
       "  <thead>\n",
       "    <tr style=\"text-align: right;\">\n",
       "      <th></th>\n",
       "      <th>name</th>\n",
       "      <th>review</th>\n",
       "      <th>rating</th>\n",
       "      <th>review_clean</th>\n",
       "      <th>sentiment</th>\n",
       "    </tr>\n",
       "  </thead>\n",
       "  <tbody>\n",
       "    <tr>\n",
       "      <th>10</th>\n",
       "      <td>Our Baby Girl Memory Book</td>\n",
       "      <td>Absolutely love it and all of the Scripture in...</td>\n",
       "      <td>5</td>\n",
       "      <td>Absolutely love it and all of the Scripture in...</td>\n",
       "      <td>1</td>\n",
       "    </tr>\n",
       "    <tr>\n",
       "      <th>11</th>\n",
       "      <td>Wall Decor Removable Decal Sticker - Colorful ...</td>\n",
       "      <td>Would not purchase again or recommend. The dec...</td>\n",
       "      <td>2</td>\n",
       "      <td>Would not purchase again or recommend The deca...</td>\n",
       "      <td>-1</td>\n",
       "    </tr>\n",
       "    <tr>\n",
       "      <th>12</th>\n",
       "      <td>New Style Trailing Cherry Blossom Tree Decal R...</td>\n",
       "      <td>Was so excited to get this product for my baby...</td>\n",
       "      <td>1</td>\n",
       "      <td>Was so excited to get this product for my baby...</td>\n",
       "      <td>-1</td>\n",
       "    </tr>\n",
       "  </tbody>\n",
       "</table>\n",
       "</div>"
      ],
      "text/plain": [
       "                                                 name  \\\n",
       "10                          Our Baby Girl Memory Book   \n",
       "11  Wall Decor Removable Decal Sticker - Colorful ...   \n",
       "12  New Style Trailing Cherry Blossom Tree Decal R...   \n",
       "\n",
       "                                               review  rating  \\\n",
       "10  Absolutely love it and all of the Scripture in...       5   \n",
       "11  Would not purchase again or recommend. The dec...       2   \n",
       "12  Was so excited to get this product for my baby...       1   \n",
       "\n",
       "                                         review_clean  sentiment  \n",
       "10  Absolutely love it and all of the Scripture in...          1  \n",
       "11  Would not purchase again or recommend The deca...         -1  \n",
       "12  Was so excited to get this product for my baby...         -1  "
      ]
     },
     "execution_count": 98,
     "metadata": {},
     "output_type": "execute_result"
    }
   ],
   "source": [
    "# Selecting rows 10 to 12 from the test_data dataframe.\n",
    "sample_data = test_data.iloc[10:13]\n",
    "sample_data"
   ]
  },
  {
   "cell_type": "code",
   "execution_count": 103,
   "id": "62a3b75d-a312-45b1-bf41-818030139891",
   "metadata": {},
   "outputs": [
    {
     "data": {
      "text/plain": [
       "'Absolutely love it and all of the Scripture in it.  I purchased the Baby Boy version for my grandson when he was born and my daughter-in-law was thrilled to receive the same book again.'"
      ]
     },
     "execution_count": 103,
     "metadata": {},
     "output_type": "execute_result"
    }
   ],
   "source": [
    "sample_data.loc[10]['review']"
   ]
  },
  {
   "cell_type": "code",
   "execution_count": 104,
   "id": "a839d7f2-f2d2-4c9f-8809-62c20aae3e0e",
   "metadata": {},
   "outputs": [
    {
     "data": {
      "text/plain": [
       "'Would not purchase again or recommend. The decals were thick almost plastic like and were coming off the wall as I was applying them! The would NOT stick! Literally stayed stuck for about 5 minutes then started peeling off.'"
      ]
     },
     "execution_count": 104,
     "metadata": {},
     "output_type": "execute_result"
    }
   ],
   "source": [
    "sample_data.loc[11]['review']"
   ]
  },
  {
   "cell_type": "code",
   "execution_count": 106,
   "id": "c2be133f-9899-4a25-a6fd-283e6a8c39b3",
   "metadata": {},
   "outputs": [
    {
     "data": {
      "text/plain": [
       "array([  5.14554318,  -3.20447669, -11.07916963])"
      ]
     },
     "execution_count": 106,
     "metadata": {},
     "output_type": "execute_result"
    }
   ],
   "source": [
    "# Transforming the sample data into a matrix and then using the decision function to calculate the scores.\n",
    "sample_test_matrix = vectorizer.transform(sample_data['review_clean'])\n",
    "scores = lr_model.decision_function(sample_test_matrix)\n",
    "scores"
   ]
  },
  {
   "cell_type": "code",
   "execution_count": 108,
   "id": "222ad8b7-c8da-4bba-ad00-73834c0592af",
   "metadata": {},
   "outputs": [
    {
     "data": {
      "text/plain": [
       "[0.005791571597551336, 0.9610023956909771, 0.9999845698174172]"
      ]
     },
     "execution_count": 108,
     "metadata": {},
     "output_type": "execute_result"
    }
   ],
   "source": [
    "# Applying the sigmoid function to each element in the list `scores`.\n",
    "[1/(1+np.exp(elem)) for elem in scores]"
   ]
  },
  {
   "cell_type": "markdown",
   "id": "124c9437-7adb-4be6-b5bd-511ab2219b2f",
   "metadata": {},
   "source": [
    "## Simpler Model"
   ]
  },
  {
   "cell_type": "code",
   "execution_count": 140,
   "id": "26d54aec-9f13-4469-ba1c-085a41f7f564",
   "metadata": {},
   "outputs": [],
   "source": [
    "significant_words = ['love', 'great', 'easy', 'old', 'little', 'perfect', 'loves', \n",
    "      'well', 'able', 'car', 'broke', 'less', 'even', 'waste', 'disappointed', \n",
    "      'work', 'product', 'money', 'would', 'return']"
   ]
  },
  {
   "cell_type": "code",
   "execution_count": 141,
   "id": "84954730-a6f5-4151-8978-ec120b45abf2",
   "metadata": {},
   "outputs": [],
   "source": [
    "# The below code is creating a vectorizer that only uses the 20 significant words for encoding.\n",
    "vectorizer_word_subset = CountVectorizer(vocabulary=significant_words) # limit to 20 words\n",
    "train_matrix_word_subset = vectorizer_word_subset.fit_transform(train_data['review_clean'])\n",
    "test_matrix_word_subset = vectorizer_word_subset.transform(test_data['review_clean'])"
   ]
  },
  {
   "cell_type": "code",
   "execution_count": 142,
   "id": "bc29420d-417b-40f7-b755-c966fd337a4c",
   "metadata": {},
   "outputs": [
    {
     "data": {
      "text/html": [
       "<style>#sk-container-id-3 {color: black;background-color: white;}#sk-container-id-3 pre{padding: 0;}#sk-container-id-3 div.sk-toggleable {background-color: white;}#sk-container-id-3 label.sk-toggleable__label {cursor: pointer;display: block;width: 100%;margin-bottom: 0;padding: 0.3em;box-sizing: border-box;text-align: center;}#sk-container-id-3 label.sk-toggleable__label-arrow:before {content: \"▸\";float: left;margin-right: 0.25em;color: #696969;}#sk-container-id-3 label.sk-toggleable__label-arrow:hover:before {color: black;}#sk-container-id-3 div.sk-estimator:hover label.sk-toggleable__label-arrow:before {color: black;}#sk-container-id-3 div.sk-toggleable__content {max-height: 0;max-width: 0;overflow: hidden;text-align: left;background-color: #f0f8ff;}#sk-container-id-3 div.sk-toggleable__content pre {margin: 0.2em;color: black;border-radius: 0.25em;background-color: #f0f8ff;}#sk-container-id-3 input.sk-toggleable__control:checked~div.sk-toggleable__content {max-height: 200px;max-width: 100%;overflow: auto;}#sk-container-id-3 input.sk-toggleable__control:checked~label.sk-toggleable__label-arrow:before {content: \"▾\";}#sk-container-id-3 div.sk-estimator input.sk-toggleable__control:checked~label.sk-toggleable__label {background-color: #d4ebff;}#sk-container-id-3 div.sk-label input.sk-toggleable__control:checked~label.sk-toggleable__label {background-color: #d4ebff;}#sk-container-id-3 input.sk-hidden--visually {border: 0;clip: rect(1px 1px 1px 1px);clip: rect(1px, 1px, 1px, 1px);height: 1px;margin: -1px;overflow: hidden;padding: 0;position: absolute;width: 1px;}#sk-container-id-3 div.sk-estimator {font-family: monospace;background-color: #f0f8ff;border: 1px dotted black;border-radius: 0.25em;box-sizing: border-box;margin-bottom: 0.5em;}#sk-container-id-3 div.sk-estimator:hover {background-color: #d4ebff;}#sk-container-id-3 div.sk-parallel-item::after {content: \"\";width: 100%;border-bottom: 1px solid gray;flex-grow: 1;}#sk-container-id-3 div.sk-label:hover label.sk-toggleable__label {background-color: #d4ebff;}#sk-container-id-3 div.sk-serial::before {content: \"\";position: absolute;border-left: 1px solid gray;box-sizing: border-box;top: 0;bottom: 0;left: 50%;z-index: 0;}#sk-container-id-3 div.sk-serial {display: flex;flex-direction: column;align-items: center;background-color: white;padding-right: 0.2em;padding-left: 0.2em;position: relative;}#sk-container-id-3 div.sk-item {position: relative;z-index: 1;}#sk-container-id-3 div.sk-parallel {display: flex;align-items: stretch;justify-content: center;background-color: white;position: relative;}#sk-container-id-3 div.sk-item::before, #sk-container-id-3 div.sk-parallel-item::before {content: \"\";position: absolute;border-left: 1px solid gray;box-sizing: border-box;top: 0;bottom: 0;left: 50%;z-index: -1;}#sk-container-id-3 div.sk-parallel-item {display: flex;flex-direction: column;z-index: 1;position: relative;background-color: white;}#sk-container-id-3 div.sk-parallel-item:first-child::after {align-self: flex-end;width: 50%;}#sk-container-id-3 div.sk-parallel-item:last-child::after {align-self: flex-start;width: 50%;}#sk-container-id-3 div.sk-parallel-item:only-child::after {width: 0;}#sk-container-id-3 div.sk-dashed-wrapped {border: 1px dashed gray;margin: 0 0.4em 0.5em 0.4em;box-sizing: border-box;padding-bottom: 0.4em;background-color: white;}#sk-container-id-3 div.sk-label label {font-family: monospace;font-weight: bold;display: inline-block;line-height: 1.2em;}#sk-container-id-3 div.sk-label-container {text-align: center;}#sk-container-id-3 div.sk-container {/* jupyter's `normalize.less` sets `[hidden] { display: none; }` but bootstrap.min.css set `[hidden] { display: none !important; }` so we also need the `!important` here to be able to override the default hidden behavior on the sphinx rendered scikit-learn.org. See: https://github.com/scikit-learn/scikit-learn/issues/21755 */display: inline-block !important;position: relative;}#sk-container-id-3 div.sk-text-repr-fallback {display: none;}</style><div id=\"sk-container-id-3\" class=\"sk-top-container\"><div class=\"sk-text-repr-fallback\"><pre>LogisticRegression()</pre><b>In a Jupyter environment, please rerun this cell to show the HTML representation or trust the notebook. <br />On GitHub, the HTML representation is unable to render, please try loading this page with nbviewer.org.</b></div><div class=\"sk-container\" hidden><div class=\"sk-item\"><div class=\"sk-estimator sk-toggleable\"><input class=\"sk-toggleable__control sk-hidden--visually\" id=\"sk-estimator-id-3\" type=\"checkbox\" checked><label for=\"sk-estimator-id-3\" class=\"sk-toggleable__label sk-toggleable__label-arrow\">LogisticRegression</label><div class=\"sk-toggleable__content\"><pre>LogisticRegression()</pre></div></div></div></div></div>"
      ],
      "text/plain": [
       "LogisticRegression()"
      ]
     },
     "execution_count": 142,
     "metadata": {},
     "output_type": "execute_result"
    }
   ],
   "source": [
    "# Fitting a logistic regression model to the training data.\n",
    "simple_lr_model = LogisticRegression()\n",
    "simple_lr_model.fit(train_matrix_word_subset,train_target)"
   ]
  },
  {
   "cell_type": "markdown",
   "id": "28c134a3-92ed-4d31-a03a-50bd172d06fd",
   "metadata": {},
   "source": [
    "## Questions"
   ]
  },
  {
   "cell_type": "markdown",
   "id": "2f8c08be-ceae-4ceb-ab2c-b24df7262d36",
   "metadata": {},
   "source": [
    "> Question 1\n",
    ">\n",
    "> How many weights are greater than or equal to 0?"
   ]
  },
  {
   "cell_type": "code",
   "execution_count": 69,
   "id": "9177d468-a176-4b91-931f-9cb8d73d664e",
   "metadata": {},
   "outputs": [
    {
     "data": {
      "text/plain": [
       "90262"
      ]
     },
     "execution_count": 69,
     "metadata": {},
     "output_type": "execute_result"
    }
   ],
   "source": [
    "# Counting the number of coefficients that are greater than 0.\n",
    "(lr_model.coef_>0).sum()"
   ]
  },
  {
   "cell_type": "markdown",
   "id": "cec158bb-752f-40b0-8a3d-c0d9434e9720",
   "metadata": {},
   "source": [
    "> Question 2\n",
    "> \n",
    "> Of the three data points in sample_test_data, which one has the lowest probability of being classified as a positive review?\n"
   ]
  },
  {
   "cell_type": "code",
   "execution_count": 159,
   "id": "d9e778e5-ed9f-406e-a50e-a72c856e50f5",
   "metadata": {},
   "outputs": [
    {
     "data": {
      "text/plain": [
       "array([9.94208428e-01, 3.89976043e-02, 1.54301826e-05])"
      ]
     },
     "execution_count": 159,
     "metadata": {},
     "output_type": "execute_result"
    }
   ],
   "source": [
    "# Predicting the probability of the first class (class 1) for the first three rows of the test matrix.\n",
    "lr_model.predict_proba(test_matrix[10:13])[:,1]"
   ]
  },
  {
   "cell_type": "markdown",
   "id": "9f51a93c-f294-4f23-8e8e-8c01245be57a",
   "metadata": {},
   "source": [
    "> Question 3\n",
    "> \n",
    "> Which of the following products are represented in the 20 most positive reviews?"
   ]
  },
  {
   "cell_type": "code",
   "execution_count": 139,
   "id": "76633feb-f371-4d2d-a814-2600da30d00c",
   "metadata": {},
   "outputs": [
    {
     "data": {
      "text/html": [
       "<div>\n",
       "<style scoped>\n",
       "    .dataframe tbody tr th:only-of-type {\n",
       "        vertical-align: middle;\n",
       "    }\n",
       "\n",
       "    .dataframe tbody tr th {\n",
       "        vertical-align: top;\n",
       "    }\n",
       "\n",
       "    .dataframe thead th {\n",
       "        text-align: right;\n",
       "    }\n",
       "</style>\n",
       "<table border=\"1\" class=\"dataframe\">\n",
       "  <thead>\n",
       "    <tr style=\"text-align: right;\">\n",
       "      <th></th>\n",
       "      <th>name</th>\n",
       "      <th>review</th>\n",
       "      <th>rating</th>\n",
       "      <th>review_clean</th>\n",
       "      <th>sentiment</th>\n",
       "    </tr>\n",
       "  </thead>\n",
       "  <tbody>\n",
       "    <tr>\n",
       "      <th>2570</th>\n",
       "      <td>Stork Craft Beatrice Combo Tower Chest, White</td>\n",
       "      <td>I bought the tower despite the bad reviews and...</td>\n",
       "      <td>5</td>\n",
       "      <td>I bought the tower despite the bad reviews and...</td>\n",
       "      <td>1</td>\n",
       "    </tr>\n",
       "    <tr>\n",
       "      <th>9555</th>\n",
       "      <td>Evenflo X Sport Plus Convenience Stroller - Ch...</td>\n",
       "      <td>After seeing this in Parent's Magazine and rea...</td>\n",
       "      <td>5</td>\n",
       "      <td>After seeing this in Parents Magazine and read...</td>\n",
       "      <td>1</td>\n",
       "    </tr>\n",
       "    <tr>\n",
       "      <th>11923</th>\n",
       "      <td>Evenflo 6 Pack Classic Glass Bottle, 4-Ounce</td>\n",
       "      <td>It's always fun to write a review on those pro...</td>\n",
       "      <td>5</td>\n",
       "      <td>Its always fun to write a review on those prod...</td>\n",
       "      <td>1</td>\n",
       "    </tr>\n",
       "    <tr>\n",
       "      <th>15732</th>\n",
       "      <td>Baby Einstein Around The World Discovery Center</td>\n",
       "      <td>I am so HAPPY I brought this item for my 7 mon...</td>\n",
       "      <td>5</td>\n",
       "      <td>I am so HAPPY I brought this item for my 7 mon...</td>\n",
       "      <td>1</td>\n",
       "    </tr>\n",
       "    <tr>\n",
       "      <th>18112</th>\n",
       "      <td>Infantino Wrap and Tie Baby Carrier, Black Blu...</td>\n",
       "      <td>I bought this carrier when my daughter was abo...</td>\n",
       "      <td>5</td>\n",
       "      <td>I bought this carrier when my daughter was abo...</td>\n",
       "      <td>1</td>\n",
       "    </tr>\n",
       "    <tr>\n",
       "      <th>20743</th>\n",
       "      <td>Fisher-Price Cradle 'N Swing,  My Little Snuga...</td>\n",
       "      <td>My husband and I cannot state enough how much ...</td>\n",
       "      <td>5</td>\n",
       "      <td>My husband and I cannot state enough how much ...</td>\n",
       "      <td>1</td>\n",
       "    </tr>\n",
       "    <tr>\n",
       "      <th>21531</th>\n",
       "      <td>Roan Rocco Classic Pram Stroller 2-in-1 with B...</td>\n",
       "      <td>Great Pram Rocco!!!!!!I bought this pram from ...</td>\n",
       "      <td>5</td>\n",
       "      <td>Great Pram RoccoI bought this pram from Europe...</td>\n",
       "      <td>1</td>\n",
       "    </tr>\n",
       "    <tr>\n",
       "      <th>24286</th>\n",
       "      <td>Britax 2012 B-Agile Stroller, Red</td>\n",
       "      <td>[I got this stroller for my daughter prior to ...</td>\n",
       "      <td>4</td>\n",
       "      <td>I got this stroller for my daughter prior to t...</td>\n",
       "      <td>1</td>\n",
       "    </tr>\n",
       "    <tr>\n",
       "      <th>24899</th>\n",
       "      <td>Graco Pack 'n Play Element Playard - Flint</td>\n",
       "      <td>My husband and I assembled this Pack n' Play l...</td>\n",
       "      <td>4</td>\n",
       "      <td>My husband and I assembled this Pack n Play la...</td>\n",
       "      <td>1</td>\n",
       "    </tr>\n",
       "    <tr>\n",
       "      <th>25554</th>\n",
       "      <td>Diono RadianRXT Convertible Car Seat, Plum</td>\n",
       "      <td>I bought this seat for my tall (38in) and thin...</td>\n",
       "      <td>5</td>\n",
       "      <td>I bought this seat for my tall 38in and thin 2...</td>\n",
       "      <td>1</td>\n",
       "    </tr>\n",
       "    <tr>\n",
       "      <th>30535</th>\n",
       "      <td>Buttons Cloth Diaper Cover - One Size - 8 Colo...</td>\n",
       "      <td>We are big Best Bottoms fans here, but I wante...</td>\n",
       "      <td>4</td>\n",
       "      <td>We are big Best Bottoms fans here but I wanted...</td>\n",
       "      <td>1</td>\n",
       "    </tr>\n",
       "    <tr>\n",
       "      <th>30634</th>\n",
       "      <td>Graco FastAction Fold Jogger Click Connect Str...</td>\n",
       "      <td>Graco's FastAction Jogging Stroller definitely...</td>\n",
       "      <td>5</td>\n",
       "      <td>Gracos FastAction Jogging Stroller definitely ...</td>\n",
       "      <td>1</td>\n",
       "    </tr>\n",
       "    <tr>\n",
       "      <th>32782</th>\n",
       "      <td>Mamas &amp;amp; Papas 2014 Urbo2 Stroller - Black</td>\n",
       "      <td>After much research I purchased an Urbo2. It's...</td>\n",
       "      <td>4</td>\n",
       "      <td>After much research I purchased an Urbo2 Its e...</td>\n",
       "      <td>1</td>\n",
       "    </tr>\n",
       "    <tr>\n",
       "      <th>17558</th>\n",
       "      <td>Freemie Hands-Free Concealable Breast Pump Col...</td>\n",
       "      <td>I absolutely love this product.  I work as a C...</td>\n",
       "      <td>5</td>\n",
       "      <td>I absolutely love this product  I work as a Cu...</td>\n",
       "      <td>1</td>\n",
       "    </tr>\n",
       "    <tr>\n",
       "      <th>30297</th>\n",
       "      <td>Britax Boulevard 70-G3 Convertible Car Seat Se...</td>\n",
       "      <td>We just purchased this seat for our eight mont...</td>\n",
       "      <td>5</td>\n",
       "      <td>We just purchased this seat for our eight mont...</td>\n",
       "      <td>1</td>\n",
       "    </tr>\n",
       "    <tr>\n",
       "      <th>9125</th>\n",
       "      <td>P'Kolino Silly Soft Seating in Tias, Green</td>\n",
       "      <td>I've purchased both the P'Kolino Little Reader...</td>\n",
       "      <td>4</td>\n",
       "      <td>Ive purchased both the PKolino Little Reader C...</td>\n",
       "      <td>1</td>\n",
       "    </tr>\n",
       "    <tr>\n",
       "      <th>26838</th>\n",
       "      <td>Baby Jogger City Mini GT Double Stroller, Shad...</td>\n",
       "      <td>We are well pleased with this stroller, and I ...</td>\n",
       "      <td>4</td>\n",
       "      <td>We are well pleased with this stroller and I w...</td>\n",
       "      <td>1</td>\n",
       "    </tr>\n",
       "    <tr>\n",
       "      <th>14482</th>\n",
       "      <td>Simple Wishes Hands-Free Breastpump Bra, Pink,...</td>\n",
       "      <td>I just tried this hands free breastpump bra, a...</td>\n",
       "      <td>5</td>\n",
       "      <td>I just tried this hands free breastpump bra an...</td>\n",
       "      <td>1</td>\n",
       "    </tr>\n",
       "    <tr>\n",
       "      <th>26830</th>\n",
       "      <td>Baby Jogger City Mini GT Single Stroller, Shad...</td>\n",
       "      <td>Amazing, Love, Love, Love it !!! All 5 STARS a...</td>\n",
       "      <td>5</td>\n",
       "      <td>Amazing Love Love Love it  All 5 STARS all the...</td>\n",
       "      <td>1</td>\n",
       "    </tr>\n",
       "    <tr>\n",
       "      <th>30076</th>\n",
       "      <td>Ikea 36 Pcs Kalas Kids Plastic BPA Free Flatwa...</td>\n",
       "      <td>For the price this set is unbelievable- and tr...</td>\n",
       "      <td>5</td>\n",
       "      <td>For the price this set is unbelievable and tru...</td>\n",
       "      <td>1</td>\n",
       "    </tr>\n",
       "  </tbody>\n",
       "</table>\n",
       "</div>"
      ],
      "text/plain": [
       "                                                    name  \\\n",
       "2570       Stork Craft Beatrice Combo Tower Chest, White   \n",
       "9555   Evenflo X Sport Plus Convenience Stroller - Ch...   \n",
       "11923       Evenflo 6 Pack Classic Glass Bottle, 4-Ounce   \n",
       "15732    Baby Einstein Around The World Discovery Center   \n",
       "18112  Infantino Wrap and Tie Baby Carrier, Black Blu...   \n",
       "20743  Fisher-Price Cradle 'N Swing,  My Little Snuga...   \n",
       "21531  Roan Rocco Classic Pram Stroller 2-in-1 with B...   \n",
       "24286                  Britax 2012 B-Agile Stroller, Red   \n",
       "24899         Graco Pack 'n Play Element Playard - Flint   \n",
       "25554         Diono RadianRXT Convertible Car Seat, Plum   \n",
       "30535  Buttons Cloth Diaper Cover - One Size - 8 Colo...   \n",
       "30634  Graco FastAction Fold Jogger Click Connect Str...   \n",
       "32782      Mamas &amp; Papas 2014 Urbo2 Stroller - Black   \n",
       "17558  Freemie Hands-Free Concealable Breast Pump Col...   \n",
       "30297  Britax Boulevard 70-G3 Convertible Car Seat Se...   \n",
       "9125          P'Kolino Silly Soft Seating in Tias, Green   \n",
       "26838  Baby Jogger City Mini GT Double Stroller, Shad...   \n",
       "14482  Simple Wishes Hands-Free Breastpump Bra, Pink,...   \n",
       "26830  Baby Jogger City Mini GT Single Stroller, Shad...   \n",
       "30076  Ikea 36 Pcs Kalas Kids Plastic BPA Free Flatwa...   \n",
       "\n",
       "                                                  review  rating  \\\n",
       "2570   I bought the tower despite the bad reviews and...       5   \n",
       "9555   After seeing this in Parent's Magazine and rea...       5   \n",
       "11923  It's always fun to write a review on those pro...       5   \n",
       "15732  I am so HAPPY I brought this item for my 7 mon...       5   \n",
       "18112  I bought this carrier when my daughter was abo...       5   \n",
       "20743  My husband and I cannot state enough how much ...       5   \n",
       "21531  Great Pram Rocco!!!!!!I bought this pram from ...       5   \n",
       "24286  [I got this stroller for my daughter prior to ...       4   \n",
       "24899  My husband and I assembled this Pack n' Play l...       4   \n",
       "25554  I bought this seat for my tall (38in) and thin...       5   \n",
       "30535  We are big Best Bottoms fans here, but I wante...       4   \n",
       "30634  Graco's FastAction Jogging Stroller definitely...       5   \n",
       "32782  After much research I purchased an Urbo2. It's...       4   \n",
       "17558  I absolutely love this product.  I work as a C...       5   \n",
       "30297  We just purchased this seat for our eight mont...       5   \n",
       "9125   I've purchased both the P'Kolino Little Reader...       4   \n",
       "26838  We are well pleased with this stroller, and I ...       4   \n",
       "14482  I just tried this hands free breastpump bra, a...       5   \n",
       "26830  Amazing, Love, Love, Love it !!! All 5 STARS a...       5   \n",
       "30076  For the price this set is unbelievable- and tr...       5   \n",
       "\n",
       "                                            review_clean  sentiment  \n",
       "2570   I bought the tower despite the bad reviews and...          1  \n",
       "9555   After seeing this in Parents Magazine and read...          1  \n",
       "11923  Its always fun to write a review on those prod...          1  \n",
       "15732  I am so HAPPY I brought this item for my 7 mon...          1  \n",
       "18112  I bought this carrier when my daughter was abo...          1  \n",
       "20743  My husband and I cannot state enough how much ...          1  \n",
       "21531  Great Pram RoccoI bought this pram from Europe...          1  \n",
       "24286  I got this stroller for my daughter prior to t...          1  \n",
       "24899  My husband and I assembled this Pack n Play la...          1  \n",
       "25554  I bought this seat for my tall 38in and thin 2...          1  \n",
       "30535  We are big Best Bottoms fans here but I wanted...          1  \n",
       "30634  Gracos FastAction Jogging Stroller definitely ...          1  \n",
       "32782  After much research I purchased an Urbo2 Its e...          1  \n",
       "17558  I absolutely love this product  I work as a Cu...          1  \n",
       "30297  We just purchased this seat for our eight mont...          1  \n",
       "9125   Ive purchased both the PKolino Little Reader C...          1  \n",
       "26838  We are well pleased with this stroller and I w...          1  \n",
       "14482  I just tried this hands free breastpump bra an...          1  \n",
       "26830  Amazing Love Love Love it  All 5 STARS all the...          1  \n",
       "30076  For the price this set is unbelievable and tru...          1  "
      ]
     },
     "execution_count": 139,
     "metadata": {},
     "output_type": "execute_result"
    }
   ],
   "source": [
    "# Zipping the index of the test data with the probability of the first class (1)\n",
    "index_prob = list(zip(test_data.index, lr_model.predict_proba(test_matrix)[:,1]))\n",
    "# Sorting the list of tuples by the second element in the tuple which is probability in descending order.\n",
    "index_prob.sort(key=lambda x:x[1],reverse=True)\n",
    "# Getting the first 20 positive predictions index by unziping the tuples and making it to a list\n",
    "top_20_positive_index = list(list(zip(*index_prob[:20]))[0])\n",
    "test_data.loc[top_20_positive_index]"
   ]
  },
  {
   "cell_type": "markdown",
   "id": "b319bc9b-2226-4eec-b59d-b1b5e6209257",
   "metadata": {},
   "source": [
    "\n",
    "> Question 4\n",
    "> \n",
    "> Which of the following products are represented in the 20 most negative reviews?\n",
    ">"
   ]
  },
  {
   "cell_type": "code",
   "execution_count": 138,
   "id": "7d17dc02-02c9-4434-9ccb-da09574de223",
   "metadata": {},
   "outputs": [
    {
     "data": {
      "text/html": [
       "<div>\n",
       "<style scoped>\n",
       "    .dataframe tbody tr th:only-of-type {\n",
       "        vertical-align: middle;\n",
       "    }\n",
       "\n",
       "    .dataframe tbody tr th {\n",
       "        vertical-align: top;\n",
       "    }\n",
       "\n",
       "    .dataframe thead th {\n",
       "        text-align: right;\n",
       "    }\n",
       "</style>\n",
       "<table border=\"1\" class=\"dataframe\">\n",
       "  <thead>\n",
       "    <tr style=\"text-align: right;\">\n",
       "      <th></th>\n",
       "      <th>name</th>\n",
       "      <th>review</th>\n",
       "      <th>rating</th>\n",
       "      <th>review_clean</th>\n",
       "      <th>sentiment</th>\n",
       "    </tr>\n",
       "  </thead>\n",
       "  <tbody>\n",
       "    <tr>\n",
       "      <th>17069</th>\n",
       "      <td>The First Years True Choice P400 Premium Digit...</td>\n",
       "      <td>Note: we never installed batteries in these un...</td>\n",
       "      <td>1</td>\n",
       "      <td>Note we never installed batteries in these uni...</td>\n",
       "      <td>-1</td>\n",
       "    </tr>\n",
       "    <tr>\n",
       "      <th>2931</th>\n",
       "      <td>Fisher-Price Ocean Wonders Aquarium Bouncer</td>\n",
       "      <td>We have not had ANY luck with Fisher-Price pro...</td>\n",
       "      <td>2</td>\n",
       "      <td>We have not had ANY luck with FisherPrice prod...</td>\n",
       "      <td>-1</td>\n",
       "    </tr>\n",
       "    <tr>\n",
       "      <th>21700</th>\n",
       "      <td>Levana Safe N'See Digital Video Baby Monitor w...</td>\n",
       "      <td>This is the first review I have ever written o...</td>\n",
       "      <td>1</td>\n",
       "      <td>This is the first review I have ever written o...</td>\n",
       "      <td>-1</td>\n",
       "    </tr>\n",
       "    <tr>\n",
       "      <th>28184</th>\n",
       "      <td>VTech Communications Safe &amp;amp; Sounds Full Co...</td>\n",
       "      <td>This is my second video monitoring system, the...</td>\n",
       "      <td>1</td>\n",
       "      <td>This is my second video monitoring system the ...</td>\n",
       "      <td>-1</td>\n",
       "    </tr>\n",
       "    <tr>\n",
       "      <th>9655</th>\n",
       "      <td>Safety 1st High-Def Digital Monitor</td>\n",
       "      <td>We bought this baby monitor to replace a diffe...</td>\n",
       "      <td>1</td>\n",
       "      <td>We bought this baby monitor to replace a diffe...</td>\n",
       "      <td>-1</td>\n",
       "    </tr>\n",
       "    <tr>\n",
       "      <th>30373</th>\n",
       "      <td>Samsung SEW-3037W Wireless Pan Tilt Video Baby...</td>\n",
       "      <td>Reviewers. You failed me!This thing worked for...</td>\n",
       "      <td>1</td>\n",
       "      <td>Reviewers You failed meThis thing worked for 2...</td>\n",
       "      <td>-1</td>\n",
       "    </tr>\n",
       "    <tr>\n",
       "      <th>14711</th>\n",
       "      <td>Cloth Diaper Sprayer--styles may vary</td>\n",
       "      <td>I bought this sprayer out of desperation durin...</td>\n",
       "      <td>1</td>\n",
       "      <td>I bought this sprayer out of desperation durin...</td>\n",
       "      <td>-1</td>\n",
       "    </tr>\n",
       "    <tr>\n",
       "      <th>8818</th>\n",
       "      <td>Adiri BPA Free Natural Nurser Ultimate Bottle ...</td>\n",
       "      <td>I will try to write an objective review of the...</td>\n",
       "      <td>2</td>\n",
       "      <td>I will try to write an objective review of the...</td>\n",
       "      <td>-1</td>\n",
       "    </tr>\n",
       "    <tr>\n",
       "      <th>31928</th>\n",
       "      <td>Baby Trend Inertia Infant Car Seat - Horizon</td>\n",
       "      <td>I really wanted to love this seat; however, I ...</td>\n",
       "      <td>1</td>\n",
       "      <td>I really wanted to love this seat however I wo...</td>\n",
       "      <td>-1</td>\n",
       "    </tr>\n",
       "    <tr>\n",
       "      <th>10814</th>\n",
       "      <td>Ellaroo Mei Tai Baby Carrier - Hershey</td>\n",
       "      <td>This is basically an overpriced piece of fabri...</td>\n",
       "      <td>1</td>\n",
       "      <td>This is basically an overpriced piece of fabri...</td>\n",
       "      <td>-1</td>\n",
       "    </tr>\n",
       "    <tr>\n",
       "      <th>17222</th>\n",
       "      <td>One Step Ahead Hide-Away Extra Long Bed Rail</td>\n",
       "      <td>I bought a brand new 56\" hide-away bed safety ...</td>\n",
       "      <td>1</td>\n",
       "      <td>I bought a brand new 56 hideaway bed safety ra...</td>\n",
       "      <td>-1</td>\n",
       "    </tr>\n",
       "    <tr>\n",
       "      <th>13939</th>\n",
       "      <td>Safety 1st Exchangeable Tip 3 in 1 Thermometer</td>\n",
       "      <td>I thought it sounded great to have different t...</td>\n",
       "      <td>1</td>\n",
       "      <td>I thought it sounded great to have different t...</td>\n",
       "      <td>-1</td>\n",
       "    </tr>\n",
       "    <tr>\n",
       "      <th>17428</th>\n",
       "      <td>Baby Jogger Summit XC Double Stroller, Red/Black</td>\n",
       "      <td>Received Jogger as a shower gift so it sat in ...</td>\n",
       "      <td>1</td>\n",
       "      <td>Received Jogger as a shower gift so it sat in ...</td>\n",
       "      <td>-1</td>\n",
       "    </tr>\n",
       "    <tr>\n",
       "      <th>17034</th>\n",
       "      <td>Snuza Portable Baby Movement Monitor</td>\n",
       "      <td>I would have given the product 4 stars for whi...</td>\n",
       "      <td>1</td>\n",
       "      <td>I would have given the product 4 stars for whi...</td>\n",
       "      <td>-1</td>\n",
       "    </tr>\n",
       "    <tr>\n",
       "      <th>13752</th>\n",
       "      <td>Peg-Perego Tatamia High Chair, White Latte</td>\n",
       "      <td>I ordered this high chair with the brown seat ...</td>\n",
       "      <td>1</td>\n",
       "      <td>I ordered this high chair with the brown seat ...</td>\n",
       "      <td>-1</td>\n",
       "    </tr>\n",
       "    <tr>\n",
       "      <th>205</th>\n",
       "      <td>Safety 1st Deluxe 4-in-1 Bath Station</td>\n",
       "      <td>This item is junk.  I originally chose it beca...</td>\n",
       "      <td>1</td>\n",
       "      <td>This item is junk  I originally chose it becau...</td>\n",
       "      <td>-1</td>\n",
       "    </tr>\n",
       "    <tr>\n",
       "      <th>28120</th>\n",
       "      <td>VTech Communications Safe &amp;amp; Sound Digital ...</td>\n",
       "      <td>First, the distance on these are no more than ...</td>\n",
       "      <td>1</td>\n",
       "      <td>First the distance on these are no more than 7...</td>\n",
       "      <td>-1</td>\n",
       "    </tr>\n",
       "    <tr>\n",
       "      <th>20594</th>\n",
       "      <td>Motorola Digital Video Baby Monitor with Room ...</td>\n",
       "      <td>DO NOT BUY THIS BABY MONITOR!I purchased this ...</td>\n",
       "      <td>1</td>\n",
       "      <td>DO NOT BUY THIS BABY MONITORI purchased this m...</td>\n",
       "      <td>-1</td>\n",
       "    </tr>\n",
       "    <tr>\n",
       "      <th>5831</th>\n",
       "      <td>Regalo My Cot Portable Bed, Royal Blue</td>\n",
       "      <td>If I could give this product zero stars I woul...</td>\n",
       "      <td>1</td>\n",
       "      <td>If I could give this product zero stars I woul...</td>\n",
       "      <td>-1</td>\n",
       "    </tr>\n",
       "    <tr>\n",
       "      <th>1942</th>\n",
       "      <td>Philips AVENT Newborn Starter Set</td>\n",
       "      <td>It's 3am in the morning and needless to say, t...</td>\n",
       "      <td>1</td>\n",
       "      <td>Its 3am in the morning and needless to say thi...</td>\n",
       "      <td>-1</td>\n",
       "    </tr>\n",
       "  </tbody>\n",
       "</table>\n",
       "</div>"
      ],
      "text/plain": [
       "                                                    name  \\\n",
       "17069  The First Years True Choice P400 Premium Digit...   \n",
       "2931         Fisher-Price Ocean Wonders Aquarium Bouncer   \n",
       "21700  Levana Safe N'See Digital Video Baby Monitor w...   \n",
       "28184  VTech Communications Safe &amp; Sounds Full Co...   \n",
       "9655                 Safety 1st High-Def Digital Monitor   \n",
       "30373  Samsung SEW-3037W Wireless Pan Tilt Video Baby...   \n",
       "14711              Cloth Diaper Sprayer--styles may vary   \n",
       "8818   Adiri BPA Free Natural Nurser Ultimate Bottle ...   \n",
       "31928       Baby Trend Inertia Infant Car Seat - Horizon   \n",
       "10814             Ellaroo Mei Tai Baby Carrier - Hershey   \n",
       "17222       One Step Ahead Hide-Away Extra Long Bed Rail   \n",
       "13939     Safety 1st Exchangeable Tip 3 in 1 Thermometer   \n",
       "17428   Baby Jogger Summit XC Double Stroller, Red/Black   \n",
       "17034               Snuza Portable Baby Movement Monitor   \n",
       "13752         Peg-Perego Tatamia High Chair, White Latte   \n",
       "205                Safety 1st Deluxe 4-in-1 Bath Station   \n",
       "28120  VTech Communications Safe &amp; Sound Digital ...   \n",
       "20594  Motorola Digital Video Baby Monitor with Room ...   \n",
       "5831              Regalo My Cot Portable Bed, Royal Blue   \n",
       "1942                   Philips AVENT Newborn Starter Set   \n",
       "\n",
       "                                                  review  rating  \\\n",
       "17069  Note: we never installed batteries in these un...       1   \n",
       "2931   We have not had ANY luck with Fisher-Price pro...       2   \n",
       "21700  This is the first review I have ever written o...       1   \n",
       "28184  This is my second video monitoring system, the...       1   \n",
       "9655   We bought this baby monitor to replace a diffe...       1   \n",
       "30373  Reviewers. You failed me!This thing worked for...       1   \n",
       "14711  I bought this sprayer out of desperation durin...       1   \n",
       "8818   I will try to write an objective review of the...       2   \n",
       "31928  I really wanted to love this seat; however, I ...       1   \n",
       "10814  This is basically an overpriced piece of fabri...       1   \n",
       "17222  I bought a brand new 56\" hide-away bed safety ...       1   \n",
       "13939  I thought it sounded great to have different t...       1   \n",
       "17428  Received Jogger as a shower gift so it sat in ...       1   \n",
       "17034  I would have given the product 4 stars for whi...       1   \n",
       "13752  I ordered this high chair with the brown seat ...       1   \n",
       "205    This item is junk.  I originally chose it beca...       1   \n",
       "28120  First, the distance on these are no more than ...       1   \n",
       "20594  DO NOT BUY THIS BABY MONITOR!I purchased this ...       1   \n",
       "5831   If I could give this product zero stars I woul...       1   \n",
       "1942   It's 3am in the morning and needless to say, t...       1   \n",
       "\n",
       "                                            review_clean  sentiment  \n",
       "17069  Note we never installed batteries in these uni...         -1  \n",
       "2931   We have not had ANY luck with FisherPrice prod...         -1  \n",
       "21700  This is the first review I have ever written o...         -1  \n",
       "28184  This is my second video monitoring system the ...         -1  \n",
       "9655   We bought this baby monitor to replace a diffe...         -1  \n",
       "30373  Reviewers You failed meThis thing worked for 2...         -1  \n",
       "14711  I bought this sprayer out of desperation durin...         -1  \n",
       "8818   I will try to write an objective review of the...         -1  \n",
       "31928  I really wanted to love this seat however I wo...         -1  \n",
       "10814  This is basically an overpriced piece of fabri...         -1  \n",
       "17222  I bought a brand new 56 hideaway bed safety ra...         -1  \n",
       "13939  I thought it sounded great to have different t...         -1  \n",
       "17428  Received Jogger as a shower gift so it sat in ...         -1  \n",
       "17034  I would have given the product 4 stars for whi...         -1  \n",
       "13752  I ordered this high chair with the brown seat ...         -1  \n",
       "205    This item is junk  I originally chose it becau...         -1  \n",
       "28120  First the distance on these are no more than 7...         -1  \n",
       "20594  DO NOT BUY THIS BABY MONITORI purchased this m...         -1  \n",
       "5831   If I could give this product zero stars I woul...         -1  \n",
       "1942   Its 3am in the morning and needless to say thi...         -1  "
      ]
     },
     "execution_count": 138,
     "metadata": {},
     "output_type": "execute_result"
    }
   ],
   "source": [
    "# Zipping the index of the test data with the probability of the second class (-1)\n",
    "index_prob = list(zip(test_data.index, lr_model.predict_proba(test_matrix)[:,0]))\n",
    "# Sorting the list of tuples by the second element in the tuple which is probability in descending order.\n",
    "index_prob.sort(key=lambda x:x[1], reverse=True)\n",
    "# Getting the first 20 negative predictions index by unziping the tuples and making it to a list\n",
    "top_20_negative_index = list(list(zip(*index_prob[:20]))[0])\n",
    "test_data.loc[top_20_negative_index]"
   ]
  },
  {
   "cell_type": "markdown",
   "id": "7a0e9c3f-6be5-4399-8ea3-8a4c1894373e",
   "metadata": {},
   "source": [
    "> Question 5\n",
    "> \n",
    "> What is the accuracy of the sentiment_model on the test_data? Round your answer to 2 decimal places (e.g. 0.76).\n",
    ">"
   ]
  },
  {
   "cell_type": "code",
   "execution_count": 137,
   "id": "67eadac9-b45b-4903-8f01-766df37b998a",
   "metadata": {},
   "outputs": [
    {
     "data": {
      "text/plain": [
       "0.9320554355651548"
      ]
     },
     "execution_count": 137,
     "metadata": {},
     "output_type": "execute_result"
    }
   ],
   "source": [
    "# Calculating the accuracy of the model.\n",
    "from sklearn import metrics\n",
    "metrics.accuracy_score(test_target, lr_model.predict(test_matrix))"
   ]
  },
  {
   "cell_type": "markdown",
   "id": "b4d15013-008c-4398-b114-8de7a4bc86fc",
   "metadata": {},
   "source": [
    "> Question 7\n",
    "> \n",
    "> Consider the coefficients of simple_model. There should be 21 of them, an intercept term + one for each word in significant_words.\n",
    "> \n",
    "> How many of the 20 coefficients (corresponding to the 20 significant_words and excluding the intercept term) are positive for the simple_model?\n",
    ">\n"
   ]
  },
  {
   "cell_type": "code",
   "execution_count": 143,
   "id": "d11395d8-61a9-4b08-8084-ef6401ec0bc8",
   "metadata": {},
   "outputs": [
    {
     "data": {
      "text/plain": [
       "10"
      ]
     },
     "execution_count": 143,
     "metadata": {},
     "output_type": "execute_result"
    }
   ],
   "source": [
    "# Counting the number of coefficients that are greater than 0.\n",
    "(simple_lr_model.coef_>0).sum()"
   ]
  },
  {
   "cell_type": "markdown",
   "id": "e478307a-8360-428f-9b9a-9578268765c9",
   "metadata": {},
   "source": [
    "> Question 8\n",
    "> \n",
    "> Are the positive words in the simple_model also positive words in the sentiment_model?\n",
    "> "
   ]
  },
  {
   "cell_type": "code",
   "execution_count": 151,
   "id": "0dc2a5e7-9e6c-4a21-a3f7-89e6edb99ed2",
   "metadata": {},
   "outputs": [
    {
     "name": "stdout",
     "output_type": "stream",
     "text": [
      "The positive words in the simple_model are the positive words in the sentiment_model\n"
     ]
    }
   ],
   "source": [
    "# Checking if the positive words in the simple_model are the positive words in the sentiment_model.\n",
    "temp_df = pd.DataFrame(zip(test_data.index,lr_model.predict(test_matrix)), columns=['Indexval','Rank'])\n",
    "for x in zip(test_data.index,simple_lr_model.predict(test_matrix_word_subset)):\n",
    "    if x[0]==1:\n",
    "        if x[1] in temp_df['Indexval'].values.tolist():\n",
    "            continue\n",
    "        else:\n",
    "            print(\"The positive words in the simple_model are not the positive words in the sentiment_model\")\n",
    "            break\n",
    "print(\"The positive words in the simple_model are the positive words in the sentiment_model\")"
   ]
  },
  {
   "cell_type": "markdown",
   "id": "ce016755-c029-4583-a06a-211038ff79f3",
   "metadata": {},
   "source": [
    "> Question 9\n",
    "> \n",
    "> Which model (sentiment_model or simple_model) has higher accuracy on the TRAINING set?\n",
    ">"
   ]
  },
  {
   "cell_type": "code",
   "execution_count": 157,
   "id": "6dce64b0-56c6-4882-a379-7e9718d32c48",
   "metadata": {},
   "outputs": [
    {
     "name": "stdout",
     "output_type": "stream",
     "text": [
      "Train Sentiment Model : 0.9479222881813276\n",
      "Train Simpler Model : 0.8668225700065959\n"
     ]
    }
   ],
   "source": [
    "# Calculating the accuracy of the model.\n",
    "print(\"Train Sentiment Model :\",metrics.accuracy_score(train_target, lr_model.predict(train_matrix)))\n",
    "print(\"Train Simpler Model :\",metrics.accuracy_score(train_target, simple_lr_model.predict(train_matrix_word_subset)))"
   ]
  },
  {
   "cell_type": "markdown",
   "id": "90ab8cbb-0c4f-4bc3-a0c8-2bb961caef93",
   "metadata": {},
   "source": [
    "> Question 10\n",
    "> \n",
    "> Which model (sentiment_model or simple_model) has higher accuracy on the TEST set?\n",
    ">"
   ]
  },
  {
   "cell_type": "code",
   "execution_count": 158,
   "id": "e7296784-33f2-4efc-9046-2f1c8e6f2e91",
   "metadata": {},
   "outputs": [
    {
     "name": "stdout",
     "output_type": "stream",
     "text": [
      "Test Sentiment Model : 0.9320554355651548\n",
      "Test Simpler Model : 0.8693604511639069\n"
     ]
    }
   ],
   "source": [
    "# Calculating the accuracy of the model.\n",
    "print(\"Test Sentiment Model :\",metrics.accuracy_score(test_target, lr_model.predict(test_matrix)))\n",
    "print(\"Test Simpler Model :\",metrics.accuracy_score(test_target, simple_lr_model.predict(test_matrix_word_subset)))"
   ]
  },
  {
   "cell_type": "markdown",
   "id": "6d5b3970-83e7-48e1-8f7a-93dc610b4d62",
   "metadata": {},
   "source": [
    "> Question 11\n",
    "> \n",
    "> Enter the accuracy of the majority class classifier model on the test_data. Round your answer to two decimal places (e.g. 0.76).\n",
    ">"
   ]
  },
  {
   "cell_type": "code",
   "execution_count": 169,
   "id": "e59f49f6-2543-48a9-a748-67870aad1c01",
   "metadata": {},
   "outputs": [
    {
     "name": "stdout",
     "output_type": "stream",
     "text": [
      "Test Majority Model : 0.8427825773938085\n"
     ]
    }
   ],
   "source": [
    "#Majority classifier predicts all the data with the major class found in training\n",
    "majority_value = train_target.value_counts().head(1).index[0]\n",
    "print(\"Test Majority Model :\",metrics.accuracy_score(test_target, [majority_value for i in range(0,len(test_target))]))"
   ]
  },
  {
   "cell_type": "markdown",
   "id": "332d9782-1ba7-443d-88c4-3cf090b3baf4",
   "metadata": {},
   "source": [
    "> Question 12\n",
    "> \n",
    "> Is the sentiment_model definitely better than the majority class classifier (the baseline)?\n",
    ">\n"
   ]
  },
  {
   "cell_type": "code",
   "execution_count": 170,
   "id": "575dcd2f-ac93-4616-a6bb-6b2849585092",
   "metadata": {},
   "outputs": [
    {
     "name": "stdout",
     "output_type": "stream",
     "text": [
      "Test Sentiment Model : 0.9320554355651548\n",
      "Test Majority Model : 0.8427825773938085\n"
     ]
    }
   ],
   "source": [
    "print(\"Test Sentiment Model :\",metrics.accuracy_score(test_target, lr_model.predict(test_matrix)))\n",
    "print(\"Test Majority Model :\",metrics.accuracy_score(test_target, [majority_value for i in range(0,len(test_target))]))"
   ]
  }
 ],
 "metadata": {
  "kernelspec": {
   "display_name": "Python 3 (ipykernel)",
   "language": "python",
   "name": "python3"
  },
  "language_info": {
   "codemirror_mode": {
    "name": "ipython",
    "version": 3
   },
   "file_extension": ".py",
   "mimetype": "text/x-python",
   "name": "python",
   "nbconvert_exporter": "python",
   "pygments_lexer": "ipython3",
   "version": "3.10.1"
  }
 },
 "nbformat": 4,
 "nbformat_minor": 5
}
