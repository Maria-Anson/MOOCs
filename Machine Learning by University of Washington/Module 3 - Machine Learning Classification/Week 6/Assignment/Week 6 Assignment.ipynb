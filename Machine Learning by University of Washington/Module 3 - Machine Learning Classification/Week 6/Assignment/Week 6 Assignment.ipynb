{
 "cells": [
  {
   "cell_type": "markdown",
   "id": "5feafac6-f5db-4386-9b06-604f7ac0b80a",
   "metadata": {},
   "source": [
    "## Loading Dataset"
   ]
  },
  {
   "cell_type": "code",
   "execution_count": 2,
   "id": "3f9adfad-41b4-4bd6-b0c5-adc8a26b823b",
   "metadata": {},
   "outputs": [],
   "source": [
    "import pandas as pd\n",
    "import numpy as np"
   ]
  },
  {
   "cell_type": "code",
   "execution_count": 3,
   "id": "40ed0d88-2ef0-4aa5-b4a4-4d44d4a4013f",
   "metadata": {
    "tags": []
   },
   "outputs": [
    {
     "data": {
      "text/html": [
       "<div>\n",
       "<style scoped>\n",
       "    .dataframe tbody tr th:only-of-type {\n",
       "        vertical-align: middle;\n",
       "    }\n",
       "\n",
       "    .dataframe tbody tr th {\n",
       "        vertical-align: top;\n",
       "    }\n",
       "\n",
       "    .dataframe thead th {\n",
       "        text-align: right;\n",
       "    }\n",
       "</style>\n",
       "<table border=\"1\" class=\"dataframe\">\n",
       "  <thead>\n",
       "    <tr style=\"text-align: right;\">\n",
       "      <th></th>\n",
       "      <th>name</th>\n",
       "      <th>review</th>\n",
       "      <th>rating</th>\n",
       "    </tr>\n",
       "  </thead>\n",
       "  <tbody>\n",
       "    <tr>\n",
       "      <th>0</th>\n",
       "      <td>Planetwise Flannel Wipes</td>\n",
       "      <td>These flannel wipes are OK, but in my opinion ...</td>\n",
       "      <td>3</td>\n",
       "    </tr>\n",
       "    <tr>\n",
       "      <th>1</th>\n",
       "      <td>Planetwise Wipe Pouch</td>\n",
       "      <td>it came early and was not disappointed. i love...</td>\n",
       "      <td>5</td>\n",
       "    </tr>\n",
       "    <tr>\n",
       "      <th>2</th>\n",
       "      <td>Annas Dream Full Quilt with 2 Shams</td>\n",
       "      <td>Very soft and comfortable and warmer than it l...</td>\n",
       "      <td>5</td>\n",
       "    </tr>\n",
       "    <tr>\n",
       "      <th>3</th>\n",
       "      <td>Stop Pacifier Sucking without tears with Thumb...</td>\n",
       "      <td>This is a product well worth the purchase.  I ...</td>\n",
       "      <td>5</td>\n",
       "    </tr>\n",
       "    <tr>\n",
       "      <th>4</th>\n",
       "      <td>Stop Pacifier Sucking without tears with Thumb...</td>\n",
       "      <td>All of my kids have cried non-stop when I trie...</td>\n",
       "      <td>5</td>\n",
       "    </tr>\n",
       "  </tbody>\n",
       "</table>\n",
       "</div>"
      ],
      "text/plain": [
       "                                                name  \\\n",
       "0                           Planetwise Flannel Wipes   \n",
       "1                              Planetwise Wipe Pouch   \n",
       "2                Annas Dream Full Quilt with 2 Shams   \n",
       "3  Stop Pacifier Sucking without tears with Thumb...   \n",
       "4  Stop Pacifier Sucking without tears with Thumb...   \n",
       "\n",
       "                                              review  rating  \n",
       "0  These flannel wipes are OK, but in my opinion ...       3  \n",
       "1  it came early and was not disappointed. i love...       5  \n",
       "2  Very soft and comfortable and warmer than it l...       5  \n",
       "3  This is a product well worth the purchase.  I ...       5  \n",
       "4  All of my kids have cried non-stop when I trie...       5  "
      ]
     },
     "execution_count": 3,
     "metadata": {},
     "output_type": "execute_result"
    }
   ],
   "source": [
    "# Reading the csv file and displaying the first 5 rows of the dataframe.\n",
    "products = pd.read_csv(r'Dataset/amazon_baby.csv')\n",
    "products.head()"
   ]
  },
  {
   "cell_type": "markdown",
   "id": "93374d15-e218-418a-af95-a9cc150a8923",
   "metadata": {},
   "source": [
    "## Cleaning the Data"
   ]
  },
  {
   "cell_type": "code",
   "execution_count": 4,
   "id": "0919360f-ab8e-4eab-bf13-640725819c54",
   "metadata": {},
   "outputs": [
    {
     "data": {
      "text/html": [
       "<div>\n",
       "<style scoped>\n",
       "    .dataframe tbody tr th:only-of-type {\n",
       "        vertical-align: middle;\n",
       "    }\n",
       "\n",
       "    .dataframe tbody tr th {\n",
       "        vertical-align: top;\n",
       "    }\n",
       "\n",
       "    .dataframe thead th {\n",
       "        text-align: right;\n",
       "    }\n",
       "</style>\n",
       "<table border=\"1\" class=\"dataframe\">\n",
       "  <thead>\n",
       "    <tr style=\"text-align: right;\">\n",
       "      <th></th>\n",
       "      <th>name</th>\n",
       "      <th>review</th>\n",
       "      <th>rating</th>\n",
       "      <th>review_clean</th>\n",
       "    </tr>\n",
       "  </thead>\n",
       "  <tbody>\n",
       "    <tr>\n",
       "      <th>0</th>\n",
       "      <td>Planetwise Flannel Wipes</td>\n",
       "      <td>These flannel wipes are OK, but in my opinion ...</td>\n",
       "      <td>3</td>\n",
       "      <td>These flannel wipes are OK but in my opinion n...</td>\n",
       "    </tr>\n",
       "    <tr>\n",
       "      <th>1</th>\n",
       "      <td>Planetwise Wipe Pouch</td>\n",
       "      <td>it came early and was not disappointed. i love...</td>\n",
       "      <td>5</td>\n",
       "      <td>it came early and was not disappointed i love ...</td>\n",
       "    </tr>\n",
       "    <tr>\n",
       "      <th>2</th>\n",
       "      <td>Annas Dream Full Quilt with 2 Shams</td>\n",
       "      <td>Very soft and comfortable and warmer than it l...</td>\n",
       "      <td>5</td>\n",
       "      <td>Very soft and comfortable and warmer than it l...</td>\n",
       "    </tr>\n",
       "    <tr>\n",
       "      <th>3</th>\n",
       "      <td>Stop Pacifier Sucking without tears with Thumb...</td>\n",
       "      <td>This is a product well worth the purchase.  I ...</td>\n",
       "      <td>5</td>\n",
       "      <td>This is a product well worth the purchase  I h...</td>\n",
       "    </tr>\n",
       "    <tr>\n",
       "      <th>4</th>\n",
       "      <td>Stop Pacifier Sucking without tears with Thumb...</td>\n",
       "      <td>All of my kids have cried non-stop when I trie...</td>\n",
       "      <td>5</td>\n",
       "      <td>All of my kids have cried nonstop when I tried...</td>\n",
       "    </tr>\n",
       "  </tbody>\n",
       "</table>\n",
       "</div>"
      ],
      "text/plain": [
       "                                                name  \\\n",
       "0                           Planetwise Flannel Wipes   \n",
       "1                              Planetwise Wipe Pouch   \n",
       "2                Annas Dream Full Quilt with 2 Shams   \n",
       "3  Stop Pacifier Sucking without tears with Thumb...   \n",
       "4  Stop Pacifier Sucking without tears with Thumb...   \n",
       "\n",
       "                                              review  rating  \\\n",
       "0  These flannel wipes are OK, but in my opinion ...       3   \n",
       "1  it came early and was not disappointed. i love...       5   \n",
       "2  Very soft and comfortable and warmer than it l...       5   \n",
       "3  This is a product well worth the purchase.  I ...       5   \n",
       "4  All of my kids have cried non-stop when I trie...       5   \n",
       "\n",
       "                                        review_clean  \n",
       "0  These flannel wipes are OK but in my opinion n...  \n",
       "1  it came early and was not disappointed i love ...  \n",
       "2  Very soft and comfortable and warmer than it l...  \n",
       "3  This is a product well worth the purchase  I h...  \n",
       "4  All of my kids have cried nonstop when I tried...  "
      ]
     },
     "execution_count": 4,
     "metadata": {},
     "output_type": "execute_result"
    }
   ],
   "source": [
    "def remove_punctuation(text):\n",
    "    \"\"\"\n",
    "    The function takes in a string, and returns a new string with all of the punctuation removed. \n",
    "    \n",
    "    The function uses Python's built-in string.punctuation variable, which is a string of all the punctuation characters. \n",
    "    \n",
    "    The function str.translate() takes in a translation table, which you can generate using the maketrans() helper function\n",
    "    in the string library. \n",
    "    \n",
    "    :param text: The text to be processed\n",
    "    :return: A string with all punctuation removed.\n",
    "    \"\"\"\n",
    "    import string\n",
    "    return str(text).translate(str.maketrans('', '', string.punctuation)) \n",
    "\n",
    "# Applying the remove_punctuation function to the review column of the products dataframe.\n",
    "products['review_clean'] = products['review'].apply(remove_punctuation)\n",
    "\n",
    "# Displaying the first 5 rows of the dataframe.\n",
    "products.head()"
   ]
  },
  {
   "cell_type": "code",
   "execution_count": 5,
   "id": "9d9120c5-18b4-4723-8e90-7e2678304e3f",
   "metadata": {},
   "outputs": [],
   "source": [
    "products['sentiment'] = products['rating'].apply(lambda rating : +1 if rating > 3 else -1)"
   ]
  },
  {
   "cell_type": "code",
   "execution_count": 6,
   "id": "1a9a8c6b-a840-499c-b81c-7588b0550f2b",
   "metadata": {},
   "outputs": [],
   "source": [
    "# The below code is loading the train and test index files into the train_index and test_index variables.Index files are used to follow the same implementation done in assignment as it's not done on pandas.\n",
    "import json\n",
    "\n",
    "temp_file = open('Dataset/module-9-assignment-train-idx.json')\n",
    "train_index = json.load(temp_file)\n",
    "temp_file.close()\n",
    "temp_file = open('Dataset/module-9-assignment-test-idx.json')\n",
    "test_index = json.load(temp_file)\n",
    "temp_file.close()"
   ]
  },
  {
   "cell_type": "code",
   "execution_count": 7,
   "id": "50d3a4b0-ed7a-4616-b583-ddaed8661f8e",
   "metadata": {},
   "outputs": [],
   "source": [
    "# The above code is splitting the data into training and test data.\n",
    "train_data = products.iloc[train_index]\n",
    "test_data = products.iloc[test_index]\n",
    "# Reseting the index\n",
    "train_data.reset_index(drop=True, inplace=True)\n",
    "test_data.reset_index(drop=True, inplace=True)\n",
    "# Assigning the sentiment column to the train_target and test_target variables.\n",
    "train_target = train_data['sentiment']\n",
    "test_target = test_data['sentiment']"
   ]
  },
  {
   "cell_type": "code",
   "execution_count": 8,
   "id": "75f459c8-36f9-4e24-9653-d437242f307d",
   "metadata": {},
   "outputs": [],
   "source": [
    "from sklearn.feature_extraction.text import CountVectorizer\n",
    "\n",
    "vectorizer = CountVectorizer(token_pattern=r'\\b\\w+\\b')\n",
    "# Use this token pattern to keep single-letter words\n",
    "# First, learn vocabulary from the training data and assign columns to words\n",
    "# Then convert the training data into a sparse matrix\n",
    "train_matrix = vectorizer.fit_transform(train_data['review_clean'])\n",
    "# Second, convert the test data into a sparse matrix, using the same word-column mapping\n",
    "test_matrix = vectorizer.transform(test_data['review_clean'])"
   ]
  },
  {
   "cell_type": "code",
   "execution_count": 9,
   "id": "0b0a3bf2-ac2e-4ac5-afb1-b0ec35167864",
   "metadata": {},
   "outputs": [
    {
     "name": "stdout",
     "output_type": "stream",
     "text": [
      "Test Accuracy:  0.8836393088552916\n"
     ]
    }
   ],
   "source": [
    "from sklearn.linear_model import LogisticRegression\n",
    "from sklearn import metrics\n",
    "\n",
    "model = LogisticRegression().fit(train_matrix, train_target)\n",
    "\n",
    "print (\"Test Accuracy: \", metrics.accuracy_score(model.predict(test_matrix),test_target))"
   ]
  },
  {
   "cell_type": "code",
   "execution_count": 77,
   "id": "f17c390e-1ac4-49a9-9a79-2d68e73ced7e",
   "metadata": {},
   "outputs": [],
   "source": [
    "def plot_pr_curve(precision, recall, title):\n",
    "    plt.rcParams['figure.figsize'] = 7, 5\n",
    "    plt.locator_params(axis = 'x', nbins = 5)\n",
    "    plt.plot(precision, recall, 'b-', linewidth=4.0, color = '#B0017F')\n",
    "    plt.title(title)\n",
    "    plt.xlabel('Precision')\n",
    "    plt.ylabel('Recall')\n",
    "    plt.rcParams.update({'font.size': 16})"
   ]
  },
  {
   "cell_type": "markdown",
   "id": "51f3c2b4-9fbd-42f0-8184-1c4d9b2e5d82",
   "metadata": {},
   "source": [
    "## Questions"
   ]
  },
  {
   "cell_type": "markdown",
   "id": "547bf09a-3c28-4055-87d8-28935e3d1faf",
   "metadata": {},
   "source": [
    "> Question 1\n",
    "> \n",
    "> Consider the logistic regression model trained on **amazon_baby.sframe** using Turi Create.\n",
    "> \n",
    "> Using accuracy as the evaluation metric, was our **logistic regression model** better than the **majority class classifier**?"
   ]
  },
  {
   "cell_type": "code",
   "execution_count": 19,
   "id": "11f0c348-6954-4681-ae85-fe262cdd9af9",
   "metadata": {},
   "outputs": [
    {
     "name": "stdout",
     "output_type": "stream",
     "text": [
      "Test Accuracy of model:  0.8836393088552916\n",
      "Test Accuracy of majority classifier model:  0.7642788576913847\n"
     ]
    }
   ],
   "source": [
    "print (\"Test Accuracy of model: \", metrics.accuracy_score(model.predict(test_matrix),test_target))\n",
    "majority_class = train_target.value_counts().head(1).index.values[0]\n",
    "print (\"Test Accuracy of majority classifier model: \", metrics.accuracy_score(np.array([majority_class]*len(test_target)),test_target))"
   ]
  },
  {
   "cell_type": "markdown",
   "id": "b6d86684-f63a-4630-9a1e-c164fbbb5837",
   "metadata": {},
   "source": [
    "> Question 2\n",
    "> \n",
    "> How many predicted values in the **test set** are **false positives**?"
   ]
  },
  {
   "cell_type": "code",
   "execution_count": 88,
   "id": "ceba6aed-2ea6-4774-99a5-8193f76ed024",
   "metadata": {},
   "outputs": [
    {
     "data": {
      "text/plain": [
       "array([[ 5468,  2390],\n",
       "       [ 1489, 23989]], dtype=int64)"
      ]
     },
     "execution_count": 88,
     "metadata": {},
     "output_type": "execute_result"
    }
   ],
   "source": [
    "metrics.confusion_matrix(test_target, model.predict(test_matrix"
   ]
  },
  {
   "cell_type": "code",
   "execution_count": 24,
   "id": "3a950d35-c47a-42ed-91bb-743cc439d9c1",
   "metadata": {},
   "outputs": [
    {
     "data": {
      "image/png": "[encoded data removed]",
      "text/plain": [
       "<Figure size 432x288 with 2 Axes>"
      ]
     },
     "metadata": {
      "needs_background": "light"
     },
     "output_type": "display_data"
    }
   ],
   "source": [
    "import matplotlib.pyplot as plt\n",
    "\n",
    "metrics.plot_confusion_matrix(model,test_matrix,test_target)\n",
    "plt.show()"
   ]
  },
  {
   "cell_type": "markdown",
   "id": "b5d2b774-f9d0-4339-83bb-4ad671d875e4",
   "metadata": {},
   "source": [
    "> Question 3\n",
    "> \n",
    "> Consider the scenario where each false positive costs 100 and each false negative 1.\n",
    "> \n",
    "> Given the stipulation, what is the cost associated with the logistic regression classifier's performance on the **test set**?"
   ]
  },
  {
   "cell_type": "code",
   "execution_count": 54,
   "id": "aa75a33d-fe41-45c5-8fab-842367143e96",
   "metadata": {},
   "outputs": [
    {
     "data": {
      "text/plain": [
       "240489"
      ]
     },
     "execution_count": 54,
     "metadata": {},
     "output_type": "execute_result"
    }
   ],
   "source": [
    "cm_mt = metrics.confusion_matrix(model.predict(test_matrix),test_target)\n",
    "false_positive = cm_mt[1,0]\n",
    "false_negative = cm_mt[0,1]\n",
    "100*false_positive+false_negative"
   ]
  },
  {
   "cell_type": "markdown",
   "id": "2120e6b0-9b6e-4c5c-ace5-a598aad92cd3",
   "metadata": {},
   "source": [
    "> Question 4\n",
    "> \n",
    "> Out of all reviews in the **test set** that are predicted to be positive, what fraction of them are **false positives**? (Round to the second decimal place e.g. 0.25)"
   ]
  },
  {
   "cell_type": "code",
   "execution_count": 55,
   "id": "d717361c-b99f-44dd-bacb-783314e698bb",
   "metadata": {},
   "outputs": [
    {
     "data": {
      "text/plain": [
       "0.09060237309981424"
      ]
     },
     "execution_count": 55,
     "metadata": {},
     "output_type": "execute_result"
    }
   ],
   "source": [
    "false_positive/cm_mt[1].sum()"
   ]
  },
  {
   "cell_type": "markdown",
   "id": "75398e04-544f-4674-8d33-6c4eb1c6ad4e",
   "metadata": {},
   "source": [
    "> Question 6\n",
    "> \n",
    "> What fraction of the positive reviews in the **test_set** were correctly predicted as positive by the classifier? Round your answer to 2 decimal places."
   ]
  },
  {
   "cell_type": "code",
   "execution_count": 56,
   "id": "537d883c-f27c-4993-9a86-8645eba4b578",
   "metadata": {},
   "outputs": [
    {
     "data": {
      "text/plain": [
       "0.941557422089646"
      ]
     },
     "execution_count": 56,
     "metadata": {},
     "output_type": "execute_result"
    }
   ],
   "source": [
    "(model.predict(test_matrix[test_target==1])==1).sum() / test_target[test_target==1].sum()"
   ]
  },
  {
   "cell_type": "markdown",
   "id": "e112f2fe-a1b0-4ee6-8a38-b13cbc2ff07c",
   "metadata": {},
   "source": [
    "> Question 7\n",
    "> \n",
    "> What is the recall value for a classifier that predicts **+1** for all data points in the **test_data**?"
   ]
  },
  {
   "cell_type": "code",
   "execution_count": 63,
   "id": "e7dce74b-db40-4554-878e-99d569cc2f67",
   "metadata": {},
   "outputs": [
    {
     "data": {
      "text/plain": [
       "1.0"
      ]
     },
     "execution_count": 63,
     "metadata": {},
     "output_type": "execute_result"
    }
   ],
   "source": [
    "metrics.recall_score(test_target,np.array([1.]*len(test_target)))"
   ]
  },
  {
   "cell_type": "markdown",
   "id": "28394404-e719-4032-859b-65dbf161689e",
   "metadata": {},
   "source": [
    "> Question 10\n",
    "> \n",
    "> Among all the threshold values tried, what is the **smallest** threshold value that achieves a precision of 96.5% or better? Round your answer to 3 decimal places."
   ]
  },
  {
   "cell_type": "code",
   "execution_count": 126,
   "id": "599503e4-29c2-47ff-853c-4b4b6394d031",
   "metadata": {},
   "outputs": [],
   "source": [
    "probabilities = model.predict_proba(test_matrix)[:,1]\n",
    "\n",
    "predictions[predictions==0] = -1"
   ]
  },
  {
   "cell_type": "code",
   "execution_count": 82,
   "id": "03d3deb4-95ff-4e7e-b8ec-3b6d6d3dbbce",
   "metadata": {},
   "outputs": [
    {
     "name": "stdout",
     "output_type": "stream",
     "text": [
      "Threshold 0.5 : Precsion 0.909 : Recall 0.942\n",
      "Threshold 0.505 : Precsion 0.91 : Recall 0.941\n",
      "Threshold 0.51 : Precsion 0.911 : Recall 0.94\n",
      "Threshold 0.515 : Precsion 0.912 : Recall 0.94\n",
      "Threshold 0.52 : Precsion 0.913 : Recall 0.939\n",
      "Threshold 0.525 : Precsion 0.913 : Recall 0.938\n",
      "Threshold 0.53 : Precsion 0.914 : Recall 0.937\n",
      "Threshold 0.535 : Precsion 0.915 : Recall 0.936\n",
      "Threshold 0.54 : Precsion 0.916 : Recall 0.936\n",
      "Threshold 0.545 : Precsion 0.917 : Recall 0.935\n",
      "Threshold 0.551 : Precsion 0.918 : Recall 0.934\n",
      "Threshold 0.556 : Precsion 0.918 : Recall 0.934\n",
      "Threshold 0.561 : Precsion 0.919 : Recall 0.933\n",
      "Threshold 0.566 : Precsion 0.92 : Recall 0.931\n",
      "Threshold 0.571 : Precsion 0.92 : Recall 0.931\n",
      "Threshold 0.576 : Precsion 0.921 : Recall 0.929\n",
      "Threshold 0.581 : Precsion 0.922 : Recall 0.928\n",
      "Threshold 0.586 : Precsion 0.922 : Recall 0.927\n",
      "Threshold 0.591 : Precsion 0.923 : Recall 0.926\n",
      "Threshold 0.596 : Precsion 0.924 : Recall 0.925\n",
      "Threshold 0.601 : Precsion 0.924 : Recall 0.924\n",
      "Threshold 0.606 : Precsion 0.925 : Recall 0.923\n",
      "Threshold 0.611 : Precsion 0.926 : Recall 0.922\n",
      "Threshold 0.616 : Precsion 0.926 : Recall 0.921\n",
      "Threshold 0.621 : Precsion 0.927 : Recall 0.919\n",
      "Threshold 0.626 : Precsion 0.927 : Recall 0.918\n",
      "Threshold 0.631 : Precsion 0.928 : Recall 0.917\n",
      "Threshold 0.636 : Precsion 0.928 : Recall 0.916\n",
      "Threshold 0.641 : Precsion 0.929 : Recall 0.914\n",
      "Threshold 0.646 : Precsion 0.93 : Recall 0.913\n",
      "Threshold 0.652 : Precsion 0.93 : Recall 0.912\n",
      "Threshold 0.657 : Precsion 0.931 : Recall 0.91\n",
      "Threshold 0.662 : Precsion 0.931 : Recall 0.908\n",
      "Threshold 0.667 : Precsion 0.932 : Recall 0.907\n",
      "Threshold 0.672 : Precsion 0.933 : Recall 0.906\n",
      "Threshold 0.677 : Precsion 0.933 : Recall 0.904\n",
      "Threshold 0.682 : Precsion 0.934 : Recall 0.903\n",
      "Threshold 0.687 : Precsion 0.934 : Recall 0.901\n",
      "Threshold 0.692 : Precsion 0.935 : Recall 0.9\n",
      "Threshold 0.697 : Precsion 0.935 : Recall 0.898\n",
      "Threshold 0.702 : Precsion 0.936 : Recall 0.896\n",
      "Threshold 0.707 : Precsion 0.936 : Recall 0.894\n",
      "Threshold 0.712 : Precsion 0.937 : Recall 0.893\n",
      "Threshold 0.717 : Precsion 0.938 : Recall 0.89\n",
      "Threshold 0.722 : Precsion 0.938 : Recall 0.889\n",
      "Threshold 0.727 : Precsion 0.939 : Recall 0.887\n",
      "Threshold 0.732 : Precsion 0.94 : Recall 0.885\n",
      "Threshold 0.737 : Precsion 0.941 : Recall 0.883\n",
      "Threshold 0.742 : Precsion 0.942 : Recall 0.881\n",
      "Threshold 0.747 : Precsion 0.942 : Recall 0.879\n",
      "Threshold 0.753 : Precsion 0.943 : Recall 0.877\n",
      "Threshold 0.758 : Precsion 0.943 : Recall 0.874\n",
      "Threshold 0.763 : Precsion 0.944 : Recall 0.872\n",
      "Threshold 0.768 : Precsion 0.945 : Recall 0.869\n",
      "Threshold 0.773 : Precsion 0.945 : Recall 0.867\n",
      "Threshold 0.778 : Precsion 0.946 : Recall 0.864\n",
      "Threshold 0.783 : Precsion 0.946 : Recall 0.861\n",
      "Threshold 0.788 : Precsion 0.947 : Recall 0.858\n",
      "Threshold 0.793 : Precsion 0.948 : Recall 0.854\n",
      "Threshold 0.798 : Precsion 0.948 : Recall 0.851\n",
      "Threshold 0.803 : Precsion 0.949 : Recall 0.848\n",
      "Threshold 0.808 : Precsion 0.95 : Recall 0.845\n",
      "Threshold 0.813 : Precsion 0.95 : Recall 0.842\n",
      "Threshold 0.818 : Precsion 0.951 : Recall 0.838\n",
      "Threshold 0.823 : Precsion 0.952 : Recall 0.835\n",
      "Threshold 0.828 : Precsion 0.952 : Recall 0.831\n",
      "Threshold 0.833 : Precsion 0.953 : Recall 0.827\n",
      "Threshold 0.838 : Precsion 0.954 : Recall 0.823\n",
      "Threshold 0.843 : Precsion 0.955 : Recall 0.819\n",
      "Threshold 0.848 : Precsion 0.956 : Recall 0.814\n",
      "Threshold 0.854 : Precsion 0.957 : Recall 0.809\n",
      "Threshold 0.859 : Precsion 0.957 : Recall 0.804\n",
      "Threshold 0.864 : Precsion 0.958 : Recall 0.799\n",
      "Threshold 0.869 : Precsion 0.959 : Recall 0.794\n",
      "Threshold 0.874 : Precsion 0.96 : Recall 0.788\n",
      "Threshold 0.879 : Precsion 0.962 : Recall 0.778\n",
      "Threshold 0.884 : Precsion 0.963 : Recall 0.771\n",
      "Threshold 0.889 : Precsion 0.963 : Recall 0.765\n",
      "Threshold 0.894 : Precsion 0.964 : Recall 0.758\n",
      "Threshold 0.899 : Precsion 0.965 : Recall 0.75\n",
      "Threshold 0.904 : Precsion 0.966 : Recall 0.742\n",
      "Threshold 0.909 : Precsion 0.967 : Recall 0.734\n",
      "Threshold 0.914 : Precsion 0.968 : Recall 0.726\n",
      "Threshold 0.919 : Precsion 0.969 : Recall 0.716\n",
      "Threshold 0.924 : Precsion 0.97 : Recall 0.706\n",
      "Threshold 0.929 : Precsion 0.971 : Recall 0.694\n",
      "Threshold 0.934 : Precsion 0.973 : Recall 0.682\n",
      "Threshold 0.939 : Precsion 0.974 : Recall 0.668\n",
      "Threshold 0.944 : Precsion 0.975 : Recall 0.654\n",
      "Threshold 0.949 : Precsion 0.976 : Recall 0.638\n",
      "Threshold 0.955 : Precsion 0.976 : Recall 0.619\n",
      "Threshold 0.96 : Precsion 0.978 : Recall 0.599\n",
      "Threshold 0.965 : Precsion 0.978 : Recall 0.578\n",
      "Threshold 0.97 : Precsion 0.979 : Recall 0.552\n",
      "Threshold 0.975 : Precsion 0.98 : Recall 0.52\n",
      "Threshold 0.98 : Precsion 0.981 : Recall 0.484\n",
      "Threshold 0.985 : Precsion 0.983 : Recall 0.436\n",
      "Threshold 0.99 : Precsion 0.984 : Recall 0.375\n",
      "Threshold 0.995 : Precsion 0.986 : Recall 0.287\n",
      "Threshold 1.0 : Precsion 0.0 : Recall 0.0\n"
     ]
    }
   ],
   "source": [
    "threshold_values = np.linspace(0.5, 1, num=100)\n",
    "for threshold in threshold_values:\n",
    "    predictions = (probabilities>threshold).astype(int)\n",
    "    predictions[predictions==0] = -1\n",
    "    print(\"Threshold {} : Precsion {} : Recall {}\".format(threshold.round(3), metrics.precision_score(test_target,predictions).round(3), metrics.recall_score(test_target,predictions).round(3)))"
   ]
  },
  {
   "cell_type": "markdown",
   "id": "2c496606-7dbb-4c38-8fbc-985e9bf34729",
   "metadata": {},
   "source": [
    "> Question 11\n",
    "> \n",
    "> Using threshold = 0.98, how many **false negatives** do we get on the **test_data**? (**Hint**: You may use the turicreate.evaluation.confusion_matrix function implemented in Turi Create.)"
   ]
  },
  {
   "cell_type": "code",
   "execution_count": 127,
   "id": "8521bb84-88e4-46d6-89a8-9148493403c4",
   "metadata": {},
   "outputs": [
    {
     "data": {
      "text/plain": [
       "array([[ 7625,   233],\n",
       "       [13181, 12297]], dtype=int64)"
      ]
     },
     "execution_count": 127,
     "metadata": {},
     "output_type": "execute_result"
    }
   ],
   "source": [
    "predictions = (probabilities>0.98).astype(int)\n",
    "predictions[predictions==0] = -1\n",
    "metrics.confusion_matrix(test_target, predictions)"
   ]
  },
  {
   "cell_type": "markdown",
   "id": "8faa497a-37aa-440f-9f53-194ff4847d17",
   "metadata": {},
   "source": [
    "> Question 12\n",
    "> \n",
    "> Questions 13 and 14 are concerned with the reviews that contain the word **baby**.\n",
    "> \n",
    "> Among all the threshold values tried, what is the **smallest** threshold value that achieves a precision of 96.5% or better for the reviews of data in **baby_reviews**? Round your answer to 3 decimal places."
   ]
  },
  {
   "cell_type": "code",
   "execution_count": 124,
   "id": "e517a574-a0e8-4b3c-9017-e9038fc0912a",
   "metadata": {},
   "outputs": [
    {
     "name": "stdout",
     "output_type": "stream",
     "text": [
      "Threshold 0.5 : Precsion 0.911 : Recall 0.942\n",
      "Threshold 0.505 : Precsion 0.913 : Recall 0.941\n",
      "Threshold 0.51 : Precsion 0.914 : Recall 0.94\n",
      "Threshold 0.515 : Precsion 0.915 : Recall 0.94\n",
      "Threshold 0.52 : Precsion 0.916 : Recall 0.939\n",
      "Threshold 0.525 : Precsion 0.916 : Recall 0.937\n",
      "Threshold 0.53 : Precsion 0.917 : Recall 0.937\n",
      "Threshold 0.535 : Precsion 0.917 : Recall 0.936\n",
      "Threshold 0.54 : Precsion 0.918 : Recall 0.936\n",
      "Threshold 0.545 : Precsion 0.919 : Recall 0.935\n",
      "Threshold 0.551 : Precsion 0.92 : Recall 0.934\n",
      "Threshold 0.556 : Precsion 0.921 : Recall 0.934\n",
      "Threshold 0.561 : Precsion 0.922 : Recall 0.932\n",
      "Threshold 0.566 : Precsion 0.923 : Recall 0.93\n",
      "Threshold 0.571 : Precsion 0.923 : Recall 0.93\n",
      "Threshold 0.576 : Precsion 0.924 : Recall 0.928\n",
      "Threshold 0.581 : Precsion 0.924 : Recall 0.928\n",
      "Threshold 0.586 : Precsion 0.925 : Recall 0.927\n",
      "Threshold 0.591 : Precsion 0.926 : Recall 0.926\n",
      "Threshold 0.596 : Precsion 0.927 : Recall 0.925\n",
      "Threshold 0.601 : Precsion 0.927 : Recall 0.923\n",
      "Threshold 0.606 : Precsion 0.928 : Recall 0.922\n",
      "Threshold 0.611 : Precsion 0.928 : Recall 0.921\n",
      "Threshold 0.616 : Precsion 0.929 : Recall 0.919\n",
      "Threshold 0.621 : Precsion 0.929 : Recall 0.919\n",
      "Threshold 0.626 : Precsion 0.929 : Recall 0.917\n",
      "Threshold 0.631 : Precsion 0.929 : Recall 0.916\n",
      "Threshold 0.636 : Precsion 0.93 : Recall 0.915\n",
      "Threshold 0.641 : Precsion 0.93 : Recall 0.914\n",
      "Threshold 0.646 : Precsion 0.931 : Recall 0.913\n",
      "Threshold 0.652 : Precsion 0.932 : Recall 0.912\n",
      "Threshold 0.657 : Precsion 0.932 : Recall 0.91\n",
      "Threshold 0.662 : Precsion 0.932 : Recall 0.907\n",
      "Threshold 0.667 : Precsion 0.933 : Recall 0.906\n",
      "Threshold 0.672 : Precsion 0.933 : Recall 0.906\n",
      "Threshold 0.677 : Precsion 0.934 : Recall 0.904\n",
      "Threshold 0.682 : Precsion 0.934 : Recall 0.901\n",
      "Threshold 0.687 : Precsion 0.935 : Recall 0.901\n",
      "Threshold 0.692 : Precsion 0.936 : Recall 0.899\n",
      "Threshold 0.697 : Precsion 0.936 : Recall 0.897\n",
      "Threshold 0.702 : Precsion 0.936 : Recall 0.896\n",
      "Threshold 0.707 : Precsion 0.937 : Recall 0.892\n",
      "Threshold 0.712 : Precsion 0.937 : Recall 0.891\n",
      "Threshold 0.717 : Precsion 0.938 : Recall 0.889\n",
      "Threshold 0.722 : Precsion 0.939 : Recall 0.887\n",
      "Threshold 0.727 : Precsion 0.94 : Recall 0.886\n",
      "Threshold 0.732 : Precsion 0.942 : Recall 0.884\n",
      "Threshold 0.737 : Precsion 0.943 : Recall 0.882\n",
      "Threshold 0.742 : Precsion 0.943 : Recall 0.881\n",
      "Threshold 0.747 : Precsion 0.943 : Recall 0.878\n",
      "Threshold 0.753 : Precsion 0.944 : Recall 0.875\n",
      "Threshold 0.758 : Precsion 0.944 : Recall 0.873\n",
      "Threshold 0.763 : Precsion 0.944 : Recall 0.87\n",
      "Threshold 0.768 : Precsion 0.945 : Recall 0.866\n",
      "Threshold 0.773 : Precsion 0.946 : Recall 0.863\n",
      "Threshold 0.778 : Precsion 0.946 : Recall 0.86\n",
      "Threshold 0.783 : Precsion 0.946 : Recall 0.856\n",
      "Threshold 0.788 : Precsion 0.947 : Recall 0.853\n",
      "Threshold 0.793 : Precsion 0.947 : Recall 0.85\n",
      "Threshold 0.798 : Precsion 0.947 : Recall 0.846\n",
      "Threshold 0.803 : Precsion 0.948 : Recall 0.842\n",
      "Threshold 0.808 : Precsion 0.948 : Recall 0.838\n",
      "Threshold 0.813 : Precsion 0.949 : Recall 0.835\n",
      "Threshold 0.818 : Precsion 0.95 : Recall 0.83\n",
      "Threshold 0.823 : Precsion 0.95 : Recall 0.827\n",
      "Threshold 0.828 : Precsion 0.951 : Recall 0.824\n",
      "Threshold 0.833 : Precsion 0.952 : Recall 0.819\n",
      "Threshold 0.838 : Precsion 0.953 : Recall 0.815\n",
      "Threshold 0.843 : Precsion 0.954 : Recall 0.809\n",
      "Threshold 0.848 : Precsion 0.955 : Recall 0.804\n",
      "Threshold 0.854 : Precsion 0.956 : Recall 0.8\n",
      "Threshold 0.859 : Precsion 0.957 : Recall 0.796\n",
      "Threshold 0.864 : Precsion 0.957 : Recall 0.791\n",
      "Threshold 0.869 : Precsion 0.958 : Recall 0.786\n",
      "Threshold 0.874 : Precsion 0.959 : Recall 0.779\n",
      "Threshold 0.879 : Precsion 0.962 : Recall 0.769\n",
      "Threshold 0.884 : Precsion 0.963 : Recall 0.762\n",
      "Threshold 0.889 : Precsion 0.963 : Recall 0.756\n",
      "Threshold 0.894 : Precsion 0.965 : Recall 0.748\n",
      "Threshold 0.899 : Precsion 0.966 : Recall 0.738\n",
      "Threshold 0.904 : Precsion 0.966 : Recall 0.73\n",
      "Threshold 0.909 : Precsion 0.967 : Recall 0.721\n",
      "Threshold 0.914 : Precsion 0.968 : Recall 0.714\n",
      "Threshold 0.919 : Precsion 0.969 : Recall 0.704\n",
      "Threshold 0.924 : Precsion 0.971 : Recall 0.696\n",
      "Threshold 0.929 : Precsion 0.972 : Recall 0.683\n",
      "Threshold 0.934 : Precsion 0.975 : Recall 0.67\n",
      "Threshold 0.939 : Precsion 0.976 : Recall 0.656\n",
      "Threshold 0.944 : Precsion 0.977 : Recall 0.643\n",
      "Threshold 0.949 : Precsion 0.978 : Recall 0.625\n",
      "Threshold 0.955 : Precsion 0.977 : Recall 0.605\n",
      "Threshold 0.96 : Precsion 0.979 : Recall 0.584\n",
      "Threshold 0.965 : Precsion 0.981 : Recall 0.566\n",
      "Threshold 0.97 : Precsion 0.982 : Recall 0.54\n",
      "Threshold 0.975 : Precsion 0.983 : Recall 0.51\n",
      "Threshold 0.98 : Precsion 0.983 : Recall 0.472\n",
      "Threshold 0.985 : Precsion 0.982 : Recall 0.429\n",
      "Threshold 0.99 : Precsion 0.986 : Recall 0.368\n",
      "Threshold 0.995 : Precsion 0.987 : Recall 0.277\n",
      "Threshold 1.0 : Precsion 0.0 : Recall 0.0\n"
     ]
    }
   ],
   "source": [
    "baby_index = test_data['name'].fillna('').str.lower().apply(lambda x : 1 if 'baby' in x else 0).astype('bool')\n",
    "baby_reviews = test_data[baby_index]\n",
    "baby_matrix = vectorizer.transform(baby_reviews['review_clean'])\n",
    "probabilities = model.predict_proba(baby_matrix)[:,1]\n",
    "baby_target = baby_reviews['sentiment']\n",
    "for threshold in threshold_values:\n",
    "    predictions = (probabilities>threshold).astype(int)\n",
    "    predictions[predictions==0] = -1\n",
    "    print(\"Threshold {} : Precsion {} : Recall {}\".format(threshold.round(3), metrics.precision_score(baby_target,predictions).round(3), metrics.recall_score(baby_target,predictions).round(3)))"
   ]
  },
  {
   "cell_type": "code",
   "execution_count": null,
   "id": "fe794b82-b23c-4344-a32c-32ee564e08ec",
   "metadata": {},
   "outputs": [],
   "source": []
  }
 ],
 "metadata": {
  "kernelspec": {
   "display_name": "Python 3 (ipykernel)",
   "language": "python",
   "name": "python3"
  },
  "language_info": {
   "codemirror_mode": {
    "name": "ipython",
    "version": 3
   },
   "file_extension": ".py",
   "mimetype": "text/x-python",
   "name": "python",
   "nbconvert_exporter": "python",
   "pygments_lexer": "ipython3",
   "version": "3.10.1"
  }
 },
 "nbformat": 4,
 "nbformat_minor": 5
}
