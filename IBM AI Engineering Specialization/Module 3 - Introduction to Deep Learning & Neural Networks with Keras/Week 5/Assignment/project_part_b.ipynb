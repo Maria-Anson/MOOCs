{
 "cells": [
  {
   "cell_type": "markdown",
   "metadata": {},
   "source": [
    "# Please ignore the below block of code.\n",
    "Just a custom code block to run my tensorflow with gpu support."
   ]
  },
  {
   "cell_type": "code",
   "execution_count": 1,
   "metadata": {},
   "outputs": [
    {
     "name": "stdout",
     "output_type": "stream",
     "text": [
      "1 Physical GPUs, 1 Logical GPUs\n"
     ]
    }
   ],
   "source": [
    "import tensorflow as tf\n",
    "gpus = tf.config.experimental.list_physical_devices('GPU')\n",
    "if gpus:\n",
    "  try:\n",
    "    # Currently, memory growth needs to be the same across GPUs\n",
    "    for gpu in gpus:\n",
    "      tf.config.experimental.set_memory_growth(gpu, True)\n",
    "    logical_gpus = tf.config.experimental.list_logical_devices('GPU')\n",
    "    print(len(gpus), \"Physical GPUs,\", len(logical_gpus), \"Logical GPUs\")\n",
    "  except RuntimeError as e:\n",
    "    # Memory growth must be set before GPUs have been initialized\n",
    "    print(e)"
   ]
  },
  {
   "cell_type": "markdown",
   "metadata": {},
   "source": [
    "# Code Starts Here"
   ]
  },
  {
   "cell_type": "markdown",
   "metadata": {},
   "source": [
    "### Import Data"
   ]
  },
  {
   "cell_type": "code",
   "execution_count": 2,
   "metadata": {},
   "outputs": [
    {
     "data": {
      "text/html": [
       "<div>\n",
       "<style scoped>\n",
       "    .dataframe tbody tr th:only-of-type {\n",
       "        vertical-align: middle;\n",
       "    }\n",
       "\n",
       "    .dataframe tbody tr th {\n",
       "        vertical-align: top;\n",
       "    }\n",
       "\n",
       "    .dataframe thead th {\n",
       "        text-align: right;\n",
       "    }\n",
       "</style>\n",
       "<table border=\"1\" class=\"dataframe\">\n",
       "  <thead>\n",
       "    <tr style=\"text-align: right;\">\n",
       "      <th></th>\n",
       "      <th>Cement</th>\n",
       "      <th>Blast Furnace Slag</th>\n",
       "      <th>Fly Ash</th>\n",
       "      <th>Water</th>\n",
       "      <th>Superplasticizer</th>\n",
       "      <th>Coarse Aggregate</th>\n",
       "      <th>Fine Aggregate</th>\n",
       "      <th>Age</th>\n",
       "      <th>Strength</th>\n",
       "    </tr>\n",
       "  </thead>\n",
       "  <tbody>\n",
       "    <tr>\n",
       "      <th>0</th>\n",
       "      <td>540.0</td>\n",
       "      <td>0.0</td>\n",
       "      <td>0.0</td>\n",
       "      <td>162.0</td>\n",
       "      <td>2.5</td>\n",
       "      <td>1040.0</td>\n",
       "      <td>676.0</td>\n",
       "      <td>28</td>\n",
       "      <td>79.99</td>\n",
       "    </tr>\n",
       "    <tr>\n",
       "      <th>1</th>\n",
       "      <td>540.0</td>\n",
       "      <td>0.0</td>\n",
       "      <td>0.0</td>\n",
       "      <td>162.0</td>\n",
       "      <td>2.5</td>\n",
       "      <td>1055.0</td>\n",
       "      <td>676.0</td>\n",
       "      <td>28</td>\n",
       "      <td>61.89</td>\n",
       "    </tr>\n",
       "  </tbody>\n",
       "</table>\n",
       "</div>"
      ],
      "text/plain": [
       "   Cement  Blast Furnace Slag  Fly Ash  Water  Superplasticizer  \\\n",
       "0   540.0                 0.0      0.0  162.0               2.5   \n",
       "1   540.0                 0.0      0.0  162.0               2.5   \n",
       "\n",
       "   Coarse Aggregate  Fine Aggregate  Age  Strength  \n",
       "0            1040.0           676.0   28     79.99  \n",
       "1            1055.0           676.0   28     61.89  "
      ]
     },
     "execution_count": 2,
     "metadata": {},
     "output_type": "execute_result"
    }
   ],
   "source": [
    "import pandas as pd\n",
    "\n",
    "df = pd.read_csv(\"https://cocl.us/concrete_data\")\n",
    "df.head(2)"
   ]
  },
  {
   "cell_type": "markdown",
   "metadata": {},
   "source": [
    "### Check For Null Values"
   ]
  },
  {
   "cell_type": "code",
   "execution_count": 3,
   "metadata": {},
   "outputs": [
    {
     "data": {
      "text/plain": [
       "Cement                0\n",
       "Blast Furnace Slag    0\n",
       "Fly Ash               0\n",
       "Water                 0\n",
       "Superplasticizer      0\n",
       "Coarse Aggregate      0\n",
       "Fine Aggregate        0\n",
       "Age                   0\n",
       "Strength              0\n",
       "dtype: int64"
      ]
     },
     "execution_count": 3,
     "metadata": {},
     "output_type": "execute_result"
    }
   ],
   "source": [
    "df.isna().sum()"
   ]
  },
  {
   "cell_type": "markdown",
   "metadata": {},
   "source": [
    " "
   ]
  },
  {
   "cell_type": "markdown",
   "metadata": {},
   "source": [
    "\n",
    "\n",
    "Since there are no null values we can move forward with creating features and target vectors."
   ]
  },
  {
   "cell_type": "code",
   "execution_count": 4,
   "metadata": {},
   "outputs": [
    {
     "data": {
      "text/plain": [
       "((1030, 8), (1030,))"
      ]
     },
     "execution_count": 4,
     "metadata": {},
     "output_type": "execute_result"
    }
   ],
   "source": [
    "X = df.drop(\"Strength\", axis=1)\n",
    "y = df.loc[:, \"Strength\"]\n",
    "\n",
    "X.shape, y.shape"
   ]
  },
  {
   "cell_type": "markdown",
   "metadata": {},
   "source": [
    "### Normalizing Data"
   ]
  },
  {
   "cell_type": "code",
   "execution_count": 5,
   "metadata": {},
   "outputs": [
    {
     "data": {
      "text/html": [
       "<div>\n",
       "<style scoped>\n",
       "    .dataframe tbody tr th:only-of-type {\n",
       "        vertical-align: middle;\n",
       "    }\n",
       "\n",
       "    .dataframe tbody tr th {\n",
       "        vertical-align: top;\n",
       "    }\n",
       "\n",
       "    .dataframe thead th {\n",
       "        text-align: right;\n",
       "    }\n",
       "</style>\n",
       "<table border=\"1\" class=\"dataframe\">\n",
       "  <thead>\n",
       "    <tr style=\"text-align: right;\">\n",
       "      <th></th>\n",
       "      <th>Cement</th>\n",
       "      <th>Blast Furnace Slag</th>\n",
       "      <th>Fly Ash</th>\n",
       "      <th>Water</th>\n",
       "      <th>Superplasticizer</th>\n",
       "      <th>Coarse Aggregate</th>\n",
       "      <th>Fine Aggregate</th>\n",
       "      <th>Age</th>\n",
       "    </tr>\n",
       "  </thead>\n",
       "  <tbody>\n",
       "    <tr>\n",
       "      <th>0</th>\n",
       "      <td>2.476712</td>\n",
       "      <td>-0.856472</td>\n",
       "      <td>-0.846733</td>\n",
       "      <td>-0.916319</td>\n",
       "      <td>-0.620147</td>\n",
       "      <td>0.862735</td>\n",
       "      <td>-1.217079</td>\n",
       "      <td>-0.279597</td>\n",
       "    </tr>\n",
       "    <tr>\n",
       "      <th>1</th>\n",
       "      <td>2.476712</td>\n",
       "      <td>-0.856472</td>\n",
       "      <td>-0.846733</td>\n",
       "      <td>-0.916319</td>\n",
       "      <td>-0.620147</td>\n",
       "      <td>1.055651</td>\n",
       "      <td>-1.217079</td>\n",
       "      <td>-0.279597</td>\n",
       "    </tr>\n",
       "    <tr>\n",
       "      <th>2</th>\n",
       "      <td>0.491187</td>\n",
       "      <td>0.795140</td>\n",
       "      <td>-0.846733</td>\n",
       "      <td>2.174405</td>\n",
       "      <td>-1.038638</td>\n",
       "      <td>-0.526262</td>\n",
       "      <td>-2.239829</td>\n",
       "      <td>3.551340</td>\n",
       "    </tr>\n",
       "    <tr>\n",
       "      <th>3</th>\n",
       "      <td>0.491187</td>\n",
       "      <td>0.795140</td>\n",
       "      <td>-0.846733</td>\n",
       "      <td>2.174405</td>\n",
       "      <td>-1.038638</td>\n",
       "      <td>-0.526262</td>\n",
       "      <td>-2.239829</td>\n",
       "      <td>5.055221</td>\n",
       "    </tr>\n",
       "    <tr>\n",
       "      <th>4</th>\n",
       "      <td>-0.790075</td>\n",
       "      <td>0.678079</td>\n",
       "      <td>-0.846733</td>\n",
       "      <td>0.488555</td>\n",
       "      <td>-1.038638</td>\n",
       "      <td>0.070492</td>\n",
       "      <td>0.647569</td>\n",
       "      <td>4.976069</td>\n",
       "    </tr>\n",
       "  </tbody>\n",
       "</table>\n",
       "</div>"
      ],
      "text/plain": [
       "     Cement  Blast Furnace Slag   Fly Ash     Water  Superplasticizer  \\\n",
       "0  2.476712           -0.856472 -0.846733 -0.916319         -0.620147   \n",
       "1  2.476712           -0.856472 -0.846733 -0.916319         -0.620147   \n",
       "2  0.491187            0.795140 -0.846733  2.174405         -1.038638   \n",
       "3  0.491187            0.795140 -0.846733  2.174405         -1.038638   \n",
       "4 -0.790075            0.678079 -0.846733  0.488555         -1.038638   \n",
       "\n",
       "   Coarse Aggregate  Fine Aggregate       Age  \n",
       "0          0.862735       -1.217079 -0.279597  \n",
       "1          1.055651       -1.217079 -0.279597  \n",
       "2         -0.526262       -2.239829  3.551340  \n",
       "3         -0.526262       -2.239829  5.055221  \n",
       "4          0.070492        0.647569  4.976069  "
      ]
     },
     "execution_count": 5,
     "metadata": {},
     "output_type": "execute_result"
    }
   ],
   "source": [
    "X_norm = (X - X.mean()) / X.std()\n",
    "X_norm.head(5)"
   ]
  },
  {
   "cell_type": "code",
   "execution_count": 6,
   "metadata": {},
   "outputs": [
    {
     "data": {
      "text/html": [
       "<div>\n",
       "<style scoped>\n",
       "    .dataframe tbody tr th:only-of-type {\n",
       "        vertical-align: middle;\n",
       "    }\n",
       "\n",
       "    .dataframe tbody tr th {\n",
       "        vertical-align: top;\n",
       "    }\n",
       "\n",
       "    .dataframe thead th {\n",
       "        text-align: right;\n",
       "    }\n",
       "</style>\n",
       "<table border=\"1\" class=\"dataframe\">\n",
       "  <thead>\n",
       "    <tr style=\"text-align: right;\">\n",
       "      <th></th>\n",
       "      <th>Cement</th>\n",
       "      <th>Blast Furnace Slag</th>\n",
       "      <th>Fly Ash</th>\n",
       "      <th>Water</th>\n",
       "      <th>Superplasticizer</th>\n",
       "      <th>Coarse Aggregate</th>\n",
       "      <th>Fine Aggregate</th>\n",
       "      <th>Age</th>\n",
       "    </tr>\n",
       "  </thead>\n",
       "  <tbody>\n",
       "    <tr>\n",
       "      <th>count</th>\n",
       "      <td>1.030000e+03</td>\n",
       "      <td>1.030000e+03</td>\n",
       "      <td>1.030000e+03</td>\n",
       "      <td>1.030000e+03</td>\n",
       "      <td>1.030000e+03</td>\n",
       "      <td>1.030000e+03</td>\n",
       "      <td>1.030000e+03</td>\n",
       "      <td>1.030000e+03</td>\n",
       "    </tr>\n",
       "    <tr>\n",
       "      <th>mean</th>\n",
       "      <td>2.828374e-15</td>\n",
       "      <td>1.379695e-17</td>\n",
       "      <td>4.139084e-17</td>\n",
       "      <td>1.214131e-15</td>\n",
       "      <td>8.278168e-17</td>\n",
       "      <td>6.553550e-15</td>\n",
       "      <td>1.226549e-14</td>\n",
       "      <td>7.588320e-17</td>\n",
       "    </tr>\n",
       "    <tr>\n",
       "      <th>std</th>\n",
       "      <td>1.000000e+00</td>\n",
       "      <td>1.000000e+00</td>\n",
       "      <td>1.000000e+00</td>\n",
       "      <td>1.000000e+00</td>\n",
       "      <td>1.000000e+00</td>\n",
       "      <td>1.000000e+00</td>\n",
       "      <td>1.000000e+00</td>\n",
       "      <td>1.000000e+00</td>\n",
       "    </tr>\n",
       "    <tr>\n",
       "      <th>min</th>\n",
       "      <td>-1.714421e+00</td>\n",
       "      <td>-8.564718e-01</td>\n",
       "      <td>-8.467326e-01</td>\n",
       "      <td>-2.798851e+00</td>\n",
       "      <td>-1.038638e+00</td>\n",
       "      <td>-2.211064e+00</td>\n",
       "      <td>-2.239829e+00</td>\n",
       "      <td>-7.070160e-01</td>\n",
       "    </tr>\n",
       "    <tr>\n",
       "      <th>25%</th>\n",
       "      <td>-8.496407e-01</td>\n",
       "      <td>-8.564718e-01</td>\n",
       "      <td>-8.467326e-01</td>\n",
       "      <td>-7.805147e-01</td>\n",
       "      <td>-1.038638e+00</td>\n",
       "      <td>-5.262618e-01</td>\n",
       "      <td>-5.317114e-01</td>\n",
       "      <td>-6.120340e-01</td>\n",
       "    </tr>\n",
       "    <tr>\n",
       "      <th>50%</th>\n",
       "      <td>-7.911350e-02</td>\n",
       "      <td>-6.014861e-01</td>\n",
       "      <td>-8.467326e-01</td>\n",
       "      <td>1.607513e-01</td>\n",
       "      <td>3.269920e-02</td>\n",
       "      <td>-6.326279e-02</td>\n",
       "      <td>7.383152e-02</td>\n",
       "      <td>-2.795973e-01</td>\n",
       "    </tr>\n",
       "    <tr>\n",
       "      <th>75%</th>\n",
       "      <td>6.586406e-01</td>\n",
       "      <td>8.003558e-01</td>\n",
       "      <td>1.001791e+00</td>\n",
       "      <td>4.885554e-01</td>\n",
       "      <td>6.688058e-01</td>\n",
       "      <td>7.264077e-01</td>\n",
       "      <td>6.288606e-01</td>\n",
       "      <td>1.636517e-01</td>\n",
       "    </tr>\n",
       "    <tr>\n",
       "      <th>max</th>\n",
       "      <td>2.476712e+00</td>\n",
       "      <td>3.309068e+00</td>\n",
       "      <td>2.279976e+00</td>\n",
       "      <td>3.064159e+00</td>\n",
       "      <td>4.351528e+00</td>\n",
       "      <td>2.213149e+00</td>\n",
       "      <td>2.731735e+00</td>\n",
       "      <td>5.055221e+00</td>\n",
       "    </tr>\n",
       "  </tbody>\n",
       "</table>\n",
       "</div>"
      ],
      "text/plain": [
       "             Cement  Blast Furnace Slag       Fly Ash         Water  \\\n",
       "count  1.030000e+03        1.030000e+03  1.030000e+03  1.030000e+03   \n",
       "mean   2.828374e-15        1.379695e-17  4.139084e-17  1.214131e-15   \n",
       "std    1.000000e+00        1.000000e+00  1.000000e+00  1.000000e+00   \n",
       "min   -1.714421e+00       -8.564718e-01 -8.467326e-01 -2.798851e+00   \n",
       "25%   -8.496407e-01       -8.564718e-01 -8.467326e-01 -7.805147e-01   \n",
       "50%   -7.911350e-02       -6.014861e-01 -8.467326e-01  1.607513e-01   \n",
       "75%    6.586406e-01        8.003558e-01  1.001791e+00  4.885554e-01   \n",
       "max    2.476712e+00        3.309068e+00  2.279976e+00  3.064159e+00   \n",
       "\n",
       "       Superplasticizer  Coarse Aggregate  Fine Aggregate           Age  \n",
       "count      1.030000e+03      1.030000e+03    1.030000e+03  1.030000e+03  \n",
       "mean       8.278168e-17      6.553550e-15    1.226549e-14  7.588320e-17  \n",
       "std        1.000000e+00      1.000000e+00    1.000000e+00  1.000000e+00  \n",
       "min       -1.038638e+00     -2.211064e+00   -2.239829e+00 -7.070160e-01  \n",
       "25%       -1.038638e+00     -5.262618e-01   -5.317114e-01 -6.120340e-01  \n",
       "50%        3.269920e-02     -6.326279e-02    7.383152e-02 -2.795973e-01  \n",
       "75%        6.688058e-01      7.264077e-01    6.288606e-01  1.636517e-01  \n",
       "max        4.351528e+00      2.213149e+00    2.731735e+00  5.055221e+00  "
      ]
     },
     "execution_count": 6,
     "metadata": {},
     "output_type": "execute_result"
    }
   ],
   "source": [
    "X_norm.describe()"
   ]
  },
  {
   "cell_type": "markdown",
   "metadata": {},
   "source": [
    "### Split the data in train and test"
   ]
  },
  {
   "cell_type": "code",
   "execution_count": 7,
   "metadata": {},
   "outputs": [
    {
     "data": {
      "text/plain": [
       "((721, 8), (309, 8), (721,), (309,))"
      ]
     },
     "execution_count": 7,
     "metadata": {},
     "output_type": "execute_result"
    }
   ],
   "source": [
    "from sklearn.model_selection import train_test_split\n",
    "X_train, X_test, y_train, y_test = train_test_split(X_norm, y, test_size=0.3)\n",
    "\n",
    "X_train.shape, X_test.shape, y_train.shape, y_test.shape"
   ]
  },
  {
   "cell_type": "markdown",
   "metadata": {},
   "source": [
    "### Create the model"
   ]
  },
  {
   "cell_type": "code",
   "execution_count": 8,
   "metadata": {},
   "outputs": [],
   "source": [
    "import tensorflow.keras as keras"
   ]
  },
  {
   "cell_type": "code",
   "execution_count": 9,
   "metadata": {},
   "outputs": [],
   "source": [
    "def build_model():\n",
    "    model = keras.models.Sequential()\n",
    "    model.add(keras.layers.Dense(10, activation=\"relu\", input_shape=(X_norm.shape[1],)))\n",
    "    model.add(keras.layers.Dense(1))\n",
    "    \n",
    "    model.compile(optimizer=\"adam\", loss=\"mean_squared_error\")\n",
    "    return model"
   ]
  },
  {
   "cell_type": "code",
   "execution_count": 10,
   "metadata": {},
   "outputs": [
    {
     "name": "stdout",
     "output_type": "stream",
     "text": [
      "Epoch 1/50\n",
      "23/23 [==============================] - 0s 3ms/step - loss: 1535.2839\n",
      "Epoch 2/50\n",
      "23/23 [==============================] - 0s 3ms/step - loss: 1518.1548\n",
      "Epoch 3/50\n",
      "23/23 [==============================] - 0s 3ms/step - loss: 1500.6501\n",
      "Epoch 4/50\n",
      "23/23 [==============================] - 0s 3ms/step - loss: 1482.7356\n",
      "Epoch 5/50\n",
      "23/23 [==============================] - 0s 3ms/step - loss: 1463.7181\n",
      "Epoch 6/50\n",
      "23/23 [==============================] - 0s 3ms/step - loss: 1443.8605\n",
      "Epoch 7/50\n",
      "23/23 [==============================] - 0s 3ms/step - loss: 1422.8719\n",
      "Epoch 8/50\n",
      "23/23 [==============================] - 0s 3ms/step - loss: 1401.0366\n",
      "Epoch 9/50\n",
      "23/23 [==============================] - 0s 3ms/step - loss: 1377.5524\n",
      "Epoch 10/50\n",
      "23/23 [==============================] - 0s 3ms/step - loss: 1352.6796\n",
      "Epoch 11/50\n",
      "23/23 [==============================] - 0s 3ms/step - loss: 1326.3774\n",
      "Epoch 12/50\n",
      "23/23 [==============================] - 0s 3ms/step - loss: 1299.2139\n",
      "Epoch 13/50\n",
      "23/23 [==============================] - 0s 3ms/step - loss: 1270.3877\n",
      "Epoch 14/50\n",
      "23/23 [==============================] - 0s 3ms/step - loss: 1240.9012\n",
      "Epoch 15/50\n",
      "23/23 [==============================] - 0s 3ms/step - loss: 1210.0992\n",
      "Epoch 16/50\n",
      "23/23 [==============================] - 0s 3ms/step - loss: 1178.1464\n",
      "Epoch 17/50\n",
      "23/23 [==============================] - 0s 3ms/step - loss: 1145.6963\n",
      "Epoch 18/50\n",
      "23/23 [==============================] - 0s 3ms/step - loss: 1112.4244\n",
      "Epoch 19/50\n",
      "23/23 [==============================] - 0s 3ms/step - loss: 1077.9840\n",
      "Epoch 20/50\n",
      "23/23 [==============================] - 0s 3ms/step - loss: 1043.7255\n",
      "Epoch 21/50\n",
      "23/23 [==============================] - 0s 3ms/step - loss: 1009.2250\n",
      "Epoch 22/50\n",
      "23/23 [==============================] - 0s 3ms/step - loss: 974.1373\n",
      "Epoch 23/50\n",
      "23/23 [==============================] - 0s 3ms/step - loss: 939.2560\n",
      "Epoch 24/50\n",
      "23/23 [==============================] - 0s 3ms/step - loss: 904.6223\n",
      "Epoch 25/50\n",
      "23/23 [==============================] - 0s 3ms/step - loss: 869.8035\n",
      "Epoch 26/50\n",
      "23/23 [==============================] - 0s 3ms/step - loss: 835.4833\n",
      "Epoch 27/50\n",
      "23/23 [==============================] - 0s 3ms/step - loss: 801.5530\n",
      "Epoch 28/50\n",
      "23/23 [==============================] - 0s 3ms/step - loss: 768.2852\n",
      "Epoch 29/50\n",
      "23/23 [==============================] - 0s 3ms/step - loss: 735.4197\n",
      "Epoch 30/50\n",
      "23/23 [==============================] - 0s 3ms/step - loss: 703.2145\n",
      "Epoch 31/50\n",
      "23/23 [==============================] - 0s 3ms/step - loss: 672.0364\n",
      "Epoch 32/50\n",
      "23/23 [==============================] - 0s 3ms/step - loss: 642.0034\n",
      "Epoch 33/50\n",
      "23/23 [==============================] - 0s 3ms/step - loss: 613.0359\n",
      "Epoch 34/50\n",
      "23/23 [==============================] - 0s 3ms/step - loss: 584.8510\n",
      "Epoch 35/50\n",
      "23/23 [==============================] - 0s 3ms/step - loss: 557.7359\n",
      "Epoch 36/50\n",
      "23/23 [==============================] - 0s 3ms/step - loss: 532.0558\n",
      "Epoch 37/50\n",
      "23/23 [==============================] - 0s 3ms/step - loss: 507.1742\n",
      "Epoch 38/50\n",
      "23/23 [==============================] - 0s 3ms/step - loss: 484.0160\n",
      "Epoch 39/50\n",
      "23/23 [==============================] - 0s 3ms/step - loss: 461.4001\n",
      "Epoch 40/50\n",
      "23/23 [==============================] - 0s 3ms/step - loss: 440.3068\n",
      "Epoch 41/50\n",
      "23/23 [==============================] - 0s 3ms/step - loss: 420.2233\n",
      "Epoch 42/50\n",
      "23/23 [==============================] - 0s 3ms/step - loss: 401.7566\n",
      "Epoch 43/50\n",
      "23/23 [==============================] - 0s 3ms/step - loss: 383.6033\n",
      "Epoch 44/50\n",
      "23/23 [==============================] - 0s 3ms/step - loss: 366.9549\n",
      "Epoch 45/50\n",
      "23/23 [==============================] - 0s 3ms/step - loss: 351.5845\n",
      "Epoch 46/50\n",
      "23/23 [==============================] - 0s 3ms/step - loss: 336.9282\n",
      "Epoch 47/50\n",
      "23/23 [==============================] - 0s 3ms/step - loss: 323.5675\n",
      "Epoch 48/50\n",
      "23/23 [==============================] - 0s 3ms/step - loss: 311.0966\n",
      "Epoch 49/50\n",
      "23/23 [==============================] - 0s 3ms/step - loss: 299.3331\n",
      "Epoch 50/50\n",
      "23/23 [==============================] - 0s 3ms/step - loss: 288.5427\n"
     ]
    },
    {
     "data": {
      "text/plain": [
       "<tensorflow.python.keras.callbacks.History at 0x7f58e0bcd748>"
      ]
     },
     "execution_count": 10,
     "metadata": {},
     "output_type": "execute_result"
    }
   ],
   "source": [
    "model = build_model()\n",
    "\n",
    "model.fit(X_train, y_train, epochs=50, verbose=1)"
   ]
  },
  {
   "cell_type": "markdown",
   "metadata": {},
   "source": [
    "### Calculating Mean Squared Error"
   ]
  },
  {
   "cell_type": "code",
   "execution_count": 11,
   "metadata": {},
   "outputs": [
    {
     "name": "stdout",
     "output_type": "stream",
     "text": [
      "Test MSE: 289.5210240184078\n"
     ]
    }
   ],
   "source": [
    "from sklearn.metrics import mean_squared_error\n",
    "\n",
    "predicted_y = model.predict(X_test)\n",
    "mse = mean_squared_error(y_test, predicted_y)\n",
    "print(f\"Test MSE: {mse}\")"
   ]
  },
  {
   "cell_type": "markdown",
   "metadata": {},
   "source": [
    "### Since we have to create a list of 50 MSEs putting everything in a function"
   ]
  },
  {
   "cell_type": "code",
   "execution_count": 12,
   "metadata": {},
   "outputs": [],
   "source": [
    "def do_n_times(n=50):\n",
    "    mse_list = []\n",
    "    for index in range(n):\n",
    "        # split data\n",
    "        X_train, X_test, y_train, y_test = train_test_split(X_norm, y, test_size=0.3)\n",
    "        \n",
    "        # build model\n",
    "        model = build_model()\n",
    "        \n",
    "        # train model\n",
    "        model.fit(X_train, y_train, epochs=50, verbose=0)\n",
    "        \n",
    "        # predict test set\n",
    "        predicted_y = model.predict(X_test)\n",
    "        \n",
    "        # get MSE for the model\n",
    "        mse = mean_squared_error(y_test, predicted_y)\n",
    "        print(f\"MSE {index}: {mse}\")\n",
    "        \n",
    "        # append to list\n",
    "        mse_list.append(mse)\n",
    "    return mse_list"
   ]
  },
  {
   "cell_type": "code",
   "execution_count": 13,
   "metadata": {},
   "outputs": [
    {
     "name": "stdout",
     "output_type": "stream",
     "text": [
      "MSE 0: 253.10601062057287\n",
      "MSE 1: 397.7450443344751\n",
      "MSE 2: 370.71749345263225\n",
      "MSE 3: 302.525658235196\n",
      "MSE 4: 316.7315369343536\n",
      "MSE 5: 507.11358843085037\n",
      "MSE 6: 499.5641359944277\n",
      "MSE 7: 491.48814407805816\n",
      "MSE 8: 525.6232874148418\n",
      "MSE 9: 390.85228030235663\n",
      "MSE 10: 269.42009182764315\n",
      "MSE 11: 415.3589865490001\n",
      "MSE 12: 275.5381234864109\n",
      "MSE 13: 322.20187484999616\n",
      "MSE 14: 413.1234104180192\n",
      "MSE 15: 288.4922495933893\n",
      "MSE 16: 294.0908219127705\n",
      "MSE 17: 557.6973023027617\n",
      "MSE 18: 263.7861355657346\n",
      "MSE 19: 322.8463561227153\n",
      "MSE 20: 383.72665606556507\n",
      "MSE 21: 470.6328082548842\n",
      "MSE 22: 481.6853980206449\n",
      "MSE 23: 321.98144103995804\n",
      "MSE 24: 375.84373081884985\n",
      "MSE 25: 439.4432806866881\n",
      "MSE 26: 333.7635564616762\n",
      "MSE 27: 310.19144692150326\n",
      "MSE 28: 316.1566398446846\n",
      "MSE 29: 234.48350910874447\n",
      "MSE 30: 401.98913958043994\n",
      "MSE 31: 329.43102882813906\n",
      "MSE 32: 403.63425537810565\n",
      "MSE 33: 274.50996740173883\n",
      "MSE 34: 223.52887170862533\n",
      "MSE 35: 367.30618030076516\n",
      "MSE 36: 416.5562593974956\n",
      "MSE 37: 293.50086554503054\n",
      "MSE 38: 251.08464960460924\n",
      "MSE 39: 382.57400912114224\n",
      "MSE 40: 413.2326382970106\n",
      "MSE 41: 398.52393053233516\n",
      "MSE 42: 292.21841336417316\n",
      "MSE 43: 436.13374902608183\n",
      "MSE 44: 382.9693880542043\n",
      "MSE 45: 359.1137012697659\n",
      "MSE 46: 231.66519617456453\n",
      "MSE 47: 311.53298637611977\n",
      "MSE 48: 400.34489356469834\n",
      "MSE 49: 237.56853016100033\n"
     ]
    }
   ],
   "source": [
    "mse_list = do_n_times(50)"
   ]
  },
  {
   "cell_type": "markdown",
   "metadata": {},
   "source": [
    "### Average and Standard Deviation of MSE"
   ]
  },
  {
   "cell_type": "code",
   "execution_count": 14,
   "metadata": {},
   "outputs": [
    {
     "name": "stdout",
     "output_type": "stream",
     "text": [
      "Average of MSEs: 359.066993066709\n",
      "Standard Deviation MSEs: 82.99885949723122\n"
     ]
    }
   ],
   "source": [
    "import numpy as np\n",
    "print(f\"Average of MSEs: {np.mean(mse_list)}\")\n",
    "print(f\"Standard Deviation MSEs: {np.std(mse_list)}\")\n"
   ]
  },
  {
   "cell_type": "markdown",
   "metadata": {},
   "source": [
    "### Plot different MSEs"
   ]
  },
  {
   "cell_type": "code",
   "execution_count": 15,
   "metadata": {},
   "outputs": [
    {
     "data": {
      "image/png": "[encoded data removed]",
      "text/plain": [
       "<Figure size 576x288 with 1 Axes>"
      ]
     },
     "metadata": {
      "needs_background": "light"
     },
     "output_type": "display_data"
    }
   ],
   "source": [
    "import matplotlib.pyplot as plt\n",
    "\n",
    "plt.figure(figsize=(8, 4))\n",
    "plt.plot(mse_list)\n",
    "plt.xlabel(\"Try\")\n",
    "plt.ylabel(\"MSE\")\n",
    "\n",
    "plt.show()"
   ]
  },
  {
   "cell_type": "markdown",
   "metadata": {},
   "source": [
    "## How does the mean of the mean squared errors compare to that from Step A?"
   ]
  },
  {
   "cell_type": "markdown",
   "metadata": {},
   "source": [
    "Below picture shows the results from part A:\n",
    "- Avg MSE: 295.93\n",
    "- Std MSE: 298.20"
   ]
  },
  {
   "cell_type": "markdown",
   "metadata": {},
   "source": [
    "![title](part_a_results.png)"
   ]
  },
  {
   "cell_type": "markdown",
   "metadata": {},
   "source": [
    "The Avg. MSE has increased from 295.93 to 359.07, however the Standard Deviation in the MSE has reduced from 298.20 to 83.00.<br>\n",
    "Even though the Avg. MSE has increased, normalization has made the model much more consistant than before. As difference between the max and min value of MSE has reduced from **1650** (1750 - 100) to **350** (550 - 200)."
   ]
  }
 ],
 "metadata": {
  "kernelspec": {
   "display_name": "Python 3",
   "language": "python",
   "name": "python3"
  },
  "language_info": {
   "codemirror_mode": {
    "name": "ipython",
    "version": 3
   },
   "file_extension": ".py",
   "mimetype": "text/x-python",
   "name": "python",
   "nbconvert_exporter": "python",
   "pygments_lexer": "ipython3",
   "version": "3.6.9"
  }
 },
 "nbformat": 4,
 "nbformat_minor": 2
}
