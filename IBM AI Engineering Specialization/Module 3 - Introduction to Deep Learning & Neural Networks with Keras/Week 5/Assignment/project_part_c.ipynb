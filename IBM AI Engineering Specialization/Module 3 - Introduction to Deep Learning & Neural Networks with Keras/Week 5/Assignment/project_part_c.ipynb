{
 "cells": [
  {
   "cell_type": "markdown",
   "metadata": {},
   "source": [
    "# Please ignore the below block of code.\n",
    "Just a custom code block to run my tensorflow with gpu support."
   ]
  },
  {
   "cell_type": "code",
   "execution_count": 1,
   "metadata": {},
   "outputs": [
    {
     "name": "stdout",
     "output_type": "stream",
     "text": [
      "1 Physical GPUs, 1 Logical GPUs\n"
     ]
    }
   ],
   "source": [
    "import tensorflow as tf\n",
    "gpus = tf.config.experimental.list_physical_devices('GPU')\n",
    "if gpus:\n",
    "  try:\n",
    "    # Currently, memory growth needs to be the same across GPUs\n",
    "    for gpu in gpus:\n",
    "      tf.config.experimental.set_memory_growth(gpu, True)\n",
    "    logical_gpus = tf.config.experimental.list_logical_devices('GPU')\n",
    "    print(len(gpus), \"Physical GPUs,\", len(logical_gpus), \"Logical GPUs\")\n",
    "  except RuntimeError as e:\n",
    "    # Memory growth must be set before GPUs have been initialized\n",
    "    print(e)"
   ]
  },
  {
   "cell_type": "markdown",
   "metadata": {},
   "source": [
    "# Code Starts Here"
   ]
  },
  {
   "cell_type": "markdown",
   "metadata": {},
   "source": [
    "### Import Data"
   ]
  },
  {
   "cell_type": "code",
   "execution_count": 2,
   "metadata": {},
   "outputs": [
    {
     "data": {
      "text/html": [
       "<div>\n",
       "<style scoped>\n",
       "    .dataframe tbody tr th:only-of-type {\n",
       "        vertical-align: middle;\n",
       "    }\n",
       "\n",
       "    .dataframe tbody tr th {\n",
       "        vertical-align: top;\n",
       "    }\n",
       "\n",
       "    .dataframe thead th {\n",
       "        text-align: right;\n",
       "    }\n",
       "</style>\n",
       "<table border=\"1\" class=\"dataframe\">\n",
       "  <thead>\n",
       "    <tr style=\"text-align: right;\">\n",
       "      <th></th>\n",
       "      <th>Cement</th>\n",
       "      <th>Blast Furnace Slag</th>\n",
       "      <th>Fly Ash</th>\n",
       "      <th>Water</th>\n",
       "      <th>Superplasticizer</th>\n",
       "      <th>Coarse Aggregate</th>\n",
       "      <th>Fine Aggregate</th>\n",
       "      <th>Age</th>\n",
       "      <th>Strength</th>\n",
       "    </tr>\n",
       "  </thead>\n",
       "  <tbody>\n",
       "    <tr>\n",
       "      <th>0</th>\n",
       "      <td>540.0</td>\n",
       "      <td>0.0</td>\n",
       "      <td>0.0</td>\n",
       "      <td>162.0</td>\n",
       "      <td>2.5</td>\n",
       "      <td>1040.0</td>\n",
       "      <td>676.0</td>\n",
       "      <td>28</td>\n",
       "      <td>79.99</td>\n",
       "    </tr>\n",
       "    <tr>\n",
       "      <th>1</th>\n",
       "      <td>540.0</td>\n",
       "      <td>0.0</td>\n",
       "      <td>0.0</td>\n",
       "      <td>162.0</td>\n",
       "      <td>2.5</td>\n",
       "      <td>1055.0</td>\n",
       "      <td>676.0</td>\n",
       "      <td>28</td>\n",
       "      <td>61.89</td>\n",
       "    </tr>\n",
       "  </tbody>\n",
       "</table>\n",
       "</div>"
      ],
      "text/plain": [
       "   Cement  Blast Furnace Slag  Fly Ash  Water  Superplasticizer  \\\n",
       "0   540.0                 0.0      0.0  162.0               2.5   \n",
       "1   540.0                 0.0      0.0  162.0               2.5   \n",
       "\n",
       "   Coarse Aggregate  Fine Aggregate  Age  Strength  \n",
       "0            1040.0           676.0   28     79.99  \n",
       "1            1055.0           676.0   28     61.89  "
      ]
     },
     "execution_count": 2,
     "metadata": {},
     "output_type": "execute_result"
    }
   ],
   "source": [
    "import pandas as pd\n",
    "\n",
    "df = pd.read_csv(\"https://cocl.us/concrete_data\")\n",
    "df.head(2)"
   ]
  },
  {
   "cell_type": "markdown",
   "metadata": {},
   "source": [
    "### Check For Null Values"
   ]
  },
  {
   "cell_type": "code",
   "execution_count": 3,
   "metadata": {},
   "outputs": [
    {
     "data": {
      "text/plain": [
       "Cement                0\n",
       "Blast Furnace Slag    0\n",
       "Fly Ash               0\n",
       "Water                 0\n",
       "Superplasticizer      0\n",
       "Coarse Aggregate      0\n",
       "Fine Aggregate        0\n",
       "Age                   0\n",
       "Strength              0\n",
       "dtype: int64"
      ]
     },
     "execution_count": 3,
     "metadata": {},
     "output_type": "execute_result"
    }
   ],
   "source": [
    "df.isna().sum()"
   ]
  },
  {
   "cell_type": "markdown",
   "metadata": {},
   "source": [
    " "
   ]
  },
  {
   "cell_type": "markdown",
   "metadata": {},
   "source": [
    "\n",
    "\n",
    "Since there are no null values we can move forward with creating features and target vectors."
   ]
  },
  {
   "cell_type": "code",
   "execution_count": 4,
   "metadata": {},
   "outputs": [
    {
     "data": {
      "text/plain": [
       "((1030, 8), (1030,))"
      ]
     },
     "execution_count": 4,
     "metadata": {},
     "output_type": "execute_result"
    }
   ],
   "source": [
    "X = df.drop(\"Strength\", axis=1)\n",
    "y = df.loc[:, \"Strength\"]\n",
    "\n",
    "X.shape, y.shape"
   ]
  },
  {
   "cell_type": "markdown",
   "metadata": {},
   "source": [
    "### Normalizing Data"
   ]
  },
  {
   "cell_type": "code",
   "execution_count": 5,
   "metadata": {},
   "outputs": [
    {
     "data": {
      "text/html": [
       "<div>\n",
       "<style scoped>\n",
       "    .dataframe tbody tr th:only-of-type {\n",
       "        vertical-align: middle;\n",
       "    }\n",
       "\n",
       "    .dataframe tbody tr th {\n",
       "        vertical-align: top;\n",
       "    }\n",
       "\n",
       "    .dataframe thead th {\n",
       "        text-align: right;\n",
       "    }\n",
       "</style>\n",
       "<table border=\"1\" class=\"dataframe\">\n",
       "  <thead>\n",
       "    <tr style=\"text-align: right;\">\n",
       "      <th></th>\n",
       "      <th>Cement</th>\n",
       "      <th>Blast Furnace Slag</th>\n",
       "      <th>Fly Ash</th>\n",
       "      <th>Water</th>\n",
       "      <th>Superplasticizer</th>\n",
       "      <th>Coarse Aggregate</th>\n",
       "      <th>Fine Aggregate</th>\n",
       "      <th>Age</th>\n",
       "    </tr>\n",
       "  </thead>\n",
       "  <tbody>\n",
       "    <tr>\n",
       "      <th>0</th>\n",
       "      <td>2.476712</td>\n",
       "      <td>-0.856472</td>\n",
       "      <td>-0.846733</td>\n",
       "      <td>-0.916319</td>\n",
       "      <td>-0.620147</td>\n",
       "      <td>0.862735</td>\n",
       "      <td>-1.217079</td>\n",
       "      <td>-0.279597</td>\n",
       "    </tr>\n",
       "    <tr>\n",
       "      <th>1</th>\n",
       "      <td>2.476712</td>\n",
       "      <td>-0.856472</td>\n",
       "      <td>-0.846733</td>\n",
       "      <td>-0.916319</td>\n",
       "      <td>-0.620147</td>\n",
       "      <td>1.055651</td>\n",
       "      <td>-1.217079</td>\n",
       "      <td>-0.279597</td>\n",
       "    </tr>\n",
       "    <tr>\n",
       "      <th>2</th>\n",
       "      <td>0.491187</td>\n",
       "      <td>0.795140</td>\n",
       "      <td>-0.846733</td>\n",
       "      <td>2.174405</td>\n",
       "      <td>-1.038638</td>\n",
       "      <td>-0.526262</td>\n",
       "      <td>-2.239829</td>\n",
       "      <td>3.551340</td>\n",
       "    </tr>\n",
       "    <tr>\n",
       "      <th>3</th>\n",
       "      <td>0.491187</td>\n",
       "      <td>0.795140</td>\n",
       "      <td>-0.846733</td>\n",
       "      <td>2.174405</td>\n",
       "      <td>-1.038638</td>\n",
       "      <td>-0.526262</td>\n",
       "      <td>-2.239829</td>\n",
       "      <td>5.055221</td>\n",
       "    </tr>\n",
       "    <tr>\n",
       "      <th>4</th>\n",
       "      <td>-0.790075</td>\n",
       "      <td>0.678079</td>\n",
       "      <td>-0.846733</td>\n",
       "      <td>0.488555</td>\n",
       "      <td>-1.038638</td>\n",
       "      <td>0.070492</td>\n",
       "      <td>0.647569</td>\n",
       "      <td>4.976069</td>\n",
       "    </tr>\n",
       "  </tbody>\n",
       "</table>\n",
       "</div>"
      ],
      "text/plain": [
       "     Cement  Blast Furnace Slag   Fly Ash     Water  Superplasticizer  \\\n",
       "0  2.476712           -0.856472 -0.846733 -0.916319         -0.620147   \n",
       "1  2.476712           -0.856472 -0.846733 -0.916319         -0.620147   \n",
       "2  0.491187            0.795140 -0.846733  2.174405         -1.038638   \n",
       "3  0.491187            0.795140 -0.846733  2.174405         -1.038638   \n",
       "4 -0.790075            0.678079 -0.846733  0.488555         -1.038638   \n",
       "\n",
       "   Coarse Aggregate  Fine Aggregate       Age  \n",
       "0          0.862735       -1.217079 -0.279597  \n",
       "1          1.055651       -1.217079 -0.279597  \n",
       "2         -0.526262       -2.239829  3.551340  \n",
       "3         -0.526262       -2.239829  5.055221  \n",
       "4          0.070492        0.647569  4.976069  "
      ]
     },
     "execution_count": 5,
     "metadata": {},
     "output_type": "execute_result"
    }
   ],
   "source": [
    "X_norm = (X - X.mean()) / X.std()\n",
    "X_norm.head(5)"
   ]
  },
  {
   "cell_type": "code",
   "execution_count": 6,
   "metadata": {},
   "outputs": [
    {
     "data": {
      "text/html": [
       "<div>\n",
       "<style scoped>\n",
       "    .dataframe tbody tr th:only-of-type {\n",
       "        vertical-align: middle;\n",
       "    }\n",
       "\n",
       "    .dataframe tbody tr th {\n",
       "        vertical-align: top;\n",
       "    }\n",
       "\n",
       "    .dataframe thead th {\n",
       "        text-align: right;\n",
       "    }\n",
       "</style>\n",
       "<table border=\"1\" class=\"dataframe\">\n",
       "  <thead>\n",
       "    <tr style=\"text-align: right;\">\n",
       "      <th></th>\n",
       "      <th>Cement</th>\n",
       "      <th>Blast Furnace Slag</th>\n",
       "      <th>Fly Ash</th>\n",
       "      <th>Water</th>\n",
       "      <th>Superplasticizer</th>\n",
       "      <th>Coarse Aggregate</th>\n",
       "      <th>Fine Aggregate</th>\n",
       "      <th>Age</th>\n",
       "    </tr>\n",
       "  </thead>\n",
       "  <tbody>\n",
       "    <tr>\n",
       "      <th>count</th>\n",
       "      <td>1.030000e+03</td>\n",
       "      <td>1.030000e+03</td>\n",
       "      <td>1.030000e+03</td>\n",
       "      <td>1.030000e+03</td>\n",
       "      <td>1.030000e+03</td>\n",
       "      <td>1.030000e+03</td>\n",
       "      <td>1.030000e+03</td>\n",
       "      <td>1.030000e+03</td>\n",
       "    </tr>\n",
       "    <tr>\n",
       "      <th>mean</th>\n",
       "      <td>2.828374e-15</td>\n",
       "      <td>1.379695e-17</td>\n",
       "      <td>4.139084e-17</td>\n",
       "      <td>1.214131e-15</td>\n",
       "      <td>8.278168e-17</td>\n",
       "      <td>6.553550e-15</td>\n",
       "      <td>1.226549e-14</td>\n",
       "      <td>7.588320e-17</td>\n",
       "    </tr>\n",
       "    <tr>\n",
       "      <th>std</th>\n",
       "      <td>1.000000e+00</td>\n",
       "      <td>1.000000e+00</td>\n",
       "      <td>1.000000e+00</td>\n",
       "      <td>1.000000e+00</td>\n",
       "      <td>1.000000e+00</td>\n",
       "      <td>1.000000e+00</td>\n",
       "      <td>1.000000e+00</td>\n",
       "      <td>1.000000e+00</td>\n",
       "    </tr>\n",
       "    <tr>\n",
       "      <th>min</th>\n",
       "      <td>-1.714421e+00</td>\n",
       "      <td>-8.564718e-01</td>\n",
       "      <td>-8.467326e-01</td>\n",
       "      <td>-2.798851e+00</td>\n",
       "      <td>-1.038638e+00</td>\n",
       "      <td>-2.211064e+00</td>\n",
       "      <td>-2.239829e+00</td>\n",
       "      <td>-7.070160e-01</td>\n",
       "    </tr>\n",
       "    <tr>\n",
       "      <th>25%</th>\n",
       "      <td>-8.496407e-01</td>\n",
       "      <td>-8.564718e-01</td>\n",
       "      <td>-8.467326e-01</td>\n",
       "      <td>-7.805147e-01</td>\n",
       "      <td>-1.038638e+00</td>\n",
       "      <td>-5.262618e-01</td>\n",
       "      <td>-5.317114e-01</td>\n",
       "      <td>-6.120340e-01</td>\n",
       "    </tr>\n",
       "    <tr>\n",
       "      <th>50%</th>\n",
       "      <td>-7.911350e-02</td>\n",
       "      <td>-6.014861e-01</td>\n",
       "      <td>-8.467326e-01</td>\n",
       "      <td>1.607513e-01</td>\n",
       "      <td>3.269920e-02</td>\n",
       "      <td>-6.326279e-02</td>\n",
       "      <td>7.383152e-02</td>\n",
       "      <td>-2.795973e-01</td>\n",
       "    </tr>\n",
       "    <tr>\n",
       "      <th>75%</th>\n",
       "      <td>6.586406e-01</td>\n",
       "      <td>8.003558e-01</td>\n",
       "      <td>1.001791e+00</td>\n",
       "      <td>4.885554e-01</td>\n",
       "      <td>6.688058e-01</td>\n",
       "      <td>7.264077e-01</td>\n",
       "      <td>6.288606e-01</td>\n",
       "      <td>1.636517e-01</td>\n",
       "    </tr>\n",
       "    <tr>\n",
       "      <th>max</th>\n",
       "      <td>2.476712e+00</td>\n",
       "      <td>3.309068e+00</td>\n",
       "      <td>2.279976e+00</td>\n",
       "      <td>3.064159e+00</td>\n",
       "      <td>4.351528e+00</td>\n",
       "      <td>2.213149e+00</td>\n",
       "      <td>2.731735e+00</td>\n",
       "      <td>5.055221e+00</td>\n",
       "    </tr>\n",
       "  </tbody>\n",
       "</table>\n",
       "</div>"
      ],
      "text/plain": [
       "             Cement  Blast Furnace Slag       Fly Ash         Water  \\\n",
       "count  1.030000e+03        1.030000e+03  1.030000e+03  1.030000e+03   \n",
       "mean   2.828374e-15        1.379695e-17  4.139084e-17  1.214131e-15   \n",
       "std    1.000000e+00        1.000000e+00  1.000000e+00  1.000000e+00   \n",
       "min   -1.714421e+00       -8.564718e-01 -8.467326e-01 -2.798851e+00   \n",
       "25%   -8.496407e-01       -8.564718e-01 -8.467326e-01 -7.805147e-01   \n",
       "50%   -7.911350e-02       -6.014861e-01 -8.467326e-01  1.607513e-01   \n",
       "75%    6.586406e-01        8.003558e-01  1.001791e+00  4.885554e-01   \n",
       "max    2.476712e+00        3.309068e+00  2.279976e+00  3.064159e+00   \n",
       "\n",
       "       Superplasticizer  Coarse Aggregate  Fine Aggregate           Age  \n",
       "count      1.030000e+03      1.030000e+03    1.030000e+03  1.030000e+03  \n",
       "mean       8.278168e-17      6.553550e-15    1.226549e-14  7.588320e-17  \n",
       "std        1.000000e+00      1.000000e+00    1.000000e+00  1.000000e+00  \n",
       "min       -1.038638e+00     -2.211064e+00   -2.239829e+00 -7.070160e-01  \n",
       "25%       -1.038638e+00     -5.262618e-01   -5.317114e-01 -6.120340e-01  \n",
       "50%        3.269920e-02     -6.326279e-02    7.383152e-02 -2.795973e-01  \n",
       "75%        6.688058e-01      7.264077e-01    6.288606e-01  1.636517e-01  \n",
       "max        4.351528e+00      2.213149e+00    2.731735e+00  5.055221e+00  "
      ]
     },
     "execution_count": 6,
     "metadata": {},
     "output_type": "execute_result"
    }
   ],
   "source": [
    "X_norm.describe()"
   ]
  },
  {
   "cell_type": "markdown",
   "metadata": {},
   "source": [
    "### Split the data in train and test"
   ]
  },
  {
   "cell_type": "code",
   "execution_count": 7,
   "metadata": {},
   "outputs": [
    {
     "data": {
      "text/plain": [
       "((721, 8), (309, 8), (721,), (309,))"
      ]
     },
     "execution_count": 7,
     "metadata": {},
     "output_type": "execute_result"
    }
   ],
   "source": [
    "from sklearn.model_selection import train_test_split\n",
    "X_train, X_test, y_train, y_test = train_test_split(X_norm, y, test_size=0.3)\n",
    "\n",
    "X_train.shape, X_test.shape, y_train.shape, y_test.shape"
   ]
  },
  {
   "cell_type": "markdown",
   "metadata": {},
   "source": [
    "### Create the model"
   ]
  },
  {
   "cell_type": "code",
   "execution_count": 8,
   "metadata": {},
   "outputs": [],
   "source": [
    "import tensorflow.keras as keras"
   ]
  },
  {
   "cell_type": "code",
   "execution_count": 9,
   "metadata": {},
   "outputs": [],
   "source": [
    "def build_model():\n",
    "    model = keras.models.Sequential()\n",
    "    model.add(keras.layers.Dense(10, activation=\"relu\", input_shape=(X_norm.shape[1],)))\n",
    "    model.add(keras.layers.Dense(1))\n",
    "    \n",
    "    model.compile(optimizer=\"adam\", loss=\"mean_squared_error\")\n",
    "    return model"
   ]
  },
  {
   "cell_type": "code",
   "execution_count": 10,
   "metadata": {},
   "outputs": [
    {
     "name": "stdout",
     "output_type": "stream",
     "text": [
      "Epoch 1/100\n",
      "23/23 [==============================] - 0s 3ms/step - loss: 1626.9867\n",
      "Epoch 2/100\n",
      "23/23 [==============================] - 0s 3ms/step - loss: 1606.8754\n",
      "Epoch 3/100\n",
      "23/23 [==============================] - 0s 3ms/step - loss: 1587.4576\n",
      "Epoch 4/100\n",
      "23/23 [==============================] - 0s 3ms/step - loss: 1568.2507\n",
      "Epoch 5/100\n",
      "23/23 [==============================] - 0s 3ms/step - loss: 1549.3539\n",
      "Epoch 6/100\n",
      "23/23 [==============================] - 0s 3ms/step - loss: 1530.5327\n",
      "Epoch 7/100\n",
      "23/23 [==============================] - 0s 3ms/step - loss: 1511.9062\n",
      "Epoch 8/100\n",
      "23/23 [==============================] - 0s 3ms/step - loss: 1493.0558\n",
      "Epoch 9/100\n",
      "23/23 [==============================] - 0s 3ms/step - loss: 1474.1213\n",
      "Epoch 10/100\n",
      "23/23 [==============================] - 0s 3ms/step - loss: 1455.1954\n",
      "Epoch 11/100\n",
      "23/23 [==============================] - 0s 3ms/step - loss: 1436.0043\n",
      "Epoch 12/100\n",
      "23/23 [==============================] - 0s 3ms/step - loss: 1416.1299\n",
      "Epoch 13/100\n",
      "23/23 [==============================] - 0s 3ms/step - loss: 1396.4032\n",
      "Epoch 14/100\n",
      "23/23 [==============================] - 0s 3ms/step - loss: 1376.0107\n",
      "Epoch 15/100\n",
      "23/23 [==============================] - 0s 3ms/step - loss: 1355.6661\n",
      "Epoch 16/100\n",
      "23/23 [==============================] - 0s 3ms/step - loss: 1334.5815\n",
      "Epoch 17/100\n",
      "23/23 [==============================] - 0s 3ms/step - loss: 1313.4257\n",
      "Epoch 18/100\n",
      "23/23 [==============================] - 0s 3ms/step - loss: 1291.5107\n",
      "Epoch 19/100\n",
      "23/23 [==============================] - 0s 3ms/step - loss: 1269.2091\n",
      "Epoch 20/100\n",
      "23/23 [==============================] - 0s 3ms/step - loss: 1246.0946\n",
      "Epoch 21/100\n",
      "23/23 [==============================] - 0s 3ms/step - loss: 1222.6119\n",
      "Epoch 22/100\n",
      "23/23 [==============================] - 0s 3ms/step - loss: 1198.2272\n",
      "Epoch 23/100\n",
      "23/23 [==============================] - 0s 3ms/step - loss: 1173.0892\n",
      "Epoch 24/100\n",
      "23/23 [==============================] - 0s 3ms/step - loss: 1147.2848\n",
      "Epoch 25/100\n",
      "23/23 [==============================] - 0s 3ms/step - loss: 1119.8446\n",
      "Epoch 26/100\n",
      "23/23 [==============================] - 0s 3ms/step - loss: 1091.7053\n",
      "Epoch 27/100\n",
      "23/23 [==============================] - 0s 3ms/step - loss: 1062.6298\n",
      "Epoch 28/100\n",
      "23/23 [==============================] - 0s 3ms/step - loss: 1032.7097\n",
      "Epoch 29/100\n",
      "23/23 [==============================] - 0s 3ms/step - loss: 1002.1387\n",
      "Epoch 30/100\n",
      "23/23 [==============================] - 0s 3ms/step - loss: 970.5405\n",
      "Epoch 31/100\n",
      "23/23 [==============================] - 0s 3ms/step - loss: 938.2098\n",
      "Epoch 32/100\n",
      "23/23 [==============================] - 0s 3ms/step - loss: 905.4984\n",
      "Epoch 33/100\n",
      "23/23 [==============================] - 0s 3ms/step - loss: 873.1539\n",
      "Epoch 34/100\n",
      "23/23 [==============================] - 0s 3ms/step - loss: 840.8784\n",
      "Epoch 35/100\n",
      "23/23 [==============================] - 0s 3ms/step - loss: 808.7232\n",
      "Epoch 36/100\n",
      "23/23 [==============================] - 0s 3ms/step - loss: 776.5941\n",
      "Epoch 37/100\n",
      "23/23 [==============================] - 0s 3ms/step - loss: 745.2843\n",
      "Epoch 38/100\n",
      "23/23 [==============================] - 0s 3ms/step - loss: 714.0007\n",
      "Epoch 39/100\n",
      "23/23 [==============================] - 0s 3ms/step - loss: 683.4306\n",
      "Epoch 40/100\n",
      "23/23 [==============================] - 0s 3ms/step - loss: 653.7413\n",
      "Epoch 41/100\n",
      "23/23 [==============================] - 0s 3ms/step - loss: 624.8538\n",
      "Epoch 42/100\n",
      "23/23 [==============================] - 0s 3ms/step - loss: 596.3025\n",
      "Epoch 43/100\n",
      "23/23 [==============================] - 0s 3ms/step - loss: 569.7333\n",
      "Epoch 44/100\n",
      "23/23 [==============================] - 0s 3ms/step - loss: 543.9568\n",
      "Epoch 45/100\n",
      "23/23 [==============================] - 0s 3ms/step - loss: 518.7147\n",
      "Epoch 46/100\n",
      "23/23 [==============================] - 0s 3ms/step - loss: 495.0549\n",
      "Epoch 47/100\n",
      "23/23 [==============================] - 0s 3ms/step - loss: 472.7230\n",
      "Epoch 48/100\n",
      "23/23 [==============================] - 0s 3ms/step - loss: 451.2317\n",
      "Epoch 49/100\n",
      "23/23 [==============================] - 0s 3ms/step - loss: 431.0197\n",
      "Epoch 50/100\n",
      "23/23 [==============================] - 0s 4ms/step - loss: 412.0806\n",
      "Epoch 51/100\n",
      "23/23 [==============================] - 0s 3ms/step - loss: 394.5551\n",
      "Epoch 52/100\n",
      "23/23 [==============================] - 0s 3ms/step - loss: 377.8056\n",
      "Epoch 53/100\n",
      "23/23 [==============================] - 0s 3ms/step - loss: 362.5350\n",
      "Epoch 54/100\n",
      "23/23 [==============================] - 0s 3ms/step - loss: 347.9155\n",
      "Epoch 55/100\n",
      "23/23 [==============================] - 0s 3ms/step - loss: 334.9082\n",
      "Epoch 56/100\n",
      "23/23 [==============================] - 0s 5ms/step - loss: 322.1649\n",
      "Epoch 57/100\n",
      "23/23 [==============================] - 0s 3ms/step - loss: 310.7827\n",
      "Epoch 58/100\n",
      "23/23 [==============================] - 0s 3ms/step - loss: 300.3167\n",
      "Epoch 59/100\n",
      "23/23 [==============================] - 0s 3ms/step - loss: 290.4037\n",
      "Epoch 60/100\n",
      "23/23 [==============================] - 0s 3ms/step - loss: 281.4484\n",
      "Epoch 61/100\n",
      "23/23 [==============================] - 0s 3ms/step - loss: 273.1321\n",
      "Epoch 62/100\n",
      "23/23 [==============================] - 0s 3ms/step - loss: 265.4013\n",
      "Epoch 63/100\n",
      "23/23 [==============================] - 0s 3ms/step - loss: 258.5856\n",
      "Epoch 64/100\n",
      "23/23 [==============================] - 0s 3ms/step - loss: 251.9101\n",
      "Epoch 65/100\n",
      "23/23 [==============================] - 0s 3ms/step - loss: 246.0265\n",
      "Epoch 66/100\n",
      "23/23 [==============================] - 0s 3ms/step - loss: 240.5837\n",
      "Epoch 67/100\n",
      "23/23 [==============================] - 0s 3ms/step - loss: 235.5012\n",
      "Epoch 68/100\n",
      "23/23 [==============================] - 0s 3ms/step - loss: 230.8549\n",
      "Epoch 69/100\n",
      "23/23 [==============================] - 0s 3ms/step - loss: 226.5676\n",
      "Epoch 70/100\n",
      "23/23 [==============================] - 0s 3ms/step - loss: 222.4786\n",
      "Epoch 71/100\n",
      "23/23 [==============================] - 0s 3ms/step - loss: 218.7867\n",
      "Epoch 72/100\n",
      "23/23 [==============================] - 0s 3ms/step - loss: 215.3616\n",
      "Epoch 73/100\n",
      "23/23 [==============================] - 0s 3ms/step - loss: 212.2859\n",
      "Epoch 74/100\n",
      "23/23 [==============================] - 0s 3ms/step - loss: 209.2514\n",
      "Epoch 75/100\n",
      "23/23 [==============================] - 0s 3ms/step - loss: 206.5234\n",
      "Epoch 76/100\n",
      "23/23 [==============================] - 0s 3ms/step - loss: 203.9221\n",
      "Epoch 77/100\n",
      "23/23 [==============================] - 0s 3ms/step - loss: 201.5150\n",
      "Epoch 78/100\n",
      "23/23 [==============================] - 0s 3ms/step - loss: 199.2073\n",
      "Epoch 79/100\n",
      "23/23 [==============================] - 0s 3ms/step - loss: 197.1126\n",
      "Epoch 80/100\n",
      "23/23 [==============================] - 0s 3ms/step - loss: 195.0808\n",
      "Epoch 81/100\n",
      "23/23 [==============================] - 0s 3ms/step - loss: 193.1130\n",
      "Epoch 82/100\n",
      "23/23 [==============================] - 0s 3ms/step - loss: 191.3055\n",
      "Epoch 83/100\n",
      "23/23 [==============================] - 0s 3ms/step - loss: 189.6412\n",
      "Epoch 84/100\n",
      "23/23 [==============================] - 0s 3ms/step - loss: 187.9615\n",
      "Epoch 85/100\n",
      "23/23 [==============================] - 0s 3ms/step - loss: 186.4722\n",
      "Epoch 86/100\n",
      "23/23 [==============================] - 0s 3ms/step - loss: 184.9281\n",
      "Epoch 87/100\n",
      "23/23 [==============================] - 0s 3ms/step - loss: 183.5405\n",
      "Epoch 88/100\n",
      "23/23 [==============================] - 0s 3ms/step - loss: 182.1887\n",
      "Epoch 89/100\n",
      "23/23 [==============================] - 0s 3ms/step - loss: 180.7826\n",
      "Epoch 90/100\n",
      "23/23 [==============================] - 0s 3ms/step - loss: 179.5638\n",
      "Epoch 91/100\n",
      "23/23 [==============================] - 0s 2ms/step - loss: 178.2823\n",
      "Epoch 92/100\n",
      "23/23 [==============================] - 0s 3ms/step - loss: 177.1264\n",
      "Epoch 93/100\n",
      "23/23 [==============================] - 0s 3ms/step - loss: 176.0110\n",
      "Epoch 94/100\n",
      "23/23 [==============================] - 0s 3ms/step - loss: 174.9126\n",
      "Epoch 95/100\n",
      "23/23 [==============================] - 0s 3ms/step - loss: 173.9405\n",
      "Epoch 96/100\n",
      "23/23 [==============================] - 0s 3ms/step - loss: 172.9368\n",
      "Epoch 97/100\n",
      "23/23 [==============================] - 0s 3ms/step - loss: 172.1265\n",
      "Epoch 98/100\n",
      "23/23 [==============================] - 0s 3ms/step - loss: 171.0787\n",
      "Epoch 99/100\n"
     ]
    },
    {
     "name": "stdout",
     "output_type": "stream",
     "text": [
      "23/23 [==============================] - 0s 3ms/step - loss: 170.1760\n",
      "Epoch 100/100\n",
      "23/23 [==============================] - 0s 3ms/step - loss: 169.3474\n"
     ]
    },
    {
     "data": {
      "text/plain": [
       "<tensorflow.python.keras.callbacks.History at 0x7fe0f906a748>"
      ]
     },
     "execution_count": 10,
     "metadata": {},
     "output_type": "execute_result"
    }
   ],
   "source": [
    "model = build_model()\n",
    "\n",
    "model.fit(X_train, y_train, epochs=100, verbose=1)"
   ]
  },
  {
   "cell_type": "markdown",
   "metadata": {},
   "source": [
    "### Calculating Mean Squared Error"
   ]
  },
  {
   "cell_type": "code",
   "execution_count": 11,
   "metadata": {},
   "outputs": [
    {
     "name": "stdout",
     "output_type": "stream",
     "text": [
      "Test MSE: 131.44133536483713\n"
     ]
    }
   ],
   "source": [
    "from sklearn.metrics import mean_squared_error\n",
    "\n",
    "predicted_y = model.predict(X_test)\n",
    "mse = mean_squared_error(y_test, predicted_y)\n",
    "print(f\"Test MSE: {mse}\")"
   ]
  },
  {
   "cell_type": "markdown",
   "metadata": {},
   "source": [
    "### Since we have to create a list of 50 MSEs putting everything in a function"
   ]
  },
  {
   "cell_type": "code",
   "execution_count": 12,
   "metadata": {},
   "outputs": [],
   "source": [
    "def do_n_times(n=50):\n",
    "    mse_list = []\n",
    "    for index in range(n):\n",
    "        # split data\n",
    "        X_train, X_test, y_train, y_test = train_test_split(X_norm, y, test_size=0.3)\n",
    "        \n",
    "        # build model\n",
    "        model = build_model()\n",
    "        \n",
    "        # train model\n",
    "        model.fit(X_train, y_train, epochs=100, verbose=0)\n",
    "        \n",
    "        # predict test set\n",
    "        predicted_y = model.predict(X_test)\n",
    "        \n",
    "        # get MSE for the model\n",
    "        mse = mean_squared_error(y_test, predicted_y)\n",
    "        print(f\"MSE {index}: {mse}\")\n",
    "        \n",
    "        # append to list\n",
    "        mse_list.append(mse)\n",
    "    return mse_list"
   ]
  },
  {
   "cell_type": "code",
   "execution_count": 13,
   "metadata": {},
   "outputs": [
    {
     "name": "stdout",
     "output_type": "stream",
     "text": [
      "MSE 0: 189.48354905849584\n",
      "MSE 1: 153.18908825615983\n",
      "MSE 2: 169.09409733552243\n",
      "MSE 3: 140.8499875547605\n",
      "MSE 4: 169.21012979533674\n",
      "MSE 5: 170.09199287904917\n",
      "MSE 6: 159.09785339391723\n",
      "MSE 7: 162.66515515197972\n",
      "MSE 8: 181.44445658275075\n",
      "MSE 9: 173.59990356269012\n",
      "MSE 10: 149.83513660844292\n",
      "MSE 11: 168.52835269469568\n",
      "MSE 12: 152.66740140943685\n",
      "MSE 13: 152.60443266710956\n",
      "MSE 14: 166.67218184172867\n",
      "MSE 15: 161.0493402284891\n",
      "MSE 16: 144.6552469171459\n",
      "MSE 17: 210.31781264257515\n",
      "MSE 18: 192.80709713904028\n",
      "MSE 19: 299.7803564984036\n",
      "MSE 20: 153.49703921424893\n",
      "MSE 21: 165.26307403620459\n",
      "MSE 22: 181.29439447847255\n",
      "MSE 23: 169.73916502477618\n",
      "MSE 24: 225.01366306207484\n",
      "MSE 25: 146.0507954094618\n",
      "MSE 26: 181.18369711305888\n",
      "MSE 27: 242.9238434731821\n",
      "MSE 28: 162.87025018531247\n",
      "MSE 29: 164.35039171127661\n",
      "MSE 30: 152.42695702553632\n",
      "MSE 31: 151.3778823287842\n",
      "MSE 32: 174.5923629805581\n",
      "MSE 33: 173.0297294047305\n",
      "MSE 34: 185.07476229274104\n",
      "MSE 35: 198.66845653701614\n",
      "MSE 36: 156.55155488829828\n",
      "MSE 37: 176.63171346238985\n",
      "MSE 38: 155.6680460316365\n",
      "MSE 39: 179.95690406992884\n",
      "MSE 40: 174.3304709643828\n",
      "MSE 41: 156.14848501639733\n",
      "MSE 42: 175.04397265936527\n",
      "MSE 43: 147.00808145743702\n",
      "MSE 44: 173.21564520796068\n",
      "MSE 45: 135.6079243764298\n",
      "MSE 46: 157.29926620791622\n",
      "MSE 47: 190.65607484267846\n",
      "MSE 48: 193.24676527428002\n",
      "MSE 49: 166.0737921460428\n"
     ]
    }
   ],
   "source": [
    "mse_list = do_n_times(50)"
   ]
  },
  {
   "cell_type": "markdown",
   "metadata": {},
   "source": [
    "### Average and Standard Deviation of MSE"
   ]
  },
  {
   "cell_type": "code",
   "execution_count": 14,
   "metadata": {},
   "outputs": [
    {
     "name": "stdout",
     "output_type": "stream",
     "text": [
      "Average of MSEs: 172.6487746620062\n",
      "Standard Deviation MSEs: 27.24973379819123\n"
     ]
    }
   ],
   "source": [
    "import numpy as np\n",
    "print(f\"Average of MSEs: {np.mean(mse_list)}\")\n",
    "print(f\"Standard Deviation MSEs: {np.std(mse_list)}\")\n"
   ]
  },
  {
   "cell_type": "markdown",
   "metadata": {},
   "source": [
    "### Plot different MSEs"
   ]
  },
  {
   "cell_type": "code",
   "execution_count": 15,
   "metadata": {},
   "outputs": [
    {
     "data": {
      "image/png": "[encoded data removed]",
      "text/plain": [
       "<Figure size 576x288 with 1 Axes>"
      ]
     },
     "metadata": {
      "needs_background": "light"
     },
     "output_type": "display_data"
    }
   ],
   "source": [
    "import matplotlib.pyplot as plt\n",
    "\n",
    "plt.figure(figsize=(8, 4))\n",
    "plt.plot(mse_list)\n",
    "plt.xlabel(\"Try\")\n",
    "plt.ylabel(\"MSE\")\n",
    "\n",
    "plt.show()"
   ]
  },
  {
   "cell_type": "markdown",
   "metadata": {},
   "source": [
    "## How does the mean of the mean squared errors compare to that from Step B?"
   ]
  },
  {
   "cell_type": "markdown",
   "metadata": {},
   "source": [
    "Below picture shows the results from part B:\n",
    "- Avg MSE: 359.07\n",
    "- Std MSE: 83.00"
   ]
  },
  {
   "cell_type": "markdown",
   "metadata": {},
   "source": [
    "![title](part_b_results.png)"
   ]
  },
  {
   "cell_type": "markdown",
   "metadata": {},
   "source": [
    "The Avg. MSE has decreased from 359.07 to 172.65 and the Standard Deviation in the MSE has reduced from 83.00 to 27.25.<br>\n",
    "The model is performing much better and is even more consistant than part B."
   ]
  }
 ],
 "metadata": {
  "kernelspec": {
   "display_name": "Python 3",
   "language": "python",
   "name": "python3"
  },
  "language_info": {
   "codemirror_mode": {
    "name": "ipython",
    "version": 3
   },
   "file_extension": ".py",
   "mimetype": "text/x-python",
   "name": "python",
   "nbconvert_exporter": "python",
   "pygments_lexer": "ipython3",
   "version": "3.6.9"
  }
 },
 "nbformat": 4,
 "nbformat_minor": 2
}
