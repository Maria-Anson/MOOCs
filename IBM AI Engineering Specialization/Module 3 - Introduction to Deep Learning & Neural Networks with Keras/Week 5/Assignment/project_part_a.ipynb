{
 "cells": [
  {
   "cell_type": "markdown",
   "metadata": {},
   "source": [
    "# Please ignore the below block of code.\n",
    "Just a custom code block to run my tensorflow with gpu support."
   ]
  },
  {
   "cell_type": "code",
   "execution_count": 1,
   "metadata": {},
   "outputs": [
    {
     "name": "stdout",
     "output_type": "stream",
     "text": [
      "1 Physical GPUs, 1 Logical GPUs\n"
     ]
    }
   ],
   "source": [
    "import tensorflow as tf\n",
    "gpus = tf.config.experimental.list_physical_devices('GPU')\n",
    "if gpus:\n",
    "  try:\n",
    "    # Currently, memory growth needs to be the same across GPUs\n",
    "    for gpu in gpus:\n",
    "      tf.config.experimental.set_memory_growth(gpu, True)\n",
    "    logical_gpus = tf.config.experimental.list_logical_devices('GPU')\n",
    "    print(len(gpus), \"Physical GPUs,\", len(logical_gpus), \"Logical GPUs\")\n",
    "  except RuntimeError as e:\n",
    "    # Memory growth must be set before GPUs have been initialized\n",
    "    print(e)"
   ]
  },
  {
   "cell_type": "markdown",
   "metadata": {},
   "source": [
    "# Code Starts Here"
   ]
  },
  {
   "cell_type": "markdown",
   "metadata": {},
   "source": [
    "### Import Data"
   ]
  },
  {
   "cell_type": "code",
   "execution_count": 2,
   "metadata": {},
   "outputs": [
    {
     "data": {
      "text/html": [
       "<div>\n",
       "<style scoped>\n",
       "    .dataframe tbody tr th:only-of-type {\n",
       "        vertical-align: middle;\n",
       "    }\n",
       "\n",
       "    .dataframe tbody tr th {\n",
       "        vertical-align: top;\n",
       "    }\n",
       "\n",
       "    .dataframe thead th {\n",
       "        text-align: right;\n",
       "    }\n",
       "</style>\n",
       "<table border=\"1\" class=\"dataframe\">\n",
       "  <thead>\n",
       "    <tr style=\"text-align: right;\">\n",
       "      <th></th>\n",
       "      <th>Cement</th>\n",
       "      <th>Blast Furnace Slag</th>\n",
       "      <th>Fly Ash</th>\n",
       "      <th>Water</th>\n",
       "      <th>Superplasticizer</th>\n",
       "      <th>Coarse Aggregate</th>\n",
       "      <th>Fine Aggregate</th>\n",
       "      <th>Age</th>\n",
       "      <th>Strength</th>\n",
       "    </tr>\n",
       "  </thead>\n",
       "  <tbody>\n",
       "    <tr>\n",
       "      <th>0</th>\n",
       "      <td>540.0</td>\n",
       "      <td>0.0</td>\n",
       "      <td>0.0</td>\n",
       "      <td>162.0</td>\n",
       "      <td>2.5</td>\n",
       "      <td>1040.0</td>\n",
       "      <td>676.0</td>\n",
       "      <td>28</td>\n",
       "      <td>79.99</td>\n",
       "    </tr>\n",
       "    <tr>\n",
       "      <th>1</th>\n",
       "      <td>540.0</td>\n",
       "      <td>0.0</td>\n",
       "      <td>0.0</td>\n",
       "      <td>162.0</td>\n",
       "      <td>2.5</td>\n",
       "      <td>1055.0</td>\n",
       "      <td>676.0</td>\n",
       "      <td>28</td>\n",
       "      <td>61.89</td>\n",
       "    </tr>\n",
       "  </tbody>\n",
       "</table>\n",
       "</div>"
      ],
      "text/plain": [
       "   Cement  Blast Furnace Slag  Fly Ash  Water  Superplasticizer  \\\n",
       "0   540.0                 0.0      0.0  162.0               2.5   \n",
       "1   540.0                 0.0      0.0  162.0               2.5   \n",
       "\n",
       "   Coarse Aggregate  Fine Aggregate  Age  Strength  \n",
       "0            1040.0           676.0   28     79.99  \n",
       "1            1055.0           676.0   28     61.89  "
      ]
     },
     "execution_count": 2,
     "metadata": {},
     "output_type": "execute_result"
    }
   ],
   "source": [
    "import pandas as pd\n",
    "\n",
    "df = pd.read_csv(\"https://cocl.us/concrete_data\")\n",
    "df.head(2)"
   ]
  },
  {
   "cell_type": "markdown",
   "metadata": {},
   "source": [
    "### Check For Null Values"
   ]
  },
  {
   "cell_type": "code",
   "execution_count": 3,
   "metadata": {},
   "outputs": [
    {
     "data": {
      "text/plain": [
       "Cement                0\n",
       "Blast Furnace Slag    0\n",
       "Fly Ash               0\n",
       "Water                 0\n",
       "Superplasticizer      0\n",
       "Coarse Aggregate      0\n",
       "Fine Aggregate        0\n",
       "Age                   0\n",
       "Strength              0\n",
       "dtype: int64"
      ]
     },
     "execution_count": 3,
     "metadata": {},
     "output_type": "execute_result"
    }
   ],
   "source": [
    "df.isna().sum()"
   ]
  },
  {
   "cell_type": "markdown",
   "metadata": {},
   "source": [
    " "
   ]
  },
  {
   "cell_type": "markdown",
   "metadata": {},
   "source": [
    "\n",
    "\n",
    "Since there are no null values we can move forward with creating features and target vectors."
   ]
  },
  {
   "cell_type": "code",
   "execution_count": 4,
   "metadata": {},
   "outputs": [
    {
     "data": {
      "text/plain": [
       "((1030, 8), (1030,))"
      ]
     },
     "execution_count": 4,
     "metadata": {},
     "output_type": "execute_result"
    }
   ],
   "source": [
    "X = df.drop(\"Strength\", axis=1)\n",
    "y = df.loc[:, \"Strength\"]\n",
    "\n",
    "X.shape, y.shape"
   ]
  },
  {
   "cell_type": "markdown",
   "metadata": {},
   "source": [
    "### Split the data in train and test"
   ]
  },
  {
   "cell_type": "code",
   "execution_count": 5,
   "metadata": {},
   "outputs": [
    {
     "data": {
      "text/plain": [
       "((721, 8), (309, 8), (721,), (309,))"
      ]
     },
     "execution_count": 5,
     "metadata": {},
     "output_type": "execute_result"
    }
   ],
   "source": [
    "from sklearn.model_selection import train_test_split\n",
    "X_train, X_test, y_train, y_test = train_test_split(X, y, test_size=0.3)\n",
    "\n",
    "X_train.shape, X_test.shape, y_train.shape, y_test.shape"
   ]
  },
  {
   "cell_type": "markdown",
   "metadata": {},
   "source": [
    "### Create the model"
   ]
  },
  {
   "cell_type": "code",
   "execution_count": 6,
   "metadata": {},
   "outputs": [],
   "source": [
    "import tensorflow.keras as keras"
   ]
  },
  {
   "cell_type": "code",
   "execution_count": 7,
   "metadata": {},
   "outputs": [],
   "source": [
    "def build_model():\n",
    "    model = keras.models.Sequential()\n",
    "    model.add(keras.layers.Dense(10, activation=\"relu\", input_shape=(X.shape[1],)))\n",
    "    model.add(keras.layers.Dense(1))\n",
    "    \n",
    "    model.compile(optimizer=\"adam\", loss=\"mean_squared_error\")\n",
    "    return model"
   ]
  },
  {
   "cell_type": "code",
   "execution_count": 8,
   "metadata": {},
   "outputs": [
    {
     "name": "stdout",
     "output_type": "stream",
     "text": [
      "Epoch 1/50\n",
      "23/23 [==============================] - 0s 2ms/step - loss: 3106.5081\n",
      "Epoch 2/50\n",
      "23/23 [==============================] - 0s 3ms/step - loss: 1874.1129\n",
      "Epoch 3/50\n",
      "23/23 [==============================] - 0s 3ms/step - loss: 1498.4380\n",
      "Epoch 4/50\n",
      "23/23 [==============================] - 0s 3ms/step - loss: 1260.6569\n",
      "Epoch 5/50\n",
      "23/23 [==============================] - 0s 3ms/step - loss: 1087.2555\n",
      "Epoch 6/50\n",
      "23/23 [==============================] - 0s 3ms/step - loss: 951.2848\n",
      "Epoch 7/50\n",
      "23/23 [==============================] - 0s 3ms/step - loss: 842.4612\n",
      "Epoch 8/50\n",
      "23/23 [==============================] - 0s 3ms/step - loss: 749.5769\n",
      "Epoch 9/50\n",
      "23/23 [==============================] - 0s 2ms/step - loss: 677.1929\n",
      "Epoch 10/50\n",
      "23/23 [==============================] - 0s 2ms/step - loss: 615.0200\n",
      "Epoch 11/50\n",
      "23/23 [==============================] - 0s 2ms/step - loss: 560.8834\n",
      "Epoch 12/50\n",
      "23/23 [==============================] - 0s 2ms/step - loss: 514.0228\n",
      "Epoch 13/50\n",
      "23/23 [==============================] - 0s 3ms/step - loss: 475.8634\n",
      "Epoch 14/50\n",
      "23/23 [==============================] - 0s 2ms/step - loss: 438.2548\n",
      "Epoch 15/50\n",
      "23/23 [==============================] - 0s 3ms/step - loss: 412.2967\n",
      "Epoch 16/50\n",
      "23/23 [==============================] - 0s 2ms/step - loss: 380.4974\n",
      "Epoch 17/50\n",
      "23/23 [==============================] - 0s 2ms/step - loss: 355.8796\n",
      "Epoch 18/50\n",
      "23/23 [==============================] - 0s 3ms/step - loss: 330.5002\n",
      "Epoch 19/50\n",
      "23/23 [==============================] - 0s 3ms/step - loss: 313.0638\n",
      "Epoch 20/50\n",
      "23/23 [==============================] - 0s 2ms/step - loss: 295.1140\n",
      "Epoch 21/50\n",
      "23/23 [==============================] - 0s 2ms/step - loss: 279.9114\n",
      "Epoch 22/50\n",
      "23/23 [==============================] - 0s 2ms/step - loss: 262.1098\n",
      "Epoch 23/50\n",
      "23/23 [==============================] - 0s 3ms/step - loss: 251.7144\n",
      "Epoch 24/50\n",
      "23/23 [==============================] - 0s 3ms/step - loss: 232.0697\n",
      "Epoch 25/50\n",
      "23/23 [==============================] - 0s 2ms/step - loss: 222.1712\n",
      "Epoch 26/50\n",
      "23/23 [==============================] - 0s 2ms/step - loss: 209.4847\n",
      "Epoch 27/50\n",
      "23/23 [==============================] - 0s 3ms/step - loss: 200.1787\n",
      "Epoch 28/50\n",
      "23/23 [==============================] - 0s 2ms/step - loss: 191.9489\n",
      "Epoch 29/50\n",
      "23/23 [==============================] - 0s 2ms/step - loss: 186.3817\n",
      "Epoch 30/50\n",
      "23/23 [==============================] - 0s 3ms/step - loss: 178.3118\n",
      "Epoch 31/50\n",
      "23/23 [==============================] - 0s 2ms/step - loss: 174.8596\n",
      "Epoch 32/50\n",
      "23/23 [==============================] - 0s 3ms/step - loss: 167.3419\n",
      "Epoch 33/50\n",
      "23/23 [==============================] - 0s 2ms/step - loss: 161.5765\n",
      "Epoch 34/50\n",
      "23/23 [==============================] - 0s 3ms/step - loss: 155.7069\n",
      "Epoch 35/50\n",
      "23/23 [==============================] - 0s 3ms/step - loss: 154.0704\n",
      "Epoch 36/50\n",
      "23/23 [==============================] - 0s 3ms/step - loss: 147.3038\n",
      "Epoch 37/50\n",
      "23/23 [==============================] - 0s 3ms/step - loss: 144.2463\n",
      "Epoch 38/50\n",
      "23/23 [==============================] - 0s 3ms/step - loss: 141.3717\n",
      "Epoch 39/50\n",
      "23/23 [==============================] - 0s 2ms/step - loss: 137.2020\n",
      "Epoch 40/50\n",
      "23/23 [==============================] - 0s 3ms/step - loss: 134.5384\n",
      "Epoch 41/50\n",
      "23/23 [==============================] - 0s 3ms/step - loss: 131.9243\n",
      "Epoch 42/50\n",
      "23/23 [==============================] - 0s 2ms/step - loss: 129.7640\n",
      "Epoch 43/50\n",
      "23/23 [==============================] - 0s 2ms/step - loss: 130.6128\n",
      "Epoch 44/50\n",
      "23/23 [==============================] - 0s 2ms/step - loss: 126.0704\n",
      "Epoch 45/50\n",
      "23/23 [==============================] - 0s 3ms/step - loss: 123.5032\n",
      "Epoch 46/50\n",
      "23/23 [==============================] - 0s 3ms/step - loss: 124.7687\n",
      "Epoch 47/50\n",
      "23/23 [==============================] - 0s 3ms/step - loss: 118.9512\n",
      "Epoch 48/50\n",
      "23/23 [==============================] - 0s 3ms/step - loss: 116.8721\n",
      "Epoch 49/50\n",
      "23/23 [==============================] - 0s 3ms/step - loss: 115.1547\n",
      "Epoch 50/50\n",
      "23/23 [==============================] - 0s 2ms/step - loss: 113.5385\n"
     ]
    },
    {
     "data": {
      "text/plain": [
       "<tensorflow.python.keras.callbacks.History at 0x7f545c883a90>"
      ]
     },
     "execution_count": 8,
     "metadata": {},
     "output_type": "execute_result"
    }
   ],
   "source": [
    "model = build_model()\n",
    "\n",
    "model.fit(X_train, y_train, epochs=50, verbose=1)"
   ]
  },
  {
   "cell_type": "markdown",
   "metadata": {},
   "source": [
    "### Calculating Mean Squared Error"
   ]
  },
  {
   "cell_type": "code",
   "execution_count": 9,
   "metadata": {},
   "outputs": [
    {
     "name": "stdout",
     "output_type": "stream",
     "text": [
      "Test MSE: 110.59738900322783\n"
     ]
    }
   ],
   "source": [
    "from sklearn.metrics import mean_squared_error\n",
    "\n",
    "predicted_y = model.predict(X_test)\n",
    "mse = mean_squared_error(y_test, predicted_y)\n",
    "print(f\"Test MSE: {mse}\")"
   ]
  },
  {
   "cell_type": "markdown",
   "metadata": {},
   "source": [
    "### Since we have to create a list of 50 MSEs putting everything in a function"
   ]
  },
  {
   "cell_type": "code",
   "execution_count": 10,
   "metadata": {},
   "outputs": [],
   "source": [
    "def do_n_times(n=50):\n",
    "    mse_list = []\n",
    "    for index in range(n):\n",
    "        # split data\n",
    "        X_train, X_test, y_train, y_test = train_test_split(X, y, test_size=0.3)\n",
    "        \n",
    "        # build model\n",
    "        model = build_model()\n",
    "        \n",
    "        # train model\n",
    "        model.fit(X_train, y_train, epochs=50, verbose=0)\n",
    "        \n",
    "        # predict test set\n",
    "        predicted_y = model.predict(X_test)\n",
    "        \n",
    "        # get MSE for the model\n",
    "        mse = mean_squared_error(y_test, predicted_y)\n",
    "        print(f\"MSE {index}: {mse}\")\n",
    "        \n",
    "        # append to list\n",
    "        mse_list.append(mse)\n",
    "    return mse_list"
   ]
  },
  {
   "cell_type": "code",
   "execution_count": 11,
   "metadata": {},
   "outputs": [
    {
     "name": "stdout",
     "output_type": "stream",
     "text": [
      "MSE 0: 178.8232236568868\n",
      "MSE 1: 118.86509400388924\n",
      "MSE 2: 386.41268677935045\n",
      "MSE 3: 277.29440954371324\n",
      "MSE 4: 457.2025658118378\n",
      "MSE 5: 248.52007639105904\n",
      "MSE 6: 737.9459642119898\n",
      "MSE 7: 191.95314236736647\n",
      "MSE 8: 98.59145048875641\n",
      "MSE 9: 117.39982676356219\n",
      "MSE 10: 130.2313588718687\n",
      "MSE 11: 235.1318890163688\n",
      "MSE 12: 145.98215361371498\n",
      "MSE 13: 99.98261314854807\n",
      "MSE 14: 559.1448059853005\n",
      "MSE 15: 135.46131727020452\n",
      "MSE 16: 247.76872063955582\n",
      "MSE 17: 140.78860065262154\n",
      "MSE 18: 118.15926811122468\n",
      "MSE 19: 237.2865379380346\n",
      "MSE 20: 109.34168184597777\n",
      "MSE 21: 184.3633397621543\n",
      "MSE 22: 163.48730431880568\n",
      "MSE 23: 396.1313218536554\n",
      "MSE 24: 408.3563914974437\n",
      "MSE 25: 318.4902309979478\n",
      "MSE 26: 120.36756173479729\n",
      "MSE 27: 118.13157316079864\n",
      "MSE 28: 228.77900007249627\n",
      "MSE 29: 119.33021043552739\n",
      "MSE 30: 731.9668502992774\n",
      "MSE 31: 199.01655916396726\n",
      "MSE 32: 122.3141841835366\n",
      "MSE 33: 289.1231297401104\n",
      "MSE 34: 1142.8589865217004\n",
      "MSE 35: 134.3896856699881\n",
      "MSE 36: 144.01666685384558\n",
      "MSE 37: 326.07121809109935\n",
      "MSE 38: 134.55617010024812\n",
      "MSE 39: 280.26230684622567\n",
      "MSE 40: 374.7684755290437\n",
      "MSE 41: 1759.6101240963683\n",
      "MSE 42: 132.28200243935711\n",
      "MSE 43: 148.81743113488395\n",
      "MSE 44: 433.9274233052002\n",
      "MSE 45: 105.21691570354618\n",
      "MSE 46: 149.7054046462915\n",
      "MSE 47: 172.30241177358843\n",
      "MSE 48: 855.3082529857527\n",
      "MSE 49: 130.1945239715412\n"
     ]
    }
   ],
   "source": [
    "mse_list = do_n_times(50)"
   ]
  },
  {
   "cell_type": "markdown",
   "metadata": {},
   "source": [
    "### Average and Standard Deviation of MSE"
   ]
  },
  {
   "cell_type": "code",
   "execution_count": 12,
   "metadata": {},
   "outputs": [
    {
     "name": "stdout",
     "output_type": "stream",
     "text": [
      "Average of MSEs: 295.9286608800206\n",
      "Standard Deviation MSEs: 298.20449573361714\n"
     ]
    }
   ],
   "source": [
    "import numpy as np\n",
    "print(f\"Average of MSEs: {np.mean(mse_list)}\")\n",
    "print(f\"Standard Deviation MSEs: {np.std(mse_list)}\")\n"
   ]
  },
  {
   "cell_type": "markdown",
   "metadata": {},
   "source": [
    "### Plot different MSEs"
   ]
  },
  {
   "cell_type": "code",
   "execution_count": 13,
   "metadata": {},
   "outputs": [
    {
     "data": {
      "image/png": "[encoded data removed]",
      "text/plain": [
       "<Figure size 576x288 with 1 Axes>"
      ]
     },
     "metadata": {
      "needs_background": "light"
     },
     "output_type": "display_data"
    }
   ],
   "source": [
    "import matplotlib.pyplot as plt\n",
    "\n",
    "plt.figure(figsize=(8, 4))\n",
    "plt.plot(mse_list)\n",
    "plt.xlabel(\"Try\")\n",
    "plt.ylabel(\"MSE\")\n",
    "\n",
    "plt.show()"
   ]
  }
 ],
 "metadata": {
  "kernelspec": {
   "display_name": "Python 3",
   "language": "python",
   "name": "python3"
  },
  "language_info": {
   "codemirror_mode": {
    "name": "ipython",
    "version": 3
   },
   "file_extension": ".py",
   "mimetype": "text/x-python",
   "name": "python",
   "nbconvert_exporter": "python",
   "pygments_lexer": "ipython3",
   "version": "3.6.9"
  }
 },
 "nbformat": 4,
 "nbformat_minor": 2
}
