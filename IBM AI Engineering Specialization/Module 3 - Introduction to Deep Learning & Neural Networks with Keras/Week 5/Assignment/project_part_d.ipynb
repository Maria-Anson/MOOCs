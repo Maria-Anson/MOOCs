{
 "cells": [
  {
   "cell_type": "markdown",
   "metadata": {},
   "source": [
    "# Please ignore the below block of code.\n",
    "Just a custom code block to run my tensorflow with gpu support."
   ]
  },
  {
   "cell_type": "code",
   "execution_count": 1,
   "metadata": {},
   "outputs": [
    {
     "name": "stdout",
     "output_type": "stream",
     "text": [
      "1 Physical GPUs, 1 Logical GPUs\n"
     ]
    }
   ],
   "source": [
    "import tensorflow as tf\n",
    "gpus = tf.config.experimental.list_physical_devices('GPU')\n",
    "if gpus:\n",
    "  try:\n",
    "    # Currently, memory growth needs to be the same across GPUs\n",
    "    for gpu in gpus:\n",
    "      tf.config.experimental.set_memory_growth(gpu, True)\n",
    "    logical_gpus = tf.config.experimental.list_logical_devices('GPU')\n",
    "    print(len(gpus), \"Physical GPUs,\", len(logical_gpus), \"Logical GPUs\")\n",
    "  except RuntimeError as e:\n",
    "    # Memory growth must be set before GPUs have been initialized\n",
    "    print(e)"
   ]
  },
  {
   "cell_type": "markdown",
   "metadata": {},
   "source": [
    "# Code Starts Here"
   ]
  },
  {
   "cell_type": "markdown",
   "metadata": {},
   "source": [
    "### Import Data"
   ]
  },
  {
   "cell_type": "code",
   "execution_count": 2,
   "metadata": {},
   "outputs": [
    {
     "data": {
      "text/html": [
       "<div>\n",
       "<style scoped>\n",
       "    .dataframe tbody tr th:only-of-type {\n",
       "        vertical-align: middle;\n",
       "    }\n",
       "\n",
       "    .dataframe tbody tr th {\n",
       "        vertical-align: top;\n",
       "    }\n",
       "\n",
       "    .dataframe thead th {\n",
       "        text-align: right;\n",
       "    }\n",
       "</style>\n",
       "<table border=\"1\" class=\"dataframe\">\n",
       "  <thead>\n",
       "    <tr style=\"text-align: right;\">\n",
       "      <th></th>\n",
       "      <th>Cement</th>\n",
       "      <th>Blast Furnace Slag</th>\n",
       "      <th>Fly Ash</th>\n",
       "      <th>Water</th>\n",
       "      <th>Superplasticizer</th>\n",
       "      <th>Coarse Aggregate</th>\n",
       "      <th>Fine Aggregate</th>\n",
       "      <th>Age</th>\n",
       "      <th>Strength</th>\n",
       "    </tr>\n",
       "  </thead>\n",
       "  <tbody>\n",
       "    <tr>\n",
       "      <th>0</th>\n",
       "      <td>540.0</td>\n",
       "      <td>0.0</td>\n",
       "      <td>0.0</td>\n",
       "      <td>162.0</td>\n",
       "      <td>2.5</td>\n",
       "      <td>1040.0</td>\n",
       "      <td>676.0</td>\n",
       "      <td>28</td>\n",
       "      <td>79.99</td>\n",
       "    </tr>\n",
       "    <tr>\n",
       "      <th>1</th>\n",
       "      <td>540.0</td>\n",
       "      <td>0.0</td>\n",
       "      <td>0.0</td>\n",
       "      <td>162.0</td>\n",
       "      <td>2.5</td>\n",
       "      <td>1055.0</td>\n",
       "      <td>676.0</td>\n",
       "      <td>28</td>\n",
       "      <td>61.89</td>\n",
       "    </tr>\n",
       "  </tbody>\n",
       "</table>\n",
       "</div>"
      ],
      "text/plain": [
       "   Cement  Blast Furnace Slag  Fly Ash  Water  Superplasticizer  \\\n",
       "0   540.0                 0.0      0.0  162.0               2.5   \n",
       "1   540.0                 0.0      0.0  162.0               2.5   \n",
       "\n",
       "   Coarse Aggregate  Fine Aggregate  Age  Strength  \n",
       "0            1040.0           676.0   28     79.99  \n",
       "1            1055.0           676.0   28     61.89  "
      ]
     },
     "execution_count": 2,
     "metadata": {},
     "output_type": "execute_result"
    }
   ],
   "source": [
    "import pandas as pd\n",
    "\n",
    "df = pd.read_csv(\"https://cocl.us/concrete_data\")\n",
    "df.head(2)"
   ]
  },
  {
   "cell_type": "markdown",
   "metadata": {},
   "source": [
    "### Check For Null Values"
   ]
  },
  {
   "cell_type": "code",
   "execution_count": 3,
   "metadata": {},
   "outputs": [
    {
     "data": {
      "text/plain": [
       "Cement                0\n",
       "Blast Furnace Slag    0\n",
       "Fly Ash               0\n",
       "Water                 0\n",
       "Superplasticizer      0\n",
       "Coarse Aggregate      0\n",
       "Fine Aggregate        0\n",
       "Age                   0\n",
       "Strength              0\n",
       "dtype: int64"
      ]
     },
     "execution_count": 3,
     "metadata": {},
     "output_type": "execute_result"
    }
   ],
   "source": [
    "df.isna().sum()"
   ]
  },
  {
   "cell_type": "markdown",
   "metadata": {},
   "source": [
    " "
   ]
  },
  {
   "cell_type": "markdown",
   "metadata": {},
   "source": [
    "\n",
    "\n",
    "Since there are no null values we can move forward with creating features and target vectors."
   ]
  },
  {
   "cell_type": "code",
   "execution_count": 4,
   "metadata": {},
   "outputs": [
    {
     "data": {
      "text/plain": [
       "((1030, 8), (1030,))"
      ]
     },
     "execution_count": 4,
     "metadata": {},
     "output_type": "execute_result"
    }
   ],
   "source": [
    "X = df.drop(\"Strength\", axis=1)\n",
    "y = df.loc[:, \"Strength\"]\n",
    "\n",
    "X.shape, y.shape"
   ]
  },
  {
   "cell_type": "markdown",
   "metadata": {},
   "source": [
    "### Normalizing Data"
   ]
  },
  {
   "cell_type": "code",
   "execution_count": 5,
   "metadata": {},
   "outputs": [
    {
     "data": {
      "text/html": [
       "<div>\n",
       "<style scoped>\n",
       "    .dataframe tbody tr th:only-of-type {\n",
       "        vertical-align: middle;\n",
       "    }\n",
       "\n",
       "    .dataframe tbody tr th {\n",
       "        vertical-align: top;\n",
       "    }\n",
       "\n",
       "    .dataframe thead th {\n",
       "        text-align: right;\n",
       "    }\n",
       "</style>\n",
       "<table border=\"1\" class=\"dataframe\">\n",
       "  <thead>\n",
       "    <tr style=\"text-align: right;\">\n",
       "      <th></th>\n",
       "      <th>Cement</th>\n",
       "      <th>Blast Furnace Slag</th>\n",
       "      <th>Fly Ash</th>\n",
       "      <th>Water</th>\n",
       "      <th>Superplasticizer</th>\n",
       "      <th>Coarse Aggregate</th>\n",
       "      <th>Fine Aggregate</th>\n",
       "      <th>Age</th>\n",
       "    </tr>\n",
       "  </thead>\n",
       "  <tbody>\n",
       "    <tr>\n",
       "      <th>0</th>\n",
       "      <td>2.476712</td>\n",
       "      <td>-0.856472</td>\n",
       "      <td>-0.846733</td>\n",
       "      <td>-0.916319</td>\n",
       "      <td>-0.620147</td>\n",
       "      <td>0.862735</td>\n",
       "      <td>-1.217079</td>\n",
       "      <td>-0.279597</td>\n",
       "    </tr>\n",
       "    <tr>\n",
       "      <th>1</th>\n",
       "      <td>2.476712</td>\n",
       "      <td>-0.856472</td>\n",
       "      <td>-0.846733</td>\n",
       "      <td>-0.916319</td>\n",
       "      <td>-0.620147</td>\n",
       "      <td>1.055651</td>\n",
       "      <td>-1.217079</td>\n",
       "      <td>-0.279597</td>\n",
       "    </tr>\n",
       "    <tr>\n",
       "      <th>2</th>\n",
       "      <td>0.491187</td>\n",
       "      <td>0.795140</td>\n",
       "      <td>-0.846733</td>\n",
       "      <td>2.174405</td>\n",
       "      <td>-1.038638</td>\n",
       "      <td>-0.526262</td>\n",
       "      <td>-2.239829</td>\n",
       "      <td>3.551340</td>\n",
       "    </tr>\n",
       "    <tr>\n",
       "      <th>3</th>\n",
       "      <td>0.491187</td>\n",
       "      <td>0.795140</td>\n",
       "      <td>-0.846733</td>\n",
       "      <td>2.174405</td>\n",
       "      <td>-1.038638</td>\n",
       "      <td>-0.526262</td>\n",
       "      <td>-2.239829</td>\n",
       "      <td>5.055221</td>\n",
       "    </tr>\n",
       "    <tr>\n",
       "      <th>4</th>\n",
       "      <td>-0.790075</td>\n",
       "      <td>0.678079</td>\n",
       "      <td>-0.846733</td>\n",
       "      <td>0.488555</td>\n",
       "      <td>-1.038638</td>\n",
       "      <td>0.070492</td>\n",
       "      <td>0.647569</td>\n",
       "      <td>4.976069</td>\n",
       "    </tr>\n",
       "  </tbody>\n",
       "</table>\n",
       "</div>"
      ],
      "text/plain": [
       "     Cement  Blast Furnace Slag   Fly Ash     Water  Superplasticizer  \\\n",
       "0  2.476712           -0.856472 -0.846733 -0.916319         -0.620147   \n",
       "1  2.476712           -0.856472 -0.846733 -0.916319         -0.620147   \n",
       "2  0.491187            0.795140 -0.846733  2.174405         -1.038638   \n",
       "3  0.491187            0.795140 -0.846733  2.174405         -1.038638   \n",
       "4 -0.790075            0.678079 -0.846733  0.488555         -1.038638   \n",
       "\n",
       "   Coarse Aggregate  Fine Aggregate       Age  \n",
       "0          0.862735       -1.217079 -0.279597  \n",
       "1          1.055651       -1.217079 -0.279597  \n",
       "2         -0.526262       -2.239829  3.551340  \n",
       "3         -0.526262       -2.239829  5.055221  \n",
       "4          0.070492        0.647569  4.976069  "
      ]
     },
     "execution_count": 5,
     "metadata": {},
     "output_type": "execute_result"
    }
   ],
   "source": [
    "X_norm = (X - X.mean()) / X.std()\n",
    "X_norm.head(5)"
   ]
  },
  {
   "cell_type": "code",
   "execution_count": 6,
   "metadata": {},
   "outputs": [
    {
     "data": {
      "text/html": [
       "<div>\n",
       "<style scoped>\n",
       "    .dataframe tbody tr th:only-of-type {\n",
       "        vertical-align: middle;\n",
       "    }\n",
       "\n",
       "    .dataframe tbody tr th {\n",
       "        vertical-align: top;\n",
       "    }\n",
       "\n",
       "    .dataframe thead th {\n",
       "        text-align: right;\n",
       "    }\n",
       "</style>\n",
       "<table border=\"1\" class=\"dataframe\">\n",
       "  <thead>\n",
       "    <tr style=\"text-align: right;\">\n",
       "      <th></th>\n",
       "      <th>Cement</th>\n",
       "      <th>Blast Furnace Slag</th>\n",
       "      <th>Fly Ash</th>\n",
       "      <th>Water</th>\n",
       "      <th>Superplasticizer</th>\n",
       "      <th>Coarse Aggregate</th>\n",
       "      <th>Fine Aggregate</th>\n",
       "      <th>Age</th>\n",
       "    </tr>\n",
       "  </thead>\n",
       "  <tbody>\n",
       "    <tr>\n",
       "      <th>count</th>\n",
       "      <td>1.030000e+03</td>\n",
       "      <td>1.030000e+03</td>\n",
       "      <td>1.030000e+03</td>\n",
       "      <td>1.030000e+03</td>\n",
       "      <td>1.030000e+03</td>\n",
       "      <td>1.030000e+03</td>\n",
       "      <td>1.030000e+03</td>\n",
       "      <td>1.030000e+03</td>\n",
       "    </tr>\n",
       "    <tr>\n",
       "      <th>mean</th>\n",
       "      <td>2.828374e-15</td>\n",
       "      <td>1.379695e-17</td>\n",
       "      <td>4.139084e-17</td>\n",
       "      <td>1.214131e-15</td>\n",
       "      <td>8.278168e-17</td>\n",
       "      <td>6.553550e-15</td>\n",
       "      <td>1.226549e-14</td>\n",
       "      <td>7.588320e-17</td>\n",
       "    </tr>\n",
       "    <tr>\n",
       "      <th>std</th>\n",
       "      <td>1.000000e+00</td>\n",
       "      <td>1.000000e+00</td>\n",
       "      <td>1.000000e+00</td>\n",
       "      <td>1.000000e+00</td>\n",
       "      <td>1.000000e+00</td>\n",
       "      <td>1.000000e+00</td>\n",
       "      <td>1.000000e+00</td>\n",
       "      <td>1.000000e+00</td>\n",
       "    </tr>\n",
       "    <tr>\n",
       "      <th>min</th>\n",
       "      <td>-1.714421e+00</td>\n",
       "      <td>-8.564718e-01</td>\n",
       "      <td>-8.467326e-01</td>\n",
       "      <td>-2.798851e+00</td>\n",
       "      <td>-1.038638e+00</td>\n",
       "      <td>-2.211064e+00</td>\n",
       "      <td>-2.239829e+00</td>\n",
       "      <td>-7.070160e-01</td>\n",
       "    </tr>\n",
       "    <tr>\n",
       "      <th>25%</th>\n",
       "      <td>-8.496407e-01</td>\n",
       "      <td>-8.564718e-01</td>\n",
       "      <td>-8.467326e-01</td>\n",
       "      <td>-7.805147e-01</td>\n",
       "      <td>-1.038638e+00</td>\n",
       "      <td>-5.262618e-01</td>\n",
       "      <td>-5.317114e-01</td>\n",
       "      <td>-6.120340e-01</td>\n",
       "    </tr>\n",
       "    <tr>\n",
       "      <th>50%</th>\n",
       "      <td>-7.911350e-02</td>\n",
       "      <td>-6.014861e-01</td>\n",
       "      <td>-8.467326e-01</td>\n",
       "      <td>1.607513e-01</td>\n",
       "      <td>3.269920e-02</td>\n",
       "      <td>-6.326279e-02</td>\n",
       "      <td>7.383152e-02</td>\n",
       "      <td>-2.795973e-01</td>\n",
       "    </tr>\n",
       "    <tr>\n",
       "      <th>75%</th>\n",
       "      <td>6.586406e-01</td>\n",
       "      <td>8.003558e-01</td>\n",
       "      <td>1.001791e+00</td>\n",
       "      <td>4.885554e-01</td>\n",
       "      <td>6.688058e-01</td>\n",
       "      <td>7.264077e-01</td>\n",
       "      <td>6.288606e-01</td>\n",
       "      <td>1.636517e-01</td>\n",
       "    </tr>\n",
       "    <tr>\n",
       "      <th>max</th>\n",
       "      <td>2.476712e+00</td>\n",
       "      <td>3.309068e+00</td>\n",
       "      <td>2.279976e+00</td>\n",
       "      <td>3.064159e+00</td>\n",
       "      <td>4.351528e+00</td>\n",
       "      <td>2.213149e+00</td>\n",
       "      <td>2.731735e+00</td>\n",
       "      <td>5.055221e+00</td>\n",
       "    </tr>\n",
       "  </tbody>\n",
       "</table>\n",
       "</div>"
      ],
      "text/plain": [
       "             Cement  Blast Furnace Slag       Fly Ash         Water  \\\n",
       "count  1.030000e+03        1.030000e+03  1.030000e+03  1.030000e+03   \n",
       "mean   2.828374e-15        1.379695e-17  4.139084e-17  1.214131e-15   \n",
       "std    1.000000e+00        1.000000e+00  1.000000e+00  1.000000e+00   \n",
       "min   -1.714421e+00       -8.564718e-01 -8.467326e-01 -2.798851e+00   \n",
       "25%   -8.496407e-01       -8.564718e-01 -8.467326e-01 -7.805147e-01   \n",
       "50%   -7.911350e-02       -6.014861e-01 -8.467326e-01  1.607513e-01   \n",
       "75%    6.586406e-01        8.003558e-01  1.001791e+00  4.885554e-01   \n",
       "max    2.476712e+00        3.309068e+00  2.279976e+00  3.064159e+00   \n",
       "\n",
       "       Superplasticizer  Coarse Aggregate  Fine Aggregate           Age  \n",
       "count      1.030000e+03      1.030000e+03    1.030000e+03  1.030000e+03  \n",
       "mean       8.278168e-17      6.553550e-15    1.226549e-14  7.588320e-17  \n",
       "std        1.000000e+00      1.000000e+00    1.000000e+00  1.000000e+00  \n",
       "min       -1.038638e+00     -2.211064e+00   -2.239829e+00 -7.070160e-01  \n",
       "25%       -1.038638e+00     -5.262618e-01   -5.317114e-01 -6.120340e-01  \n",
       "50%        3.269920e-02     -6.326279e-02    7.383152e-02 -2.795973e-01  \n",
       "75%        6.688058e-01      7.264077e-01    6.288606e-01  1.636517e-01  \n",
       "max        4.351528e+00      2.213149e+00    2.731735e+00  5.055221e+00  "
      ]
     },
     "execution_count": 6,
     "metadata": {},
     "output_type": "execute_result"
    }
   ],
   "source": [
    "X_norm.describe()"
   ]
  },
  {
   "cell_type": "markdown",
   "metadata": {},
   "source": [
    "### Split the data in train and test"
   ]
  },
  {
   "cell_type": "code",
   "execution_count": 7,
   "metadata": {},
   "outputs": [
    {
     "data": {
      "text/plain": [
       "((721, 8), (309, 8), (721,), (309,))"
      ]
     },
     "execution_count": 7,
     "metadata": {},
     "output_type": "execute_result"
    }
   ],
   "source": [
    "from sklearn.model_selection import train_test_split\n",
    "X_train, X_test, y_train, y_test = train_test_split(X_norm, y, test_size=0.3)\n",
    "\n",
    "X_train.shape, X_test.shape, y_train.shape, y_test.shape"
   ]
  },
  {
   "cell_type": "markdown",
   "metadata": {},
   "source": [
    "### Create the model"
   ]
  },
  {
   "cell_type": "code",
   "execution_count": 8,
   "metadata": {},
   "outputs": [],
   "source": [
    "import tensorflow.keras as keras"
   ]
  },
  {
   "cell_type": "code",
   "execution_count": 9,
   "metadata": {},
   "outputs": [],
   "source": [
    "def build_model():\n",
    "    model = keras.models.Sequential()\n",
    "    model.add(keras.layers.Dense(10, activation=\"relu\", input_shape=(X_norm.shape[1],)))\n",
    "    model.add(keras.layers.Dense(10, activation=\"relu\"))\n",
    "    model.add(keras.layers.Dense(10, activation=\"relu\"))\n",
    "    model.add(keras.layers.Dense(1))\n",
    "    \n",
    "    model.compile(optimizer=\"adam\", loss=\"mean_squared_error\")\n",
    "    return model"
   ]
  },
  {
   "cell_type": "code",
   "execution_count": 10,
   "metadata": {},
   "outputs": [
    {
     "name": "stdout",
     "output_type": "stream",
     "text": [
      "Epoch 1/50\n",
      "23/23 [==============================] - 0s 3ms/step - loss: 1561.4335\n",
      "Epoch 2/50\n",
      "23/23 [==============================] - 0s 3ms/step - loss: 1538.6750\n",
      "Epoch 3/50\n",
      "23/23 [==============================] - 0s 3ms/step - loss: 1507.3586\n",
      "Epoch 4/50\n",
      "23/23 [==============================] - 0s 3ms/step - loss: 1460.7021\n",
      "Epoch 5/50\n",
      "23/23 [==============================] - 0s 3ms/step - loss: 1387.7565\n",
      "Epoch 6/50\n",
      "23/23 [==============================] - 0s 3ms/step - loss: 1274.8921\n",
      "Epoch 7/50\n",
      "23/23 [==============================] - 0s 3ms/step - loss: 1111.2944\n",
      "Epoch 8/50\n",
      "23/23 [==============================] - 0s 3ms/step - loss: 906.9627\n",
      "Epoch 9/50\n",
      "23/23 [==============================] - 0s 3ms/step - loss: 693.3957\n",
      "Epoch 10/50\n",
      "23/23 [==============================] - 0s 3ms/step - loss: 510.0779\n",
      "Epoch 11/50\n",
      "23/23 [==============================] - 0s 3ms/step - loss: 390.4980\n",
      "Epoch 12/50\n",
      "23/23 [==============================] - 0s 3ms/step - loss: 318.9883\n",
      "Epoch 13/50\n",
      "23/23 [==============================] - 0s 3ms/step - loss: 278.4155\n",
      "Epoch 14/50\n",
      "23/23 [==============================] - 0s 3ms/step - loss: 255.8131\n",
      "Epoch 15/50\n",
      "23/23 [==============================] - 0s 3ms/step - loss: 240.8088\n",
      "Epoch 16/50\n",
      "23/23 [==============================] - 0s 3ms/step - loss: 229.4199\n",
      "Epoch 17/50\n",
      "23/23 [==============================] - 0s 3ms/step - loss: 219.2391\n",
      "Epoch 18/50\n",
      "23/23 [==============================] - 0s 3ms/step - loss: 211.6084\n",
      "Epoch 19/50\n",
      "23/23 [==============================] - 0s 4ms/step - loss: 204.9161\n",
      "Epoch 20/50\n",
      "23/23 [==============================] - 0s 3ms/step - loss: 198.7987\n",
      "Epoch 21/50\n",
      "23/23 [==============================] - 0s 3ms/step - loss: 193.5006\n",
      "Epoch 22/50\n",
      "23/23 [==============================] - 0s 4ms/step - loss: 188.7212\n",
      "Epoch 23/50\n",
      "23/23 [==============================] - 0s 3ms/step - loss: 184.0483\n",
      "Epoch 24/50\n",
      "23/23 [==============================] - 0s 3ms/step - loss: 179.5791\n",
      "Epoch 25/50\n",
      "23/23 [==============================] - 0s 3ms/step - loss: 175.8280\n",
      "Epoch 26/50\n",
      "23/23 [==============================] - 0s 3ms/step - loss: 171.6630\n",
      "Epoch 27/50\n",
      "23/23 [==============================] - 0s 3ms/step - loss: 167.9664\n",
      "Epoch 28/50\n",
      "23/23 [==============================] - 0s 3ms/step - loss: 164.7422\n",
      "Epoch 29/50\n",
      "23/23 [==============================] - 0s 3ms/step - loss: 161.5897\n",
      "Epoch 30/50\n",
      "23/23 [==============================] - 0s 3ms/step - loss: 158.0016\n",
      "Epoch 31/50\n",
      "23/23 [==============================] - 0s 3ms/step - loss: 154.2605\n",
      "Epoch 32/50\n",
      "23/23 [==============================] - 0s 3ms/step - loss: 151.2826\n",
      "Epoch 33/50\n",
      "23/23 [==============================] - 0s 4ms/step - loss: 148.1888\n",
      "Epoch 34/50\n",
      "23/23 [==============================] - 0s 3ms/step - loss: 144.7980\n",
      "Epoch 35/50\n",
      "23/23 [==============================] - 0s 3ms/step - loss: 142.7748\n",
      "Epoch 36/50\n",
      "23/23 [==============================] - 0s 3ms/step - loss: 140.2062\n",
      "Epoch 37/50\n",
      "23/23 [==============================] - 0s 3ms/step - loss: 136.2498\n",
      "Epoch 38/50\n",
      "23/23 [==============================] - 0s 3ms/step - loss: 133.7212\n",
      "Epoch 39/50\n",
      "23/23 [==============================] - 0s 3ms/step - loss: 130.5370\n",
      "Epoch 40/50\n",
      "23/23 [==============================] - 0s 3ms/step - loss: 128.8964\n",
      "Epoch 41/50\n",
      "23/23 [==============================] - 0s 3ms/step - loss: 125.5875\n",
      "Epoch 42/50\n",
      "23/23 [==============================] - 0s 3ms/step - loss: 123.1598\n",
      "Epoch 43/50\n",
      "23/23 [==============================] - 0s 3ms/step - loss: 120.4176\n",
      "Epoch 44/50\n",
      "23/23 [==============================] - 0s 3ms/step - loss: 118.3144\n",
      "Epoch 45/50\n",
      "23/23 [==============================] - 0s 4ms/step - loss: 116.0739\n",
      "Epoch 46/50\n",
      "23/23 [==============================] - 0s 3ms/step - loss: 113.6965\n",
      "Epoch 47/50\n",
      "23/23 [==============================] - 0s 3ms/step - loss: 111.7089\n",
      "Epoch 48/50\n",
      "23/23 [==============================] - 0s 3ms/step - loss: 109.4691\n",
      "Epoch 49/50\n",
      "23/23 [==============================] - 0s 4ms/step - loss: 107.3999\n",
      "Epoch 50/50\n",
      "23/23 [==============================] - 0s 3ms/step - loss: 105.3743\n"
     ]
    },
    {
     "data": {
      "text/plain": [
       "<tensorflow.python.keras.callbacks.History at 0x7fe9a32280f0>"
      ]
     },
     "execution_count": 10,
     "metadata": {},
     "output_type": "execute_result"
    }
   ],
   "source": [
    "model = build_model()\n",
    "\n",
    "model.fit(X_train, y_train, epochs=50, verbose=1)"
   ]
  },
  {
   "cell_type": "markdown",
   "metadata": {},
   "source": [
    "### Calculating Mean Squared Error"
   ]
  },
  {
   "cell_type": "code",
   "execution_count": 11,
   "metadata": {},
   "outputs": [
    {
     "name": "stdout",
     "output_type": "stream",
     "text": [
      "Test MSE: 117.17475582738781\n"
     ]
    }
   ],
   "source": [
    "from sklearn.metrics import mean_squared_error\n",
    "\n",
    "predicted_y = model.predict(X_test)\n",
    "mse = mean_squared_error(y_test, predicted_y)\n",
    "print(f\"Test MSE: {mse}\")"
   ]
  },
  {
   "cell_type": "markdown",
   "metadata": {},
   "source": [
    "### Since we have to create a list of 50 MSEs putting everything in a function"
   ]
  },
  {
   "cell_type": "code",
   "execution_count": 12,
   "metadata": {},
   "outputs": [],
   "source": [
    "def do_n_times(n=50):\n",
    "    mse_list = []\n",
    "    for index in range(n):\n",
    "        # split data\n",
    "        X_train, X_test, y_train, y_test = train_test_split(X_norm, y, test_size=0.3)\n",
    "        \n",
    "        # build model\n",
    "        model = build_model()\n",
    "        \n",
    "        # train model\n",
    "        model.fit(X_train, y_train, epochs=50, verbose=0)\n",
    "        \n",
    "        # predict test set\n",
    "        predicted_y = model.predict(X_test)\n",
    "        \n",
    "        # get MSE for the model\n",
    "        mse = mean_squared_error(y_test, predicted_y)\n",
    "        print(f\"MSE {index}: {mse}\")\n",
    "        \n",
    "        # append to list\n",
    "        mse_list.append(mse)\n",
    "    return mse_list"
   ]
  },
  {
   "cell_type": "code",
   "execution_count": 13,
   "metadata": {},
   "outputs": [
    {
     "name": "stdout",
     "output_type": "stream",
     "text": [
      "MSE 0: 119.68357696498009\n",
      "MSE 1: 99.03148627554087\n",
      "MSE 2: 150.4686998899666\n",
      "MSE 3: 105.81800292597235\n",
      "MSE 4: 137.453815427484\n",
      "MSE 5: 113.76812487757847\n",
      "MSE 6: 154.58103320398922\n",
      "MSE 7: 132.7454314639462\n",
      "MSE 8: 135.35592880354204\n",
      "MSE 9: 106.65414090441001\n",
      "MSE 10: 134.21301455162188\n",
      "MSE 11: 72.77610042176372\n",
      "MSE 12: 153.8795382040791\n",
      "MSE 13: 134.9185765235877\n",
      "MSE 14: 92.73476695686242\n",
      "MSE 15: 136.7223447195823\n",
      "MSE 16: 135.76976022504527\n",
      "MSE 17: 136.69527922105416\n",
      "MSE 18: 131.99446716387058\n",
      "MSE 19: 140.87148790570333\n",
      "MSE 20: 115.495866840254\n",
      "MSE 21: 113.5748723365569\n",
      "MSE 22: 119.63646326855688\n",
      "MSE 23: 118.98085880972316\n",
      "MSE 24: 141.7321215356206\n",
      "MSE 25: 147.3947221623905\n",
      "MSE 26: 122.86645217285097\n",
      "MSE 27: 139.97907415823093\n",
      "MSE 28: 144.6599209755329\n",
      "MSE 29: 148.7385655900827\n",
      "MSE 30: 149.23109971237875\n",
      "MSE 31: 120.30612265356783\n",
      "MSE 32: 138.5128109269302\n",
      "MSE 33: 143.86919314738657\n",
      "MSE 34: 126.19587144489637\n",
      "MSE 35: 105.77239355032839\n",
      "MSE 36: 117.74496630306992\n",
      "MSE 37: 146.88054135631077\n",
      "MSE 38: 108.09751393072534\n",
      "MSE 39: 98.70301738691758\n",
      "MSE 40: 153.36730566354956\n",
      "MSE 41: 155.0541603128587\n",
      "MSE 42: 156.86850778049882\n",
      "MSE 43: 152.6945364561055\n",
      "MSE 44: 143.88432547872867\n",
      "MSE 45: 122.01207813654263\n",
      "MSE 46: 129.07693854526374\n",
      "MSE 47: 98.0296792521611\n",
      "MSE 48: 132.7626718699692\n",
      "MSE 49: 131.00231028977174\n"
     ]
    }
   ],
   "source": [
    "mse_list = do_n_times(50)"
   ]
  },
  {
   "cell_type": "markdown",
   "metadata": {},
   "source": [
    "### Average and Standard Deviation of MSE"
   ]
  },
  {
   "cell_type": "code",
   "execution_count": 14,
   "metadata": {},
   "outputs": [
    {
     "name": "stdout",
     "output_type": "stream",
     "text": [
      "Average of MSEs: 129.38521077356685\n",
      "Standard Deviation MSEs: 18.902260162285796\n"
     ]
    }
   ],
   "source": [
    "import numpy as np\n",
    "print(f\"Average of MSEs: {np.mean(mse_list)}\")\n",
    "print(f\"Standard Deviation MSEs: {np.std(mse_list)}\")\n"
   ]
  },
  {
   "cell_type": "markdown",
   "metadata": {},
   "source": [
    "### Plot different MSEs"
   ]
  },
  {
   "cell_type": "code",
   "execution_count": 15,
   "metadata": {},
   "outputs": [
    {
     "data": {
      "image/png": "[encoded data removed]",
      "text/plain": [
       "<Figure size 576x288 with 1 Axes>"
      ]
     },
     "metadata": {
      "needs_background": "light"
     },
     "output_type": "display_data"
    }
   ],
   "source": [
    "import matplotlib.pyplot as plt\n",
    "\n",
    "plt.figure(figsize=(8, 4))\n",
    "plt.plot(mse_list)\n",
    "plt.xlabel(\"Try\")\n",
    "plt.ylabel(\"MSE\")\n",
    "\n",
    "plt.show()"
   ]
  },
  {
   "cell_type": "markdown",
   "metadata": {},
   "source": [
    "## How does the mean of the mean squared errors compare to that from Step B?"
   ]
  },
  {
   "cell_type": "markdown",
   "metadata": {},
   "source": [
    "Below picture shows the results from part B:\n",
    "- Avg MSE: 359.07\n",
    "- Std MSE: 83.00"
   ]
  },
  {
   "cell_type": "markdown",
   "metadata": {},
   "source": [
    "![title](part_b_results.png)"
   ]
  },
  {
   "cell_type": "markdown",
   "metadata": {},
   "source": [
    "The Avg. MSE has decreased from 359.07 to 129.39, and the Standard Deviation in the MSE has reduced from 83.00 to 18.90.<br>\n",
    "The model has become more accurate and consistent by adding 2 more hidden layers."
   ]
  }
 ],
 "metadata": {
  "kernelspec": {
   "display_name": "Python 3",
   "language": "python",
   "name": "python3"
  },
  "language_info": {
   "codemirror_mode": {
    "name": "ipython",
    "version": 3
   },
   "file_extension": ".py",
   "mimetype": "text/x-python",
   "name": "python",
   "nbconvert_exporter": "python",
   "pygments_lexer": "ipython3",
   "version": "3.6.9"
  }
 },
 "nbformat": 4,
 "nbformat_minor": 2
}
