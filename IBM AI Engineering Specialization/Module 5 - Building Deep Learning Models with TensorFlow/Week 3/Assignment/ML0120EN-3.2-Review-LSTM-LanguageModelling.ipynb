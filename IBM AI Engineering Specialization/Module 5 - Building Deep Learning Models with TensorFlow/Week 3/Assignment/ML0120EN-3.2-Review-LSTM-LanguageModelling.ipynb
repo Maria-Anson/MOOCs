{
 "cells": [
  {
   "cell_type": "markdown",
   "metadata": {},
   "source": [
    "<a href=\"https://www.skills.network/\"><img src=\"https://cf-courses-data.s3.us.cloud-object-storage.appdomain.cloud/IBM-DL0120ENedX/labs/Template%20for%20Instructional%20Hands-on%20Labs/images/IDSNlogo.png\" width=\"400px\" align=\"center\"></a>\n",
    "\n",
    "<h1 align=\"center\"><font size=\"5\">RECURRENT NETWORKS and LSTM IN DEEP LEARNING</font></h1>\n"
   ]
  },
  {
   "cell_type": "markdown",
   "metadata": {},
   "source": [
    "<h2>Applying Recurrent Neural Networks/LSTM for Language Modeling</h2>\n",
    "Hello and welcome to this part. In this notebook, we will go over the topic of Language Modelling, and create a Recurrent Neural Network model based on the Long Short-Term Memory unit to train and benchmark on the Penn Treebank dataset. By the end of this notebook, you should be able to understand how TensorFlow builds and executes a RNN model for Language Modelling.\n"
   ]
  },
  {
   "cell_type": "markdown",
   "metadata": {},
   "source": [
    "<h2>The Objective</h2>\n",
    "By now, you should have an understanding of how Recurrent Networks work -- a specialized model to process sequential data by keeping track of the \"state\" or context. In this notebook, we go over a TensorFlow code snippet for creating a model focused on <b>Language Modelling</b> -- a very relevant task that is the cornerstone of many different linguistic problems such as <b>Speech Recognition, Machine Translation and Image Captioning</b>. For this, we will be using the Penn Treebank dataset, which is an often-used dataset for benchmarking Language Modelling models.\n"
   ]
  },
  {
   "cell_type": "markdown",
   "metadata": {},
   "source": [
    "<h2>Table of Contents</h2>\n",
    "<ol>\n",
    "    <li><a href=\"#language_modelling\">What exactly is Language Modelling?</a></li>\n",
    "    <li><a href=\"#treebank_dataset\">The Penn Treebank dataset</a></li>\n",
    "    <li><a href=\"#word_embedding\">Word Embedding</a></li>\n",
    "    <li><a href=\"#building_lstm_model\">Building the LSTM model for Language Modeling</a></li>\n",
    "    <li><a href=\"#ltsm\">LTSM</a></li>\n",
    "</ol>\n",
    "<p></p>\n",
    "</div>\n",
    "<br>\n"
   ]
  },
  {
   "cell_type": "markdown",
   "metadata": {
    "button": false,
    "deletable": true,
    "new_sheet": false,
    "run_control": {
     "read_only": false
    }
   },
   "source": [
    "* * *\n"
   ]
  },
  {
   "cell_type": "markdown",
   "metadata": {},
   "source": [
    "<a id=\"language_modelling\"></a>\n",
    "\n",
    "<h2>What exactly is Language Modelling?</h2>\n",
    "Language Modelling, to put it simply, <b>is the task of assigning probabilities to sequences of words</b>. This means that, given a context of one or a sequence of words in the language the model was trained on, the model should provide the next most probable words or sequence of words that follows from the given sequence of words the sentence. Language Modelling is one of the most important tasks in Natural Language Processing.\n",
    "\n",
    "<img src=\"https://ibm.box.com/shared/static/1d1i5gub6wljby2vani2vzxp0xsph702.png\" width=\"1080\">\n",
    "<center><i>Example of a sentence being predicted</i></center>\n",
    "<br><br>\n",
    "In this example, one can see the predictions for the next word of a sentence, given the context \"This is an\". As you can see, this boils down to a sequential data analysis task -- you are given a word or a sequence of words (the input data), and, given the context (the state), you need to find out what is the next word (the prediction). This kind of analysis is very important for language-related tasks such as <b>Speech Recognition, Machine Translation, Image Captioning, Text Correction</b> and many other very relevant problems. \n",
    "\n",
    "<img src=\"https://ibm.box.com/shared/static/az39idf9ipfdpc5ugifpgxnydelhyf3i.png\" width=\"1080\">\n",
    "<center><i>The above example is a schema of an RNN in execution</i></center>\n",
    "<br><br>\n",
    "As the above image shows, Recurrent Network models fit this problem like a glove. Alongside LSTM and its capacity to maintain the model's state for over one thousand time steps, we have all the tools we need to undertake this problem. The goal for this notebook is to create a model that can reach <b>low levels of perplexity</b> on our desired dataset.\n",
    "\n",
    "For Language Modelling problems, <b>perplexity</b> is the way to gauge efficiency. Perplexity is simply a measure of how well a probabilistic model is able to predict its sample. A higher-level way to explain this would be saying that <b>low perplexity means a higher degree of trust in the predictions the model makes</b>. Therefore, the lower perplexity is, the better.\n"
   ]
  },
  {
   "cell_type": "markdown",
   "metadata": {},
   "source": [
    "<a id=\"treebank_dataset\"></a>\n",
    "\n",
    "<h2>The Penn Treebank dataset</h2>\n",
    "Historically, datasets big enough for Natural Language Processing are hard to come by. This is in part due to the necessity of the sentences to be broken down and tagged with a certain degree of correctness -- or else the models trained on it won't be able to be correct at all. This means that we need a <b>large amount of data, annotated by or at least corrected by humans</b>. This is, of course, not an easy task at all.\n",
    "\n",
    "The Penn Treebank, or PTB for short, is a dataset maintained by the University of Pennsylvania. It is <i>huge</i> -- there are over <b>four million and eight hundred thousand</b> annotated words in it, all corrected by humans. It is composed of many different sources, from abstracts of Department of Energy papers to texts from the Library of America. Since it is verifiably correct and of such a huge size, the Penn Treebank is commonly used as a benchmark dataset for Language Modelling.\n",
    "\n",
    "The dataset is divided in different kinds of annotations, such as Piece-of-Speech, Syntactic and Semantic skeletons. For this example, we will simply use a sample of clean, non-annotated words (with the exception of one tag --<code><unk></code>\n",
    ", which is used for rare words such as uncommon proper nouns) for our model. This means that we just want to predict what the next words would be, not what they mean in context or their classes on a given sentence.\n",
    "\n",
    "<center>Example of text from the dataset we are going to use, <b>ptb.train</b></center>\n",
    "<br><br>\n",
    "\n",
    "<div class=\"alert alert-block alert-info\" style=\"margin-top: 20px\">\n",
    "    <center>the percentage of lung cancer deaths among the workers at the west <code>&lt;unk&gt;</code> mass. paper factory appears to be the highest for any asbestos workers studied in western industrialized countries he said \n",
    " the plant which is owned by <code>&lt;unk&gt;</code> & <code>&lt;unk&gt;</code> co. was under contract with <code>&lt;unk&gt;</code> to make the cigarette filters \n",
    " the finding probably will support those who argue that the U.S. should regulate the class of asbestos including <code>&lt;unk&gt;</code> more <code>&lt;unk&gt;</code> than the common kind of asbestos <code>&lt;unk&gt;</code> found in most schools and other buildings dr. <code>&lt;unk&gt;</code> said</center>\n",
    "</div>\n"
   ]
  },
  {
   "cell_type": "markdown",
   "metadata": {
    "button": false,
    "deletable": true,
    "new_sheet": false,
    "run_control": {
     "read_only": false
    }
   },
   "source": [
    "<a id=\"word_embedding\"></a>\n",
    "\n",
    "<h2>Word Embeddings</h2><br/>\n",
    "\n",
    "For better processing, in this example, we will make use of <a href=\"https://www.tensorflow.org/tutorials/word2vec/\"><b>word embeddings</b></a>, which is <b>a way of representing sentence structures or words as n-dimensional vectors (where n is a reasonably high number, such as 200 or 500) of real numbers</b>. Basically, we will assign each word a randomly-initialized vector, and input those into the network to be processed. After a number of iterations, these vectors are expected to assume values that help the network to correctly predict what it needs to -- in our case, the probable next word in the sentence. This is shown to be a very effective task in Natural Language Processing, and is a commonplace practice.\n",
    "<br><br>\n",
    "<font size=\"4\"><strong>\n",
    "$$Vec(\"Example\") = [0.02, 0.00, 0.00, 0.92, 0.30, \\ldots]$$\n",
    "</strong></font>\n",
    "<br>\n",
    "Word Embedding tends to group up similarly used words <i>reasonably</i> close together in the vectorial space. For example, if we use T-SNE (a dimensional reduction visualization algorithm) to flatten the dimensions of our vectors into a 2-dimensional space and plot these words in a 2-dimensional space, we might see something like this:\n",
    "\n",
    "<img src=\"https://ibm.box.com/shared/static/bqhc5dg879gcoabzhxra1w8rkg3od1cu.png\" width=\"800\">\n",
    "<center><i>T-SNE Mockup with clusters marked for easier visualization</i></center>\n",
    "<br><br>\n",
    "As you can see, words that are frequently used together, in place of each other, or in the same places as them tend to be grouped together -- being closer together the higher they are correlated. For example, \"None\" is pretty semantically close to \"Zero\", while a phrase that uses \"Italy\", you could probably also fit \"Germany\" in it, with little damage to the sentence structure. The vectorial \"closeness\" for similar words like this is a great indicator of a well-built model.\n",
    "\n",
    "<hr>\n",
    " \n"
   ]
  },
  {
   "cell_type": "markdown",
   "metadata": {
    "button": false,
    "deletable": true,
    "new_sheet": false,
    "run_control": {
     "read_only": false
    }
   },
   "source": [
    "We need to import the necessary modules for our code. We need <b><code>numpy</code></b> and <b><code>tensorflow</code></b>, obviously. Additionally, we can import directly the <b><code>tensorflow.models.rnn</code></b> model, which includes the function for building RNNs, and <b><code>tensorflow.models.rnn.ptb.reader</code></b> which is the helper module for getting the input data from the dataset we just downloaded.\n",
    "\n",
    "If you want to learn more take a look at <https://github.com/tensorflow/models/blob/master/tutorials/rnn/ptb/reader.py>\n"
   ]
  },
  {
   "cell_type": "code",
   "execution_count": 1,
   "metadata": {
    "tags": []
   },
   "outputs": [
    {
     "name": "stdout",
     "output_type": "stream",
     "text": [
      "Collecting tensorflow==2.2.0rc0\n",
      "\u001b[?25l  Downloading https://files.pythonhosted.org/packages/c2/a9/836bf28d748b12e8e979fb24a0d9d2f0930df913eb958363ed223406a0ca/tensorflow-2.2.0rc0-cp36-cp36m-manylinux2010_x86_64.whl (515.9MB)\n",
      "\u001b[K     |████████████████████████████████| 515.9MB 85kB/s s eta 0:00:01��        | 375.3MB 93.6MB/s eta 0:00:02�███████████▌       | 395.0MB 88.5MB/s eta 0:00:02�████████████       | 403.2MB 88.5MB/s eta 0:00:02\n",
      "\u001b[?25hCollecting tensorflow-estimator<2.2.0,>=2.1.0 (from tensorflow==2.2.0rc0)\n",
      "\u001b[?25l  Downloading https://files.pythonhosted.org/packages/18/90/b77c328a1304437ab1310b463e533fa7689f4bfc41549593056d812fab8e/tensorflow_estimator-2.1.0-py2.py3-none-any.whl (448kB)\n",
      "\u001b[K     |████████████████████████████████| 450kB 69.9MB/s eta 0:00:01\n",
      "\u001b[?25hCollecting opt-einsum>=2.3.2 (from tensorflow==2.2.0rc0)\n",
      "\u001b[?25l  Downloading https://files.pythonhosted.org/packages/bc/19/404708a7e54ad2798907210462fd950c3442ea51acc8790f3da48d2bee8b/opt_einsum-3.3.0-py3-none-any.whl (65kB)\n",
      "\u001b[K     |████████████████████████████████| 71kB 36.9MB/s eta 0:00:01\n",
      "\u001b[?25hCollecting scipy==1.4.1; python_version >= \"3\" (from tensorflow==2.2.0rc0)\n",
      "\u001b[?25l  Downloading https://files.pythonhosted.org/packages/dc/29/162476fd44203116e7980cfbd9352eef9db37c49445d1fec35509022f6aa/scipy-1.4.1-cp36-cp36m-manylinux1_x86_64.whl (26.1MB)\n",
      "\u001b[K     |████████████████████████████████| 26.1MB 57.5MB/s eta 0:00:01\n",
      "\u001b[?25hRequirement already satisfied: numpy<2.0,>=1.16.0 in /home/jupyterlab/conda/envs/python/lib/python3.6/site-packages (from tensorflow==2.2.0rc0) (1.19.5)\n",
      "Collecting keras-preprocessing>=1.1.0 (from tensorflow==2.2.0rc0)\n",
      "\u001b[?25l  Downloading https://files.pythonhosted.org/packages/79/4c/7c3275a01e12ef9368a892926ab932b33bb13d55794881e3573482b378a7/Keras_Preprocessing-1.1.2-py2.py3-none-any.whl (42kB)\n",
      "\u001b[K     |████████████████████████████████| 51kB 28.5MB/s eta 0:00:01\n",
      "\u001b[?25hCollecting google-pasta>=0.1.8 (from tensorflow==2.2.0rc0)\n",
      "\u001b[?25l  Downloading https://files.pythonhosted.org/packages/a3/de/c648ef6835192e6e2cc03f40b19eeda4382c49b5bafb43d88b931c4c74ac/google_pasta-0.2.0-py3-none-any.whl (57kB)\n",
      "\u001b[K     |████████████████████████████████| 61kB 33.4MB/s eta 0:00:01\n",
      "\u001b[?25hRequirement already satisfied: protobuf>=3.8.0 in /home/jupyterlab/conda/envs/python/lib/python3.6/site-packages (from tensorflow==2.2.0rc0) (3.17.1)\n",
      "Requirement already satisfied: six>=1.12.0 in /home/jupyterlab/conda/envs/python/lib/python3.6/site-packages (from tensorflow==2.2.0rc0) (1.16.0)\n",
      "Collecting tensorboard<2.2.0,>=2.1.0 (from tensorflow==2.2.0rc0)\n",
      "\u001b[?25l  Downloading https://files.pythonhosted.org/packages/d9/41/bbf49b61370e4f4d245d4c6051dfb6db80cec672605c91b1652ac8cc3d38/tensorboard-2.1.1-py3-none-any.whl (3.8MB)\n",
      "\u001b[K     |████████████████████████████████| 3.9MB 48.9MB/s eta 0:00:01\n",
      "\u001b[?25hCollecting astunparse==1.6.3 (from tensorflow==2.2.0rc0)\n",
      "  Downloading https://files.pythonhosted.org/packages/2b/03/13dde6512ad7b4557eb792fbcf0c653af6076b81e5941d36ec61f7ce6028/astunparse-1.6.3-py2.py3-none-any.whl\n",
      "Collecting wrapt>=1.11.1 (from tensorflow==2.2.0rc0)\n",
      "  Using cached https://files.pythonhosted.org/packages/82/f7/e43cefbe88c5fd371f4cf0cf5eb3feccd07515af9fd6cf7dbf1d1793a797/wrapt-1.12.1.tar.gz\n",
      "Collecting h5py<2.11.0,>=2.10.0 (from tensorflow==2.2.0rc0)\n",
      "\u001b[?25l  Downloading https://files.pythonhosted.org/packages/60/06/cafdd44889200e5438b897388f3075b52a8ef01f28a17366d91de0fa2d05/h5py-2.10.0-cp36-cp36m-manylinux1_x86_64.whl (2.9MB)\n",
      "\u001b[K     |████████████████████████████████| 2.9MB 41.6MB/s eta 0:00:01\n",
      "\u001b[?25hRequirement already satisfied: termcolor>=1.1.0 in /home/jupyterlab/conda/envs/python/lib/python3.6/site-packages (from tensorflow==2.2.0rc0) (1.1.0)\n",
      "Collecting gast==0.3.3 (from tensorflow==2.2.0rc0)\n",
      "  Downloading https://files.pythonhosted.org/packages/d6/84/759f5dd23fec8ba71952d97bcc7e2c9d7d63bdc582421f3cd4be845f0c98/gast-0.3.3-py2.py3-none-any.whl\n",
      "Requirement already satisfied: absl-py>=0.7.0 in /home/jupyterlab/conda/envs/python/lib/python3.6/site-packages (from tensorflow==2.2.0rc0) (0.12.0)\n",
      "Requirement already satisfied: grpcio>=1.8.6 in /home/jupyterlab/conda/envs/python/lib/python3.6/site-packages (from tensorflow==2.2.0rc0) (1.38.0)\n",
      "Requirement already satisfied: wheel>=0.26; python_version >= \"3\" in /home/jupyterlab/conda/envs/python/lib/python3.6/site-packages (from tensorflow==2.2.0rc0) (0.36.2)\n",
      "Requirement already satisfied: markdown>=2.6.8 in /home/jupyterlab/conda/envs/python/lib/python3.6/site-packages (from tensorboard<2.2.0,>=2.1.0->tensorflow==2.2.0rc0) (3.3.4)\n",
      "Requirement already satisfied: requests<3,>=2.21.0 in /home/jupyterlab/conda/envs/python/lib/python3.6/site-packages (from tensorboard<2.2.0,>=2.1.0->tensorflow==2.2.0rc0) (2.25.1)\n",
      "Requirement already satisfied: setuptools>=41.0.0 in /home/jupyterlab/conda/envs/python/lib/python3.6/site-packages (from tensorboard<2.2.0,>=2.1.0->tensorflow==2.2.0rc0) (52.0.0.post20210125)\n",
      "Collecting google-auth<2,>=1.6.3 (from tensorboard<2.2.0,>=2.1.0->tensorflow==2.2.0rc0)\n",
      "\u001b[?25l  Downloading https://files.pythonhosted.org/packages/50/ac/12df156754ee13ea4d57c77de8c4298e8fd00b0e580fecd8c7395374a7d8/google_auth-1.31.0-py2.py3-none-any.whl (147kB)\n",
      "\u001b[K     |████████████████████████████████| 153kB 72.1MB/s eta 0:00:01\n",
      "\u001b[?25hRequirement already satisfied: werkzeug>=0.11.15 in /home/jupyterlab/conda/envs/python/lib/python3.6/site-packages (from tensorboard<2.2.0,>=2.1.0->tensorflow==2.2.0rc0) (2.0.1)\n",
      "Collecting google-auth-oauthlib<0.5,>=0.4.1 (from tensorboard<2.2.0,>=2.1.0->tensorflow==2.2.0rc0)\n",
      "  Downloading https://files.pythonhosted.org/packages/9d/d3/7541e89f1fc456eef157224f597a8bba22589db6369a03eaba68c11f07a0/google_auth_oauthlib-0.4.4-py2.py3-none-any.whl\n",
      "Requirement already satisfied: importlib-metadata; python_version < \"3.8\" in /home/jupyterlab/conda/envs/python/lib/python3.6/site-packages (from markdown>=2.6.8->tensorboard<2.2.0,>=2.1.0->tensorflow==2.2.0rc0) (4.3.0)\n",
      "Requirement already satisfied: idna<3,>=2.5 in /home/jupyterlab/conda/envs/python/lib/python3.6/site-packages (from requests<3,>=2.21.0->tensorboard<2.2.0,>=2.1.0->tensorflow==2.2.0rc0) (2.10)\n",
      "Requirement already satisfied: urllib3<1.27,>=1.21.1 in /home/jupyterlab/conda/envs/python/lib/python3.6/site-packages (from requests<3,>=2.21.0->tensorboard<2.2.0,>=2.1.0->tensorflow==2.2.0rc0) (1.26.5)\n",
      "Requirement already satisfied: certifi>=2017.4.17 in /home/jupyterlab/conda/envs/python/lib/python3.6/site-packages (from requests<3,>=2.21.0->tensorboard<2.2.0,>=2.1.0->tensorflow==2.2.0rc0) (2020.12.5)\n",
      "Requirement already satisfied: chardet<5,>=3.0.2 in /home/jupyterlab/conda/envs/python/lib/python3.6/site-packages (from requests<3,>=2.21.0->tensorboard<2.2.0,>=2.1.0->tensorflow==2.2.0rc0) (4.0.0)\n",
      "Collecting rsa<5,>=3.1.4; python_version >= \"3.6\" (from google-auth<2,>=1.6.3->tensorboard<2.2.0,>=2.1.0->tensorflow==2.2.0rc0)\n",
      "  Using cached https://files.pythonhosted.org/packages/e9/93/0c0f002031f18b53af7a6166103c02b9c0667be528944137cc954ec921b3/rsa-4.7.2-py3-none-any.whl\n",
      "Collecting cachetools<5.0,>=2.0.0 (from google-auth<2,>=1.6.3->tensorboard<2.2.0,>=2.1.0->tensorflow==2.2.0rc0)\n",
      "  Using cached https://files.pythonhosted.org/packages/bf/28/c4f5796c67ad06bb91d98d543a5e01805c1ff065e08871f78e52d2a331ad/cachetools-4.2.2-py3-none-any.whl\n",
      "Requirement already satisfied: pyasn1-modules>=0.2.1 in /home/jupyterlab/conda/envs/python/lib/python3.6/site-packages (from google-auth<2,>=1.6.3->tensorboard<2.2.0,>=2.1.0->tensorflow==2.2.0rc0) (0.2.8)\n",
      "Requirement already satisfied: dataclasses; python_version < \"3.7\" in /home/jupyterlab/conda/envs/python/lib/python3.6/site-packages (from werkzeug>=0.11.15->tensorboard<2.2.0,>=2.1.0->tensorflow==2.2.0rc0) (0.8)\n",
      "Collecting requests-oauthlib>=0.7.0 (from google-auth-oauthlib<0.5,>=0.4.1->tensorboard<2.2.0,>=2.1.0->tensorflow==2.2.0rc0)\n",
      "  Using cached https://files.pythonhosted.org/packages/a3/12/b92740d845ab62ea4edf04d2f4164d82532b5a0b03836d4d4e71c6f3d379/requests_oauthlib-1.3.0-py2.py3-none-any.whl\n",
      "Requirement already satisfied: zipp>=0.5 in /home/jupyterlab/conda/envs/python/lib/python3.6/site-packages (from importlib-metadata; python_version < \"3.8\"->markdown>=2.6.8->tensorboard<2.2.0,>=2.1.0->tensorflow==2.2.0rc0) (3.4.1)\n",
      "Requirement already satisfied: typing-extensions>=3.6.4; python_version < \"3.8\" in /home/jupyterlab/conda/envs/python/lib/python3.6/site-packages (from importlib-metadata; python_version < \"3.8\"->markdown>=2.6.8->tensorboard<2.2.0,>=2.1.0->tensorflow==2.2.0rc0) (3.7.4.3)\n",
      "Requirement already satisfied: pyasn1>=0.1.3 in /home/jupyterlab/conda/envs/python/lib/python3.6/site-packages (from rsa<5,>=3.1.4; python_version >= \"3.6\"->google-auth<2,>=1.6.3->tensorboard<2.2.0,>=2.1.0->tensorflow==2.2.0rc0) (0.4.8)\n",
      "Collecting oauthlib>=3.0.0 (from requests-oauthlib>=0.7.0->google-auth-oauthlib<0.5,>=0.4.1->tensorboard<2.2.0,>=2.1.0->tensorflow==2.2.0rc0)\n",
      "\u001b[?25l  Downloading https://files.pythonhosted.org/packages/e8/5d/9dd1c29e5a786525f6342f6c1d812ed2e37edc653ad297048c1668988053/oauthlib-3.1.1-py2.py3-none-any.whl (146kB)\n",
      "\u001b[K     |████████████████████████████████| 153kB 68.6MB/s eta 0:00:01\n",
      "\u001b[?25hBuilding wheels for collected packages: wrapt\n",
      "  Building wheel for wrapt (setup.py) ... \u001b[?25ldone\n",
      "\u001b[?25h  Stored in directory: /home/jupyterlab/.cache/pip/wheels/b1/c2/ed/d62208260edbd3fa7156545c00ef966f45f2063d0a84f8208a\n",
      "Successfully built wrapt\n",
      "Installing collected packages: tensorflow-estimator, opt-einsum, scipy, keras-preprocessing, google-pasta, rsa, cachetools, google-auth, oauthlib, requests-oauthlib, google-auth-oauthlib, tensorboard, astunparse, wrapt, h5py, gast, tensorflow\n",
      "  Found existing installation: scipy 1.5.3\n",
      "    Uninstalling scipy-1.5.3:\n",
      "      Successfully uninstalled scipy-1.5.3\n",
      "  Found existing installation: tensorboard 1.8.0\n",
      "    Uninstalling tensorboard-1.8.0:\n",
      "      Successfully uninstalled tensorboard-1.8.0\n",
      "  Found existing installation: h5py 2.8.0\n",
      "    Uninstalling h5py-2.8.0:\n",
      "      Successfully uninstalled h5py-2.8.0\n",
      "  Found existing installation: gast 0.4.0\n",
      "    Uninstalling gast-0.4.0:\n",
      "      Successfully uninstalled gast-0.4.0\n",
      "  Found existing installation: tensorflow 1.8.0\n",
      "    Uninstalling tensorflow-1.8.0:\n",
      "      Successfully uninstalled tensorflow-1.8.0\n",
      "Successfully installed astunparse-1.6.3 cachetools-4.2.2 gast-0.3.3 google-auth-1.31.0 google-auth-oauthlib-0.4.4 google-pasta-0.2.0 h5py-2.10.0 keras-preprocessing-1.1.2 oauthlib-3.1.1 opt-einsum-3.3.0 requests-oauthlib-1.3.0 rsa-4.7.2 scipy-1.4.1 tensorboard-2.1.1 tensorflow-2.2.0rc0 tensorflow-estimator-2.1.0 wrapt-1.12.1\n",
      "Requirement already satisfied: numpy in /home/jupyterlab/conda/envs/python/lib/python3.6/site-packages (1.19.5)\n"
     ]
    }
   ],
   "source": [
    "!pip install tensorflow==2.2.0rc0\n",
    "!pip install numpy\n"
   ]
  },
  {
   "cell_type": "code",
   "execution_count": 2,
   "metadata": {},
   "outputs": [],
   "source": [
    "import time\n",
    "import numpy as np\n",
    "import tensorflow as tf\n",
    "if not tf.__version__ == '2.2.0-rc0':\n",
    "    print(tf.__version__)\n",
    "    raise ValueError('please upgrade to TensorFlow 2.2.0-rc0, or restart your Kernel (Kernel->Restart & Clear Output)')"
   ]
  },
  {
   "cell_type": "markdown",
   "metadata": {},
   "source": [
    "IMPORTANT! => Please restart the kernel by clicking on \"Kernel\"->\"Restart and Clear Outout\" and wait until all output disapears. Then your changes are beeing picked up\n"
   ]
  },
  {
   "cell_type": "code",
   "execution_count": 3,
   "metadata": {
    "button": false,
    "deletable": true,
    "new_sheet": false,
    "run_control": {
     "read_only": false
    },
    "tags": []
   },
   "outputs": [],
   "source": [
    "!mkdir data\n",
    "!mkdir data/ptb\n",
    "!wget -q -O data/ptb/reader.py https://cf-courses-data.s3.us.cloud-object-storage.appdomain.cloud/IBMDeveloperSkillsNetwork-DL0120EN-SkillsNetwork/labs/Week3/data/ptb/reader.py\n",
    "!cp data/ptb/reader.py . \n"
   ]
  },
  {
   "cell_type": "code",
   "execution_count": 4,
   "metadata": {
    "tags": []
   },
   "outputs": [],
   "source": [
    "import reader"
   ]
  },
  {
   "cell_type": "markdown",
   "metadata": {
    "button": false,
    "deletable": true,
    "new_sheet": false,
    "run_control": {
     "read_only": false
    }
   },
   "source": [
    "<a id=\"building_lstm_model\"></a>\n",
    "\n",
    "<h2>Building the LSTM model for Language Modeling</h2>\n",
    "Now that we know exactly what we are doing, we can start building our model using TensorFlow. The very first thing we need to do is download and extract the <code>simple-examples</code> dataset, which can be done by executing the code cell below.\n"
   ]
  },
  {
   "cell_type": "code",
   "execution_count": 5,
   "metadata": {
    "button": false,
    "deletable": true,
    "new_sheet": false,
    "run_control": {
     "read_only": false
    },
    "tags": []
   },
   "outputs": [
    {
     "name": "stdout",
     "output_type": "stream",
     "text": [
      "--2021-06-16 15:46:47--  http://www.fit.vutbr.cz/~imikolov/rnnlm/simple-examples.tgz\n",
      "Resolving www.fit.vutbr.cz (www.fit.vutbr.cz)... 147.229.9.23, 2001:67c:1220:809::93e5:917\n",
      "Connecting to www.fit.vutbr.cz (www.fit.vutbr.cz)|147.229.9.23|:80... connected.\n",
      "HTTP request sent, awaiting response... 200 OK\n",
      "Length: 34869662 (33M) [application/x-gtar]\n",
      "Saving to: ‘simple-examples.tgz’\n",
      "\n",
      "simple-examples.tgz 100%[===================>]  33.25M  4.15MB/s    in 8.6s    \n",
      "\n",
      "2021-06-16 15:46:57 (3.87 MB/s) - ‘simple-examples.tgz’ saved [34869662/34869662]\n",
      "\n"
     ]
    }
   ],
   "source": [
    "!wget http://www.fit.vutbr.cz/~imikolov/rnnlm/simple-examples.tgz \n",
    "!tar xzf simple-examples.tgz -C data/"
   ]
  },
  {
   "cell_type": "markdown",
   "metadata": {
    "button": false,
    "deletable": true,
    "new_sheet": false,
    "run_control": {
     "read_only": false
    }
   },
   "source": [
    "Additionally, for the sake of making it easy to play around with the model's hyperparameters, we can declare them beforehand. Feel free to change these -- you will see a difference in performance each time you change those!  \n"
   ]
  },
  {
   "cell_type": "code",
   "execution_count": 6,
   "metadata": {
    "button": false,
    "deletable": true,
    "new_sheet": false,
    "run_control": {
     "read_only": false
    }
   },
   "outputs": [],
   "source": [
    "#Initial weight scale\n",
    "init_scale = 0.1\n",
    "#Initial learning rate\n",
    "learning_rate = 1.0\n",
    "#Maximum permissible norm for the gradient (For gradient clipping -- another measure against Exploding Gradients)\n",
    "max_grad_norm = 5\n",
    "#The number of layers in our model\n",
    "num_layers = 2\n",
    "#The total number of recurrence steps, also known as the number of layers when our RNN is \"unfolded\"\n",
    "num_steps = 20\n",
    "#The number of processing units (neurons) in the hidden layers\n",
    "hidden_size_l1 = 256\n",
    "hidden_size_l2 = 128\n",
    "#The maximum number of epochs trained with the initial learning rate\n",
    "max_epoch_decay_lr = 4\n",
    "#The total number of epochs in training\n",
    "max_epoch = 15\n",
    "#The probability for keeping data in the Dropout Layer (This is an optimization, but is outside our scope for this notebook!)\n",
    "#At 1, we ignore the Dropout Layer wrapping.\n",
    "keep_prob = 1\n",
    "#The decay for the learning rate\n",
    "decay = 0.5\n",
    "#The size for each batch of data\n",
    "batch_size = 30\n",
    "#The size of our vocabulary\n",
    "vocab_size = 10000\n",
    "embeding_vector_size= 200\n",
    "#Training flag to separate training from testing\n",
    "is_training = 1\n",
    "#Data directory for our dataset\n",
    "data_dir = \"data/simple-examples/data/\""
   ]
  },
  {
   "cell_type": "markdown",
   "metadata": {
    "button": false,
    "new_sheet": false,
    "run_control": {
     "read_only": false
    }
   },
   "source": [
    "Some clarifications for LSTM architecture based on the arguments:\n",
    "\n",
    "Network structure:\n",
    "\n",
    "<ul>\n",
    "    <li>In this network, the number of LSTM cells are 2. To give the model more expressive power, we can add multiple layers of LSTMs to process the data. The output of the first layer will become the input of the second and so on.\n",
    "    </li>\n",
    "    <li>The recurrence steps is 20, that is, when our RNN is \"Unfolded\", the recurrence step is 20.</li>   \n",
    "    <li>the structure is like:\n",
    "        <ul>\n",
    "            <li>200 input units -> [200x200] Weight -> 200 Hidden units (first layer) -> [200x200] Weight matrix  -> 200 Hidden units (second layer) ->  [200] weight Matrix -> 200 unit output</li>\n",
    "        </ul>\n",
    "    </li>\n",
    "</ul>\n",
    "<br>\n",
    "\n",
    "Input layer: \n",
    "\n",
    "<ul>\n",
    "    <li>The network has 200 input units.</li>\n",
    "    <li>Suppose each word is represented by an embedding vector of dimensionality e=200. The input layer of each cell will have 200 linear units. These e=200 linear units are connected to each of the h=200 LSTM units in the hidden layer (assuming there is only one hidden layer, though our case has 2 layers).\n",
    "    </li>\n",
    "    <li>The input shape is [batch_size, num_steps], that is [30x20]. It will turn into [30x20x200] after embedding, and then 20x[30x200]\n",
    "    </li>\n",
    "</ul>\n",
    "<br>\n",
    "\n",
    "Hidden layer:\n",
    "\n",
    "<ul>\n",
    "    <li>Each LSTM has 200 hidden units which is equivalent to the dimensionality of the embedding words and output.</li>\n",
    "</ul>\n",
    "<br>\n"
   ]
  },
  {
   "cell_type": "markdown",
   "metadata": {
    "button": false,
    "deletable": true,
    "new_sheet": false,
    "run_control": {
     "read_only": false
    }
   },
   "source": [
    "There is a lot to be done and a ton of information to process at the same time, so go over this code slowly. It may seem complex at first, but if you try to apply what you just learned about language modelling to the code you see, you should be able to understand it.\n",
    "\n",
    "This code is adapted from the <a href=\"https://github.com/tensorflow/models\">PTBModel</a> example bundled with the TensorFlow source code.\n",
    "\n",
    "<h3>Training data</h3>\n",
    "The story starts from data:\n",
    "<ul>\n",
    "    <li>Train data is a list of words, of size 929589, represented by numbers, e.g. [9971, 9972, 9974, 9975,...]</li>\n",
    "    <li>We read data as mini-batch of size b=30. Assume the size of each sentence is 20 words (num_steps = 20). Then it will take $$floor(\\frac{N}{b \\times h})+1=1548$$ iterations for the learner to go through all sentences once. Where N is the size of the list of words, b is batch size, and h is size of each sentence. So, the number of iterators is 1548\n",
    "    </li>\n",
    "    <li>Each batch data is read from train dataset of size 600, and shape of [30x20]</li>\n",
    "</ul>\n"
   ]
  },
  {
   "cell_type": "code",
   "execution_count": 7,
   "metadata": {
    "button": false,
    "deletable": true,
    "new_sheet": false,
    "run_control": {
     "read_only": false
    }
   },
   "outputs": [],
   "source": [
    "# Reads the data and separates it into training data, validation data and testing data\n",
    "raw_data = reader.ptb_raw_data(data_dir)\n",
    "train_data, valid_data, test_data, vocab, word_to_id = raw_data"
   ]
  },
  {
   "cell_type": "code",
   "execution_count": 8,
   "metadata": {},
   "outputs": [
    {
     "data": {
      "text/plain": [
       "929589"
      ]
     },
     "execution_count": 8,
     "metadata": {},
     "output_type": "execute_result"
    }
   ],
   "source": [
    "len(train_data)"
   ]
  },
  {
   "cell_type": "code",
   "execution_count": 9,
   "metadata": {
    "tags": []
   },
   "outputs": [
    {
     "name": "stdout",
     "output_type": "stream",
     "text": [
      "['aer', 'banknote', 'berlitz', 'calloway', 'centrust', 'cluett', 'fromstein', 'gitano', 'guterman', 'hydro-quebec', 'ipo', 'kia', 'memotec', 'mlx', 'nahb', 'punts', 'rake', 'regatta', 'rubens', 'sim', 'snack-food', 'ssangyong', 'swapo', 'wachter', '<eos>', 'pierre', '<unk>', 'N', 'years', 'old', 'will', 'join', 'the', 'board', 'as', 'a', 'nonexecutive', 'director', 'nov.', 'N', '<eos>', 'mr.', '<unk>', 'is', 'chairman', 'of', '<unk>', 'n.v.', 'the', 'dutch', 'publishing', 'group', '<eos>', 'rudolph', '<unk>', 'N', 'years', 'old', 'and', 'former', 'chairman', 'of', 'consolidated', 'gold', 'fields', 'plc', 'was', 'named', 'a', 'nonexecutive', 'director', 'of', 'this', 'british', 'industrial', 'conglomerate', '<eos>', 'a', 'form', 'of', 'asbestos', 'once', 'used', 'to', 'make', 'kent', 'cigarette', 'filters', 'has', 'caused', 'a', 'high', 'percentage', 'of', 'cancer', 'deaths', 'among', 'a', 'group', 'of']\n"
     ]
    }
   ],
   "source": [
    "def id_to_word(id_list):\n",
    "    line = []\n",
    "    for w in id_list:\n",
    "        for word, wid in word_to_id.items():\n",
    "            if wid == w:\n",
    "                line.append(word)\n",
    "    return line            \n",
    "                \n",
    "\n",
    "print(id_to_word(train_data[0:100]))"
   ]
  },
  {
   "cell_type": "markdown",
   "metadata": {
    "button": false,
    "deletable": true,
    "new_sheet": false,
    "run_control": {
     "read_only": false
    }
   },
   "source": [
    "Lets just read one mini-batch now and feed our network:\n"
   ]
  },
  {
   "cell_type": "code",
   "execution_count": 10,
   "metadata": {
    "button": false,
    "deletable": true,
    "new_sheet": false,
    "run_control": {
     "read_only": false
    }
   },
   "outputs": [],
   "source": [
    "itera = reader.ptb_iterator(train_data, batch_size, num_steps)\n",
    "first_touple = itera.__next__()\n",
    "_input_data = first_touple[0]\n",
    "_targets = first_touple[1]"
   ]
  },
  {
   "cell_type": "code",
   "execution_count": 11,
   "metadata": {
    "button": false,
    "deletable": true,
    "new_sheet": false,
    "run_control": {
     "read_only": false
    }
   },
   "outputs": [
    {
     "data": {
      "text/plain": [
       "(30, 20)"
      ]
     },
     "execution_count": 11,
     "metadata": {},
     "output_type": "execute_result"
    }
   ],
   "source": [
    "_input_data.shape"
   ]
  },
  {
   "cell_type": "code",
   "execution_count": 12,
   "metadata": {},
   "outputs": [
    {
     "data": {
      "text/plain": [
       "(30, 20)"
      ]
     },
     "execution_count": 12,
     "metadata": {},
     "output_type": "execute_result"
    }
   ],
   "source": [
    "_targets.shape"
   ]
  },
  {
   "cell_type": "markdown",
   "metadata": {
    "button": false,
    "deletable": true,
    "new_sheet": false,
    "run_control": {
     "read_only": false
    }
   },
   "source": [
    "Lets look at 3 sentences of our input x:\n"
   ]
  },
  {
   "cell_type": "code",
   "execution_count": 13,
   "metadata": {
    "button": false,
    "deletable": true,
    "new_sheet": false,
    "run_control": {
     "read_only": false
    }
   },
   "outputs": [
    {
     "data": {
      "text/plain": [
       "array([[9970, 9971, 9972, 9974, 9975, 9976, 9980, 9981, 9982, 9983, 9984,\n",
       "        9986, 9987, 9988, 9989, 9991, 9992, 9993, 9994, 9995],\n",
       "       [2654,    6,  334, 2886,    4,    1,  233,  711,  834,   11,  130,\n",
       "         123,    7,  514,    2,   63,   10,  514,    8,  605],\n",
       "       [   0, 1071,    4,    0,  185,   24,  368,   20,   31, 3109,  954,\n",
       "          12,    3,   21,    2, 2915,    2,   12,    3,   21]],\n",
       "      dtype=int32)"
      ]
     },
     "execution_count": 13,
     "metadata": {},
     "output_type": "execute_result"
    }
   ],
   "source": [
    "_input_data[0:3]"
   ]
  },
  {
   "cell_type": "code",
   "execution_count": 14,
   "metadata": {},
   "outputs": [
    {
     "name": "stdout",
     "output_type": "stream",
     "text": [
      "['aer', 'banknote', 'berlitz', 'calloway', 'centrust', 'cluett', 'fromstein', 'gitano', 'guterman', 'hydro-quebec', 'ipo', 'kia', 'memotec', 'mlx', 'nahb', 'punts', 'rake', 'regatta', 'rubens', 'sim']\n"
     ]
    }
   ],
   "source": [
    "print(id_to_word(_input_data[0,:]))"
   ]
  },
  {
   "cell_type": "markdown",
   "metadata": {
    "button": false,
    "deletable": true,
    "new_sheet": false,
    "run_control": {
     "read_only": false
    }
   },
   "source": [
    "<h3>Embeddings</h3>\n",
    "We have to convert the words in our dataset to vectors of numbers. The traditional approach is to use one-hot encoding method that is usually used for converting categorical values to numerical values. However, One-hot encoded vectors are high-dimensional, sparse and in a big dataset, computationally inefficient. So, we use word2vec approach. It is, in fact, a layer in our LSTM network, where the word IDs will be represented as a dense representation before feeding to the LSTM. \n",
    "\n",
    "The embedded vectors also get updated during the training process of the deep neural network.\n",
    "We create the embeddings for our input data. <b>embedding_vocab</b> is matrix of [10000x200] for all 10000 unique words.\n"
   ]
  },
  {
   "cell_type": "markdown",
   "metadata": {
    "button": false,
    "deletable": true,
    "new_sheet": false,
    "run_control": {
     "read_only": false
    }
   },
   "source": [
    "<b>embedding_lookup()</b> finds the embedded values for our batch of 30x20 words. It  goes to each row of <code>input_data</code>, and for each word in the row/sentence, finds the correspond vector in <code>embedding_dic<code>. <br>\n",
    "It creates a [30x20x200] tensor, so, the first element of <b>inputs</b> (the first sentence), is a matrix of 20x200, which each row of it, is vector representing a word in the sentence.\n"
   ]
  },
  {
   "cell_type": "code",
   "execution_count": 15,
   "metadata": {},
   "outputs": [],
   "source": [
    "embedding_layer = tf.keras.layers.Embedding(vocab_size, embeding_vector_size,batch_input_shape=(batch_size, num_steps),trainable=True,name=\"embedding_vocab\")  "
   ]
  },
  {
   "cell_type": "code",
   "execution_count": 16,
   "metadata": {},
   "outputs": [
    {
     "data": {
      "text/plain": [
       "<tf.Tensor: shape=(30, 20, 200), dtype=float32, numpy=\n",
       "array([[[-0.03572582,  0.00736493,  0.03978046, ..., -0.02625678,\n",
       "         -0.02859132,  0.04826448],\n",
       "        [-0.03066957, -0.04909179,  0.049002  , ..., -0.0033963 ,\n",
       "          0.01311955,  0.03104017],\n",
       "        [ 0.04974243, -0.02127462,  0.02618677, ...,  0.00124623,\n",
       "          0.01186237,  0.04938881],\n",
       "        ...,\n",
       "        [ 0.02592147, -0.04697459,  0.04770512, ..., -0.04470391,\n",
       "         -0.03320616,  0.04316825],\n",
       "        [ 0.00150234, -0.04422904,  0.02080053, ...,  0.00456338,\n",
       "         -0.03527176,  0.00526943],\n",
       "        [-0.03972151,  0.02362014,  0.0233155 , ...,  0.04776502,\n",
       "          0.04982251,  0.02169771]],\n",
       "\n",
       "       [[-0.02983414, -0.00450087, -0.03117343, ..., -0.04750524,\n",
       "          0.02674815,  0.0170834 ],\n",
       "        [ 0.02747365, -0.00590874,  0.00706188, ..., -0.04521528,\n",
       "         -0.00946219,  0.02875829],\n",
       "        [-0.04014339,  0.00957442,  0.02399416, ..., -0.02390475,\n",
       "          0.03362441,  0.02164039],\n",
       "        ...,\n",
       "        [ 0.03326325, -0.01635337,  0.0415209 , ...,  0.02566883,\n",
       "          0.02531907,  0.03952027],\n",
       "        [ 0.03021294,  0.00830255, -0.03308909, ...,  0.02096548,\n",
       "          0.01095239,  0.00032697],\n",
       "        [-0.00511867, -0.04539124,  0.00785087, ..., -0.00954646,\n",
       "          0.00460815, -0.02411796]],\n",
       "\n",
       "       [[ 0.03051627, -0.0443177 , -0.02890784, ...,  0.03115683,\n",
       "         -0.01654527, -0.02236923],\n",
       "        [-0.01343019,  0.04811403,  0.03934113, ...,  0.04929357,\n",
       "          0.03977064,  0.03114286],\n",
       "        [ 0.03698782,  0.0095214 , -0.04420477, ..., -0.03596554,\n",
       "          0.01536096, -0.01311981],\n",
       "        ...,\n",
       "        [ 0.04536022,  0.04883641,  0.00938814, ...,  0.04419979,\n",
       "          0.03972329, -0.003572  ],\n",
       "        [ 0.0385058 , -0.04374831, -0.006783  , ..., -0.0282792 ,\n",
       "          0.01324452,  0.00759621],\n",
       "        [-0.02716336,  0.03875252, -0.02653623, ..., -0.03482355,\n",
       "         -0.03096212,  0.01595377]],\n",
       "\n",
       "       ...,\n",
       "\n",
       "       [[-0.02052717, -0.02822559,  0.02281766, ..., -0.02915536,\n",
       "         -0.01218332,  0.04900983],\n",
       "        [-0.03047056,  0.01822077,  0.00547825, ...,  0.00601826,\n",
       "          0.03532275, -0.02464508],\n",
       "        [-0.03042054, -0.00357684,  0.04430993, ..., -0.0066478 ,\n",
       "         -0.03456963, -0.03052597],\n",
       "        ...,\n",
       "        [ 0.00634843,  0.04086287, -0.04091474, ...,  0.02414865,\n",
       "          0.0480394 ,  0.0195591 ],\n",
       "        [-0.00935559, -0.01356114,  0.00253665, ..., -0.01418332,\n",
       "         -0.04464846,  0.01026362],\n",
       "        [ 0.04692208, -0.01725677, -0.02134023, ..., -0.00464028,\n",
       "          0.02777542, -0.01948263]],\n",
       "\n",
       "       [[-0.0313292 , -0.03704796, -0.012708  , ..., -0.00163958,\n",
       "          0.01805445, -0.04340364],\n",
       "        [ 0.01340833,  0.00474509, -0.03023071, ..., -0.03591149,\n",
       "         -0.01764283, -0.01986889],\n",
       "        [ 0.03698782,  0.0095214 , -0.04420477, ..., -0.03596554,\n",
       "          0.01536096, -0.01311981],\n",
       "        ...,\n",
       "        [-0.0165316 , -0.02469778,  0.02079341, ...,  0.02509579,\n",
       "          0.02092448,  0.04864701],\n",
       "        [ 0.02747365, -0.00590874,  0.00706188, ..., -0.04521528,\n",
       "         -0.00946219,  0.02875829],\n",
       "        [ 0.04067284, -0.02348799, -0.04523283, ..., -0.01431374,\n",
       "          0.02715736, -0.03469325]],\n",
       "\n",
       "       [[-0.0437513 , -0.01981442, -0.00218649, ...,  0.00568103,\n",
       "         -0.03475696,  0.01563386],\n",
       "        [-0.02825775, -0.0384178 ,  0.03605176, ...,  0.02214638,\n",
       "          0.02824602, -0.00787135],\n",
       "        [-0.04044868,  0.00265528,  0.00791182, ...,  0.02714597,\n",
       "          0.01820685,  0.04568055],\n",
       "        ...,\n",
       "        [ 0.01497492,  0.049777  , -0.0401101 , ...,  0.0102095 ,\n",
       "          0.02099193, -0.01750138],\n",
       "        [ 0.02713032,  0.0085092 , -0.02727413, ..., -0.0458475 ,\n",
       "          0.00771638, -0.04546442],\n",
       "        [ 0.03172261, -0.00385826,  0.00678294, ...,  0.01723511,\n",
       "          0.01926816, -0.01919706]]], dtype=float32)>"
      ]
     },
     "execution_count": 16,
     "metadata": {},
     "output_type": "execute_result"
    }
   ],
   "source": [
    "# Define where to get the data for our embeddings from\n",
    "inputs = embedding_layer(_input_data)\n",
    "inputs"
   ]
  },
  {
   "cell_type": "markdown",
   "metadata": {},
   "source": [
    "<h3>Constructing Recurrent Neural Networks</h3>\n"
   ]
  },
  {
   "cell_type": "markdown",
   "metadata": {
    "button": false,
    "deletable": true,
    "new_sheet": false,
    "run_control": {
     "read_only": false
    }
   },
   "source": [
    "In this step, we create the stacked LSTM using <b>tf.keras.layers.StackedRNNCells</b>, which is a 2 layer LSTM network:\n"
   ]
  },
  {
   "cell_type": "code",
   "execution_count": 17,
   "metadata": {},
   "outputs": [],
   "source": [
    "lstm_cell_l1 = tf.keras.layers.LSTMCell(hidden_size_l1)\n",
    "lstm_cell_l2 = tf.keras.layers.LSTMCell(hidden_size_l2)"
   ]
  },
  {
   "cell_type": "code",
   "execution_count": 18,
   "metadata": {
    "button": false,
    "deletable": true,
    "new_sheet": false,
    "run_control": {
     "read_only": false
    }
   },
   "outputs": [],
   "source": [
    "stacked_lstm = tf.keras.layers.StackedRNNCells([lstm_cell_l1, lstm_cell_l2])"
   ]
  },
  {
   "cell_type": "markdown",
   "metadata": {},
   "source": [
    "<b>tf.keras.layers.RNN</b> creates a recurrent neural network using <b>stacked_lstm</b>. \n",
    "\n",
    "The input should be a Tensor of shape: [batch_size, max_time, embedding_vector_size], in our case it would be (30, 20, 200)\n"
   ]
  },
  {
   "cell_type": "code",
   "execution_count": 19,
   "metadata": {},
   "outputs": [],
   "source": [
    "layer  =  tf.keras.layers.RNN(stacked_lstm,[batch_size, num_steps],return_state=False,stateful=True,trainable=True)"
   ]
  },
  {
   "cell_type": "markdown",
   "metadata": {
    "button": false,
    "deletable": true,
    "new_sheet": false,
    "run_control": {
     "read_only": false
    }
   },
   "source": [
    "Also, we initialize the states of the nework:\n",
    "\n",
    "<h4>_initial_state</h4>\n",
    "\n",
    "For each LSTM, there are 2 state matrices, c_state and m_state.  c_state and m_state represent \"Memory State\" and \"Cell State\". Each hidden layer, has a vector of size 30, which keeps the states. so, for 200 hidden units in each LSTM, we have a matrix of size [30x200]\n"
   ]
  },
  {
   "cell_type": "code",
   "execution_count": 20,
   "metadata": {},
   "outputs": [],
   "source": [
    "init_state = tf.Variable(tf.zeros([batch_size,embeding_vector_size]),trainable=False)"
   ]
  },
  {
   "cell_type": "code",
   "execution_count": 21,
   "metadata": {},
   "outputs": [],
   "source": [
    "layer.inital_state = init_state"
   ]
  },
  {
   "cell_type": "code",
   "execution_count": 22,
   "metadata": {},
   "outputs": [
    {
     "data": {
      "text/plain": [
       "<tf.Variable 'Variable:0' shape=(30, 200) dtype=float32, numpy=\n",
       "array([[0., 0., 0., ..., 0., 0., 0.],\n",
       "       [0., 0., 0., ..., 0., 0., 0.],\n",
       "       [0., 0., 0., ..., 0., 0., 0.],\n",
       "       ...,\n",
       "       [0., 0., 0., ..., 0., 0., 0.],\n",
       "       [0., 0., 0., ..., 0., 0., 0.],\n",
       "       [0., 0., 0., ..., 0., 0., 0.]], dtype=float32)>"
      ]
     },
     "execution_count": 22,
     "metadata": {},
     "output_type": "execute_result"
    }
   ],
   "source": [
    "layer.inital_state"
   ]
  },
  {
   "cell_type": "markdown",
   "metadata": {},
   "source": [
    "so, lets look at the outputs. The output of the stackedLSTM comes from 128 hidden_layer, and in each time step(=20), one of them get activated. we use the linear activation to map the 128 hidden layer to a [30X20 matrix]\n"
   ]
  },
  {
   "cell_type": "code",
   "execution_count": 23,
   "metadata": {},
   "outputs": [],
   "source": [
    "outputs = layer(inputs)"
   ]
  },
  {
   "cell_type": "code",
   "execution_count": 24,
   "metadata": {},
   "outputs": [
    {
     "data": {
      "text/plain": [
       "<tf.Tensor: shape=(30, 20, 128), dtype=float32, numpy=\n",
       "array([[[ 1.22694619e-04,  9.72351427e-06,  3.35321063e-04, ...,\n",
       "         -4.74314875e-04, -1.38304327e-04,  1.81979756e-03],\n",
       "        [ 1.03386270e-03,  1.66857353e-04,  1.40181684e-04, ...,\n",
       "         -2.18160727e-04, -2.14996646e-04,  2.07944261e-03],\n",
       "        [ 2.36619776e-03,  2.36443848e-05,  1.18877017e-03, ...,\n",
       "         -1.81916775e-03, -2.02716328e-03,  2.48509902e-03],\n",
       "        ...,\n",
       "        [ 2.17279629e-03, -2.69709993e-03,  3.58776655e-03, ...,\n",
       "          4.26078914e-03, -2.77294870e-03, -3.71093792e-03],\n",
       "        [ 2.68314756e-03, -3.43165803e-03,  4.52133687e-03, ...,\n",
       "          4.33620997e-03, -3.63703445e-03, -4.61158436e-03],\n",
       "        [ 3.22359242e-03, -4.90421476e-03,  4.80116950e-03, ...,\n",
       "          3.75941047e-03, -2.76341545e-03, -3.85459187e-03]],\n",
       "\n",
       "       [[ 1.18304545e-03,  4.11641551e-04,  4.95731831e-04, ...,\n",
       "         -1.00935533e-04,  1.09089044e-04, -1.48245168e-03],\n",
       "        [ 1.06644293e-03, -5.54163475e-04,  4.50161810e-04, ...,\n",
       "         -7.68676982e-04, -2.97999184e-04, -2.68549938e-03],\n",
       "        [ 1.91037927e-03, -2.84002209e-03,  6.73579460e-04, ...,\n",
       "         -2.77717272e-03, -1.02203875e-03, -3.78183555e-03],\n",
       "        ...,\n",
       "        [-4.60169336e-04, -7.45400041e-03, -3.03939334e-03, ...,\n",
       "         -3.06492671e-03,  2.01256387e-03, -1.26205594e-03],\n",
       "        [-2.25174311e-03, -6.48110220e-03, -3.01710307e-03, ...,\n",
       "         -2.24396796e-03,  7.70962972e-04,  6.02748478e-04],\n",
       "        [-5.12173027e-03, -6.08008308e-03, -2.49488745e-03, ...,\n",
       "         -1.43883354e-03,  4.58470677e-05,  8.81778134e-04]],\n",
       "\n",
       "       [[-1.40096562e-03, -2.15225434e-03, -1.48630555e-04, ...,\n",
       "         -5.14518935e-04,  1.36967131e-03,  8.22343980e-04],\n",
       "        [-1.18132925e-03, -3.17953643e-03,  1.49532896e-03, ...,\n",
       "          4.17635107e-04,  2.06165947e-03,  2.20301677e-03],\n",
       "        [-1.28945243e-03, -4.31372225e-03,  2.24921666e-03, ...,\n",
       "         -5.16851491e-04,  2.23949761e-03,  2.62382161e-03],\n",
       "        ...,\n",
       "        [-5.06189233e-03, -5.66989044e-03, -1.30094576e-03, ...,\n",
       "         -6.55395119e-03,  8.21534544e-03, -2.53801048e-03],\n",
       "        [-5.47409384e-03, -7.04343803e-03, -2.64096330e-03, ...,\n",
       "         -4.90555400e-03,  7.62846833e-03, -1.65950379e-03],\n",
       "        [-6.83624344e-03, -6.96509145e-03, -3.37768067e-03, ...,\n",
       "         -3.95849999e-03,  6.82632066e-03, -1.46261929e-03]],\n",
       "\n",
       "       ...,\n",
       "\n",
       "       [[-2.87500909e-04,  1.75003847e-03, -2.50481971e-05, ...,\n",
       "          4.11136658e-04,  3.89223947e-04, -2.93220597e-04],\n",
       "        [-1.26903097e-03,  3.17313592e-03, -9.40789294e-04, ...,\n",
       "         -1.12235150e-03,  1.01082260e-03,  4.67821286e-04],\n",
       "        [-2.02196022e-03,  4.50756866e-03, -1.41101028e-03, ...,\n",
       "         -1.13657024e-03,  1.82277203e-04,  8.12434009e-04],\n",
       "        ...,\n",
       "        [ 2.64415168e-03, -8.67081899e-03, -7.28615746e-03, ...,\n",
       "          1.62294251e-03,  6.73764618e-04,  8.73378944e-04],\n",
       "        [ 2.27456819e-03, -9.47522279e-03, -7.02504255e-03, ...,\n",
       "         -8.18173285e-04,  1.10534229e-03,  9.81125748e-04],\n",
       "        [ 1.83230685e-03, -8.06053076e-03, -6.33530598e-03, ...,\n",
       "         -1.94105972e-03,  1.96151226e-03,  1.00509217e-03]],\n",
       "\n",
       "       [[ 6.34713389e-04,  3.05806607e-04,  6.26936147e-04, ...,\n",
       "         -6.71593880e-04,  1.27604324e-03,  1.03648042e-03],\n",
       "        [ 2.17412901e-03,  9.21920291e-04,  1.24344998e-03, ...,\n",
       "          4.24988219e-04,  1.02115062e-03,  1.44083379e-03],\n",
       "        [ 3.05181718e-03,  2.06427037e-04,  1.43327704e-03, ...,\n",
       "          1.18020049e-04,  6.70808950e-04,  1.36347627e-03],\n",
       "        ...,\n",
       "        [ 4.87494748e-03, -2.56823888e-03,  7.17354531e-04, ...,\n",
       "         -1.04813126e-03, -7.41421990e-03,  1.90672278e-03],\n",
       "        [ 3.53006879e-03, -3.16814263e-03,  1.86569087e-04, ...,\n",
       "         -1.28318032e-03, -7.31661730e-03,  7.94149411e-04],\n",
       "        [ 2.00367183e-03, -2.67169997e-03, -4.78234542e-05, ...,\n",
       "         -4.54459019e-04, -4.79472196e-03,  6.95330615e-04]],\n",
       "\n",
       "       [[-9.93962167e-04,  1.17723504e-03, -4.02864476e-04, ...,\n",
       "          1.76603930e-06, -1.02195008e-04, -4.21784353e-04],\n",
       "        [ 1.55561749e-04,  1.30878680e-03, -5.74811769e-04, ...,\n",
       "         -2.87393079e-04, -7.35281355e-05, -6.69698929e-04],\n",
       "        [ 5.48424141e-04,  9.35210148e-04, -2.04832366e-04, ...,\n",
       "          6.95608265e-04, -4.56646463e-04, -1.36241096e-03],\n",
       "        ...,\n",
       "        [-7.76369683e-03, -8.43833841e-04,  2.59028329e-03, ...,\n",
       "         -6.14282070e-03, -4.22884885e-04, -9.13755095e-04],\n",
       "        [-7.43519980e-03, -1.73818751e-03,  3.18064168e-03, ...,\n",
       "         -5.91883250e-03, -8.61434208e-04, -6.91246416e-04],\n",
       "        [-8.42831191e-03, -3.40179191e-03,  2.34798947e-03, ...,\n",
       "         -4.68317606e-03,  7.00829551e-04, -8.38345557e-04]]],\n",
       "      dtype=float32)>"
      ]
     },
     "execution_count": 24,
     "metadata": {},
     "output_type": "execute_result"
    }
   ],
   "source": [
    "outputs"
   ]
  },
  {
   "cell_type": "markdown",
   "metadata": {
    "button": false,
    "deletable": true,
    "new_sheet": false,
    "run_control": {
     "read_only": false
    }
   },
   "source": [
    "<h2>Dense layer</h2>\n",
    "We now create densely-connected neural network layer that would reshape the outputs tensor from  [30 x 20 x 128] to [30 x 20 x 10000].\n"
   ]
  },
  {
   "cell_type": "code",
   "execution_count": 25,
   "metadata": {},
   "outputs": [],
   "source": [
    "dense = tf.keras.layers.Dense(vocab_size)"
   ]
  },
  {
   "cell_type": "code",
   "execution_count": 26,
   "metadata": {},
   "outputs": [],
   "source": [
    "logits_outputs  = dense(outputs)"
   ]
  },
  {
   "cell_type": "code",
   "execution_count": 27,
   "metadata": {},
   "outputs": [
    {
     "name": "stdout",
     "output_type": "stream",
     "text": [
      "shape of the output from dense layer:  (30, 20, 10000)\n"
     ]
    }
   ],
   "source": [
    "print(\"shape of the output from dense layer: \", logits_outputs.shape) #(batch_size, sequence_length, vocab_size)"
   ]
  },
  {
   "cell_type": "markdown",
   "metadata": {},
   "source": [
    "<h2>Activation layer</h2>\n",
    "\n",
    "A softmax activation layers is also then applied to derive the probability of the output being in any of the multiclass(10000 in this case) possibilities. \n"
   ]
  },
  {
   "cell_type": "code",
   "execution_count": 28,
   "metadata": {},
   "outputs": [],
   "source": [
    "activation = tf.keras.layers.Activation('softmax')"
   ]
  },
  {
   "cell_type": "code",
   "execution_count": 29,
   "metadata": {},
   "outputs": [],
   "source": [
    "output_words_prob = activation(logits_outputs)"
   ]
  },
  {
   "cell_type": "code",
   "execution_count": 30,
   "metadata": {},
   "outputs": [
    {
     "name": "stdout",
     "output_type": "stream",
     "text": [
      "shape of the output from the activation layer:  (30, 20, 10000)\n"
     ]
    }
   ],
   "source": [
    "print(\"shape of the output from the activation layer: \", output_words_prob.shape) #(batch_size, sequence_length, vocab_size)"
   ]
  },
  {
   "cell_type": "markdown",
   "metadata": {},
   "source": [
    "Lets look at the probability of observing words for t=0 to t=20:\n"
   ]
  },
  {
   "cell_type": "code",
   "execution_count": 31,
   "metadata": {},
   "outputs": [
    {
     "name": "stdout",
     "output_type": "stream",
     "text": [
      "The probability of observing words in t=0 to t=20 tf.Tensor(\n",
      "[[1.00012112e-04 1.00021301e-04 1.00000121e-04 ... 9.99932818e-05\n",
      "  9.99877957e-05 1.00014884e-04]\n",
      " [1.00019126e-04 1.00005433e-04 9.99984186e-05 ... 9.99898184e-05\n",
      "  9.99764379e-05 1.00041143e-04]\n",
      " [1.00008045e-04 9.99940239e-05 9.99934564e-05 ... 9.99982658e-05\n",
      "  9.99870535e-05 1.00049845e-04]\n",
      " ...\n",
      " [1.00013924e-04 9.99542899e-05 9.99349577e-05 ... 9.98780015e-05\n",
      "  9.98720425e-05 1.00057936e-04]\n",
      " [1.00011915e-04 9.99602926e-05 9.99122858e-05 ... 9.98974647e-05\n",
      "  9.98519099e-05 1.00082470e-04]\n",
      " [1.00008489e-04 9.99371769e-05 9.98888354e-05 ... 9.99316471e-05\n",
      "  9.98424002e-05 1.00100158e-04]], shape=(20, 10000), dtype=float32)\n"
     ]
    }
   ],
   "source": [
    "print(\"The probability of observing words in t=0 to t=20\", output_words_prob[0,0:num_steps])"
   ]
  },
  {
   "cell_type": "markdown",
   "metadata": {
    "button": false,
    "deletable": true,
    "new_sheet": false,
    "run_control": {
     "read_only": false
    }
   },
   "source": [
    "<h3>Prediction</h3>\n",
    "What is the word correspond to the probability output? Lets use the maximum probability:\n"
   ]
  },
  {
   "cell_type": "code",
   "execution_count": 32,
   "metadata": {},
   "outputs": [
    {
     "data": {
      "text/plain": [
       "array([1512, 1512, 1784, 1784, 1784, 4102, 1417, 1117, 5355, 2089, 2089,\n",
       "       2089, 7304, 7304, 7304, 7304, 1065, 1065, 1065, 8088])"
      ]
     },
     "execution_count": 32,
     "metadata": {},
     "output_type": "execute_result"
    }
   ],
   "source": [
    "np.argmax(output_words_prob[0,0:num_steps], axis=1)"
   ]
  },
  {
   "cell_type": "markdown",
   "metadata": {
    "button": false,
    "deletable": true,
    "new_sheet": false,
    "run_control": {
     "read_only": false
    }
   },
   "source": [
    "So, what is the ground truth for the first word of first sentence? You can get it from target tensor, if you want to find the embedding vector: \n"
   ]
  },
  {
   "cell_type": "code",
   "execution_count": 33,
   "metadata": {
    "button": false,
    "deletable": true,
    "new_sheet": false,
    "run_control": {
     "read_only": false
    }
   },
   "outputs": [
    {
     "data": {
      "text/plain": [
       "array([9971, 9972, 9974, 9975, 9976, 9980, 9981, 9982, 9983, 9984, 9986,\n",
       "       9987, 9988, 9989, 9991, 9992, 9993, 9994, 9995, 9996], dtype=int32)"
      ]
     },
     "execution_count": 33,
     "metadata": {},
     "output_type": "execute_result"
    }
   ],
   "source": [
    "_targets[0]"
   ]
  },
  {
   "cell_type": "markdown",
   "metadata": {
    "button": false,
    "new_sheet": false,
    "run_control": {
     "read_only": false
    }
   },
   "source": [
    "<h4>Objective function</h4>\n",
    "\n",
    "How similar the predicted words are to the target words?\n",
    "\n",
    "Now we have to define our objective function, to calculate the similarity of predicted values to ground truth, and then, penalize the model with the error. Our objective is to minimize loss function, that is, to minimize the average negative log probability of the target words:\n",
    "\n",
    "$$\\text{loss} = -\\frac{1}{N}\\sum_{i=1}^{N} \\ln p_{\\text{target}_i}$$\n",
    "\n",
    "This function is already implemented and available in TensorFlow through _tf.keras.losses.sparse_categorical_crossentropy_. It calculates the categorical cross-entropy loss for <b>logits</b> and the <b>target</b> sequence.  \n",
    "\n",
    "The arguments of this function are:  \n",
    "\n",
    "<ul>\n",
    "    <li>logits: List of 2D Tensors of shape [batch_size x num_decoder_symbols].</li>  \n",
    "    <li>targets: List of 1D batch-sized int32 Tensors of the same length as logits.</li>   \n",
    "</ul>\n"
   ]
  },
  {
   "cell_type": "code",
   "execution_count": 34,
   "metadata": {},
   "outputs": [],
   "source": [
    "def crossentropy(y_true, y_pred):\n",
    "    return tf.keras.losses.sparse_categorical_crossentropy(y_true, y_pred)"
   ]
  },
  {
   "cell_type": "code",
   "execution_count": 35,
   "metadata": {},
   "outputs": [],
   "source": [
    "loss  = crossentropy(_targets, output_words_prob)"
   ]
  },
  {
   "cell_type": "markdown",
   "metadata": {
    "button": false,
    "new_sheet": false,
    "run_control": {
     "read_only": false
    }
   },
   "source": [
    "Lets look at the first 10 values of loss:\n"
   ]
  },
  {
   "cell_type": "code",
   "execution_count": 36,
   "metadata": {},
   "outputs": [
    {
     "data": {
      "text/plain": [
       "<tf.Tensor: shape=(10,), dtype=float32, numpy=\n",
       "array([9.210277 , 9.210237 , 9.210319 , 9.21032  , 9.210233 , 9.21102  ,\n",
       "       9.210049 , 9.210835 , 9.209511 , 9.2105665], dtype=float32)>"
      ]
     },
     "execution_count": 36,
     "metadata": {},
     "output_type": "execute_result"
    }
   ],
   "source": [
    "loss[0,:10]"
   ]
  },
  {
   "cell_type": "markdown",
   "metadata": {},
   "source": [
    "Now, we define cost as average of the losses:\n"
   ]
  },
  {
   "cell_type": "code",
   "execution_count": 37,
   "metadata": {},
   "outputs": [
    {
     "data": {
      "text/plain": [
       "<tf.Tensor: shape=(), dtype=float32, numpy=184.2069>"
      ]
     },
     "execution_count": 37,
     "metadata": {},
     "output_type": "execute_result"
    }
   ],
   "source": [
    "cost = tf.reduce_sum(loss / batch_size)\n",
    "cost"
   ]
  },
  {
   "cell_type": "markdown",
   "metadata": {
    "button": false,
    "deletable": true,
    "new_sheet": false,
    "run_control": {
     "read_only": false
    }
   },
   "source": [
    "<h3>Training</h3>\n",
    "\n",
    "To do training for our network, we have to take the following steps:\n",
    "\n",
    "<ol>\n",
    "    <li>Define the optimizer.</li>\n",
    "    <li>Assemble layers to build model.</li>\n",
    "    <li>Calculate the gradients based on the loss function.</li>\n",
    "    <li>Apply the optimizer to the variables/gradients tuple.</li>\n",
    "</ol>\n"
   ]
  },
  {
   "cell_type": "markdown",
   "metadata": {
    "button": false,
    "deletable": true,
    "new_sheet": false,
    "run_control": {
     "read_only": false
    }
   },
   "source": [
    "<h4>1. Define Optimizer</h4>\n"
   ]
  },
  {
   "cell_type": "code",
   "execution_count": 38,
   "metadata": {},
   "outputs": [],
   "source": [
    "# Create a variable for the learning rate\n",
    "lr = tf.Variable(0.0, trainable=False)\n",
    "optimizer = tf.keras.optimizers.SGD(lr=lr, clipnorm=max_grad_norm)"
   ]
  },
  {
   "cell_type": "markdown",
   "metadata": {},
   "source": [
    "<h4>2. Assemble layers to build model.</h4>\n"
   ]
  },
  {
   "cell_type": "code",
   "execution_count": 39,
   "metadata": {},
   "outputs": [
    {
     "name": "stdout",
     "output_type": "stream",
     "text": [
      "Model: \"sequential\"\n",
      "_________________________________________________________________\n",
      "Layer (type)                 Output Shape              Param #   \n",
      "=================================================================\n",
      "embedding_vocab (Embedding)  (30, 20, 200)             2000000   \n",
      "_________________________________________________________________\n",
      "rnn (RNN)                    (30, 20, 128)             671088    \n",
      "_________________________________________________________________\n",
      "dense (Dense)                (30, 20, 10000)           1290000   \n",
      "_________________________________________________________________\n",
      "activation (Activation)      (30, 20, 10000)           0         \n",
      "=================================================================\n",
      "Total params: 3,961,088\n",
      "Trainable params: 3,955,088\n",
      "Non-trainable params: 6,000\n",
      "_________________________________________________________________\n"
     ]
    }
   ],
   "source": [
    "model = tf.keras.Sequential()\n",
    "model.add(embedding_layer)\n",
    "model.add(layer)\n",
    "model.add(dense)\n",
    "model.add(activation)\n",
    "model.compile(loss=crossentropy, optimizer=optimizer)\n",
    "model.summary()"
   ]
  },
  {
   "cell_type": "markdown",
   "metadata": {
    "button": false,
    "new_sheet": false,
    "run_control": {
     "read_only": false
    }
   },
   "source": [
    "<h4>2. Trainable Variables</h4>\n"
   ]
  },
  {
   "cell_type": "markdown",
   "metadata": {
    "button": false,
    "new_sheet": false,
    "run_control": {
     "read_only": false
    }
   },
   "source": [
    "Defining a variable, if you passed <i>trainable=True</i>, the variable constructor automatically adds new variables to the graph collection <b>GraphKeys.TRAINABLE_VARIABLES</b>. Now, using <i>tf.trainable_variables()</i> you can get all variables created with <b>trainable=True</b>.\n"
   ]
  },
  {
   "cell_type": "code",
   "execution_count": 40,
   "metadata": {
    "button": false,
    "new_sheet": false,
    "run_control": {
     "read_only": false
    }
   },
   "outputs": [],
   "source": [
    "# Get all TensorFlow variables marked as \"trainable\" (i.e. all of them except _lr, which we just created)\n",
    "tvars = model.trainable_variables"
   ]
  },
  {
   "cell_type": "markdown",
   "metadata": {
    "button": false,
    "new_sheet": false,
    "run_control": {
     "read_only": false
    }
   },
   "source": [
    "Note: we can find the name and scope of all variables:\n"
   ]
  },
  {
   "cell_type": "code",
   "execution_count": 41,
   "metadata": {
    "button": false,
    "new_sheet": false,
    "run_control": {
     "read_only": false
    }
   },
   "outputs": [
    {
     "data": {
      "text/plain": [
       "['embedding_vocab/embeddings:0',\n",
       " 'rnn/stacked_rnn_cells/lstm_cell/kernel:0',\n",
       " 'rnn/stacked_rnn_cells/lstm_cell/recurrent_kernel:0',\n",
       " 'rnn/stacked_rnn_cells/lstm_cell/bias:0',\n",
       " 'rnn/stacked_rnn_cells/lstm_cell_1/kernel:0',\n",
       " 'rnn/stacked_rnn_cells/lstm_cell_1/recurrent_kernel:0',\n",
       " 'rnn/stacked_rnn_cells/lstm_cell_1/bias:0',\n",
       " 'dense/kernel:0',\n",
       " 'dense/bias:0']"
      ]
     },
     "execution_count": 41,
     "metadata": {},
     "output_type": "execute_result"
    }
   ],
   "source": [
    "[v.name for v in tvars] "
   ]
  },
  {
   "cell_type": "markdown",
   "metadata": {
    "button": false,
    "new_sheet": false,
    "run_control": {
     "read_only": false
    }
   },
   "source": [
    "<h4>3. Calculate the gradients based on the loss function</h4>\n"
   ]
  },
  {
   "cell_type": "markdown",
   "metadata": {
    "button": false,
    "deletable": true,
    "new_sheet": false,
    "run_control": {
     "read_only": false
    }
   },
   "source": [
    "**Gradient**: The gradient of a function is the slope of its derivative (line), or in other words, the rate of change of a function. It's a vector (a direction to move) that points in the direction of greatest increase of the function, and calculated by the <b>derivative</b> operation.\n"
   ]
  },
  {
   "cell_type": "markdown",
   "metadata": {},
   "source": [
    "First lets recall the gradient function using an toy example:\n",
    "$$ z = \\left(2x^2 + 3xy\\right)$$\n"
   ]
  },
  {
   "cell_type": "code",
   "execution_count": 42,
   "metadata": {},
   "outputs": [],
   "source": [
    "x = tf.constant(1.0)\n",
    "y =  tf.constant(2.0)\n",
    "with tf.GradientTape(persistent=True) as g:\n",
    "    g.watch(x)\n",
    "    g.watch(y)\n",
    "    func_test = 2 * x * x + 3 * x * y"
   ]
  },
  {
   "cell_type": "markdown",
   "metadata": {},
   "source": [
    "The <b>tf.gradients()</b> function allows you to compute the symbolic gradient of one tensor with respect to one or more other tensors—including variables. <b>tf.gradients(func, xs)</b> constructs symbolic partial derivatives of sum of <b>func</b> w.r.t. <i>x</i> in <b>xs</b>. \n",
    "\n",
    "Now, lets look at the derivitive w.r.t. <b>var_x</b>:\n",
    "$$ \\frac{\\partial \\:}{\\partial \\:x}\\left(2x^2 + 3xy\\right) = 4x + 3y $$\n"
   ]
  },
  {
   "cell_type": "code",
   "execution_count": 43,
   "metadata": {},
   "outputs": [
    {
     "name": "stdout",
     "output_type": "stream",
     "text": [
      "tf.Tensor(10.0, shape=(), dtype=float32)\n"
     ]
    }
   ],
   "source": [
    "var_grad = g.gradient(func_test, x) # Will compute to 10.0\n",
    "print(var_grad)"
   ]
  },
  {
   "cell_type": "markdown",
   "metadata": {},
   "source": [
    "the derivative w.r.t. <b>var_y</b>:\n",
    "$$ \\frac{\\partial \\:}{\\partial \\:y}\\left(2x^2 + 3xy\\right) = 3x $$\n"
   ]
  },
  {
   "cell_type": "code",
   "execution_count": 44,
   "metadata": {},
   "outputs": [
    {
     "name": "stdout",
     "output_type": "stream",
     "text": [
      "tf.Tensor(3.0, shape=(), dtype=float32)\n"
     ]
    }
   ],
   "source": [
    "var_grad = g.gradient(func_test, y) # Will compute to 3.0\n",
    "print(var_grad)"
   ]
  },
  {
   "cell_type": "markdown",
   "metadata": {},
   "source": [
    "Now, we can look at gradients w.r.t all variables:\n"
   ]
  },
  {
   "cell_type": "code",
   "execution_count": 45,
   "metadata": {},
   "outputs": [],
   "source": [
    "with tf.GradientTape() as tape:\n",
    "    # Forward pass.\n",
    "    output_words_prob = model(_input_data)\n",
    "    # Loss value for this batch.\n",
    "    loss  = crossentropy(_targets, output_words_prob)\n",
    "    cost = tf.reduce_sum(loss,axis=0) / batch_size"
   ]
  },
  {
   "cell_type": "code",
   "execution_count": 46,
   "metadata": {},
   "outputs": [],
   "source": [
    "# Get gradients of loss wrt the trainable variables.\n",
    "grad_t_list = tape.gradient(cost, tvars)"
   ]
  },
  {
   "cell_type": "code",
   "execution_count": 47,
   "metadata": {},
   "outputs": [
    {
     "name": "stdout",
     "output_type": "stream",
     "text": [
      "[<tensorflow.python.framework.indexed_slices.IndexedSlices object at 0x7f9ff5e1ddd8>, <tf.Tensor: shape=(200, 1024), dtype=float32, numpy=\n",
      "array([[ 1.96781428e-07, -4.02285650e-07, -1.73162817e-08, ...,\n",
      "         3.61624529e-07, -2.07123037e-07,  1.68175703e-07],\n",
      "       [-9.86017312e-08,  1.57904623e-08,  8.12723613e-08, ...,\n",
      "        -5.75497040e-07, -7.88085970e-08, -1.88942408e-08],\n",
      "       [ 6.06524907e-07, -6.41055067e-07,  4.55881690e-07, ...,\n",
      "        -2.74820650e-07,  2.36336959e-08, -2.47582292e-08],\n",
      "       ...,\n",
      "       [ 3.99810460e-08,  7.14221244e-07, -3.79298967e-07, ...,\n",
      "         3.67319153e-08, -4.85284090e-07,  4.99681960e-07],\n",
      "       [-1.10649943e-07,  2.76211722e-07,  3.65556957e-07, ...,\n",
      "        -2.70802730e-07, -1.75027424e-08,  3.41764064e-07],\n",
      "       [-1.27137810e-07, -1.05978465e-07, -3.22406947e-07, ...,\n",
      "        -3.89916977e-07,  6.39334473e-07,  3.04348362e-07]], dtype=float32)>, <tf.Tensor: shape=(256, 1024), dtype=float32, numpy=\n",
      "array([[ 1.8068522e-07, -7.8597012e-08, -4.9741118e-09, ...,\n",
      "         9.3946795e-08, -1.0986710e-08, -5.9117202e-08],\n",
      "       [ 9.1091721e-08,  6.6480510e-08,  7.8505209e-08, ...,\n",
      "         2.6247559e-08, -8.8779899e-08,  4.0157865e-08],\n",
      "       [-9.1842622e-08,  1.3912199e-07, -7.1634943e-08, ...,\n",
      "        -5.3190870e-08, -1.4761482e-08, -3.4428282e-08],\n",
      "       ...,\n",
      "       [ 3.4071284e-08, -9.5875791e-08, -2.5602994e-08, ...,\n",
      "        -8.7594252e-08, -1.3263718e-07,  8.3729439e-08],\n",
      "       [ 3.9611692e-10, -1.3102922e-07,  8.8510120e-08, ...,\n",
      "        -1.6075215e-07,  3.6617595e-07, -4.8206090e-08],\n",
      "       [ 1.7905882e-07,  1.8352850e-08, -4.1047699e-09, ...,\n",
      "         2.1318681e-07, -6.2352214e-08, -2.0777333e-07]], dtype=float32)>, <tf.Tensor: shape=(1024,), dtype=float32, numpy=\n",
      "array([ 8.6144128e-06, -3.3911383e-05, -2.5679146e-06, ...,\n",
      "        2.9998602e-05,  2.8336650e-05, -2.4594760e-07], dtype=float32)>, <tf.Tensor: shape=(256, 512), dtype=float32, numpy=\n",
      "array([[ 3.7066606e-08,  2.8530880e-07, -1.4810422e-07, ...,\n",
      "        -1.0775170e-07,  2.9045651e-08, -1.6902540e-07],\n",
      "       [ 1.6554685e-07, -4.9531224e-08, -1.1514631e-07, ...,\n",
      "        -1.8146994e-07, -1.4709954e-08, -1.6256175e-07],\n",
      "       [-2.2961956e-07, -8.7467456e-09, -5.8009128e-08, ...,\n",
      "         1.2351691e-07,  1.2712580e-07, -3.6675498e-08],\n",
      "       ...,\n",
      "       [-9.5307442e-09, -8.0343476e-08, -1.2981140e-07, ...,\n",
      "        -9.6978326e-08,  5.5195812e-08, -1.0145199e-07],\n",
      "       [ 2.4788113e-07,  2.2788655e-07, -3.5611599e-08, ...,\n",
      "         1.3292645e-08,  2.1146896e-08, -9.2170197e-08],\n",
      "       [-2.0998467e-08,  1.6806943e-07, -2.7164282e-07, ...,\n",
      "        -3.7103612e-07,  9.3430266e-08, -1.2531811e-07]], dtype=float32)>, <tf.Tensor: shape=(128, 512), dtype=float32, numpy=\n",
      "array([[ 1.20595260e-07,  1.36902585e-07, -1.15842376e-07, ...,\n",
      "         2.90952968e-08,  3.37674550e-07,  9.07828550e-08],\n",
      "       [-5.15287795e-08,  1.57753107e-07, -1.13815737e-07, ...,\n",
      "         1.64013159e-09,  1.34551655e-07,  9.15843827e-08],\n",
      "       [-4.98920869e-08, -3.44170559e-09,  2.77076907e-07, ...,\n",
      "         2.59202082e-09,  1.46124641e-08,  8.30717966e-08],\n",
      "       ...,\n",
      "       [-6.40742712e-08,  9.28744228e-08,  1.08732223e-07, ...,\n",
      "        -1.04041732e-07,  3.17166666e-08, -2.64080207e-08],\n",
      "       [-1.23110880e-07, -1.00550587e-07,  4.17345518e-08, ...,\n",
      "         8.58692815e-08, -2.39511962e-07,  7.98347770e-08],\n",
      "       [ 4.99897226e-08,  7.21521616e-08, -4.38230146e-08, ...,\n",
      "         8.16360846e-09, -7.48789972e-08,  2.37904239e-08]], dtype=float32)>, <tf.Tensor: shape=(512,), dtype=float32, numpy=\n",
      "array([-3.12805896e-05, -2.08779729e-05, -1.79852532e-06, -7.84260101e-06,\n",
      "        1.56339356e-05,  1.81533396e-05, -2.02926967e-05,  4.01914622e-05,\n",
      "        7.79021411e-06,  5.91363132e-05,  3.15206489e-05,  3.00896445e-05,\n",
      "       -6.11713185e-05,  4.28380827e-06, -3.23207041e-06, -6.00298381e-06,\n",
      "        2.16995468e-05, -8.66948540e-06,  1.91413728e-05, -2.03317686e-05,\n",
      "        2.14134798e-05,  7.04735867e-05,  6.36825644e-05,  2.25699132e-05,\n",
      "       -4.06413637e-05, -4.22411358e-05, -1.65905021e-05, -2.00121485e-06,\n",
      "       -1.28528709e-05,  1.40350458e-05, -2.44847542e-05, -3.76598473e-06,\n",
      "        2.53196540e-05,  1.04051782e-04,  6.87047304e-07,  3.01041946e-05,\n",
      "       -7.12943438e-06, -4.26528004e-06, -3.17551094e-05, -1.11068875e-05,\n",
      "       -4.14772876e-05, -3.33372373e-06, -1.64405501e-05,  4.58630384e-05,\n",
      "        2.56843268e-05,  8.42782265e-06, -8.71015654e-05, -3.12190277e-05,\n",
      "        4.01195102e-05, -8.52252924e-05, -3.44810996e-06, -9.21627588e-07,\n",
      "       -2.09855825e-05, -4.26127735e-05,  4.99709058e-05,  1.60729505e-05,\n",
      "        5.66221133e-05, -1.24517683e-05, -2.71923636e-06,  7.67739948e-06,\n",
      "       -8.43647558e-06,  2.11125080e-05, -3.45388107e-05, -3.88357148e-05,\n",
      "       -1.18925018e-05,  5.99862369e-06, -2.98156447e-05,  5.46774172e-05,\n",
      "       -4.70047671e-05,  7.12547480e-05, -2.43752238e-05, -4.11443834e-05,\n",
      "        3.75019517e-05,  1.18341632e-06, -4.23810052e-05,  5.60198168e-06,\n",
      "        1.54694098e-05, -5.10835025e-06,  1.20743443e-05,  9.78850221e-06,\n",
      "        1.20992290e-05,  4.13220005e-05, -2.65722383e-06,  1.93327287e-06,\n",
      "        7.30065904e-06,  6.79237382e-06, -5.69398026e-06,  1.11233212e-05,\n",
      "        1.11382460e-05,  2.73704136e-05, -5.32938320e-05,  2.02357387e-06,\n",
      "        3.26085865e-06,  5.08841949e-05,  5.78731579e-06,  1.86767975e-05,\n",
      "        3.72859722e-05,  5.10182435e-05,  2.27462006e-05, -5.96931386e-07,\n",
      "       -4.13294365e-05,  2.19458598e-05,  1.81385149e-05,  3.15491015e-05,\n",
      "       -3.89561792e-05,  2.24745236e-05, -3.46377892e-05,  1.49055750e-05,\n",
      "       -4.92084382e-07,  1.48772597e-06,  1.08479981e-06,  4.35362927e-06,\n",
      "       -4.32652087e-05, -2.03591262e-05,  2.00344693e-05,  1.93922115e-05,\n",
      "       -3.41523846e-05,  1.13076494e-05, -6.54706810e-06, -4.23496931e-06,\n",
      "       -7.52799042e-06, -2.33221108e-05,  3.81074569e-05, -6.38776874e-06,\n",
      "        4.76381501e-07,  1.23559948e-06, -7.99305199e-05, -2.55280029e-05,\n",
      "       -1.68411279e-05, -9.63826642e-06, -1.09053826e-05, -2.40067384e-05,\n",
      "        1.66553255e-05,  4.64663244e-05, -4.64458717e-05,  5.92280558e-05,\n",
      "        2.70508390e-05,  8.12531362e-05,  3.48471367e-05,  4.76678542e-05,\n",
      "       -3.58067628e-05, -1.14489330e-05,  1.07696787e-05, -2.01676157e-05,\n",
      "        2.22265426e-05, -1.38525756e-05,  2.88727570e-05, -3.26034115e-06,\n",
      "        2.60420129e-05,  8.65179172e-05,  6.85418636e-05,  4.02878395e-05,\n",
      "       -4.80886192e-05, -6.59418874e-05, -2.00135091e-05,  7.76196339e-06,\n",
      "       -1.45321501e-05,  2.48530559e-05, -4.91435712e-05, -1.73705357e-05,\n",
      "        2.80551831e-08,  1.38339266e-04, -1.22236615e-05,  3.91349604e-05,\n",
      "       -1.25217957e-05,  1.53534274e-05, -3.36539815e-05,  3.47009518e-06,\n",
      "       -5.80497508e-05,  1.51392214e-05, -2.59382614e-05,  6.29455608e-05,\n",
      "        3.49871552e-05, -1.10317915e-05, -1.35839873e-04, -4.39369105e-05,\n",
      "        4.79997943e-05, -1.06028077e-04, -1.50400465e-05, -6.66058122e-06,\n",
      "       -3.01755590e-05, -7.53482163e-05,  8.44204915e-05,  4.51813776e-06,\n",
      "        6.20762294e-05, -1.36942963e-05, -3.82448670e-05,  2.01931744e-05,\n",
      "        1.16434567e-05,  4.25343460e-05, -4.15433096e-05, -4.33641908e-05,\n",
      "       -1.66051359e-05,  5.61860861e-06, -1.46599450e-05,  7.88296020e-05,\n",
      "       -6.23586602e-05,  8.03736839e-05, -8.73401223e-06, -2.85385122e-05,\n",
      "        4.97693109e-05, -1.20659697e-05, -3.86656029e-05,  1.88183258e-05,\n",
      "        4.17266128e-05,  5.37555934e-06,  2.52301052e-05,  5.53889186e-06,\n",
      "        1.95090943e-05,  8.01424540e-05, -2.19685280e-05, -4.47359271e-05,\n",
      "        2.13628009e-05,  1.18691514e-05, -2.85551087e-05,  1.61577991e-05,\n",
      "        2.05361284e-05,  2.87211806e-05, -8.54067039e-05,  2.11329952e-05,\n",
      "        7.10254335e-06,  6.01825814e-05,  3.14348063e-06,  3.06685579e-05,\n",
      "        5.98664992e-05,  5.56763007e-05,  2.65131494e-05, -1.82331278e-05,\n",
      "       -5.51286139e-05, -3.47354289e-05,  5.08199300e-05,  5.34019055e-05,\n",
      "       -5.38713139e-05,  4.95928980e-05, -3.90039313e-05,  1.98026464e-05,\n",
      "       -6.23293545e-06,  2.36196865e-05, -3.92395341e-05,  5.11896633e-06,\n",
      "       -5.75320664e-05, -3.52542384e-06,  4.46919221e-05, -1.00389479e-06,\n",
      "       -3.27837406e-05, -9.72685211e-06, -2.60630804e-05, -4.31633453e-07,\n",
      "        1.17390546e-05, -2.33437859e-05,  5.85907910e-05, -6.90216984e-06,\n",
      "        1.38744244e-05,  5.88149214e-06, -9.89936525e-05, -2.38485591e-05,\n",
      "        1.03832139e-02,  7.22420448e-03,  1.94859672e-02,  1.03018535e-02,\n",
      "        1.40680298e-02,  3.41737010e-02, -4.47413772e-02,  4.32818346e-02,\n",
      "       -1.08526526e-02,  4.36681183e-03, -4.60232887e-03, -4.49181423e-02,\n",
      "        1.87199493e-03, -1.04637463e-02, -2.38040090e-02,  5.81739023e-02,\n",
      "        4.18121070e-02,  5.08834608e-02,  8.02579243e-03, -9.43001546e-03,\n",
      "       -2.82202456e-02,  5.11493608e-02, -2.63541471e-02, -1.26144262e-02,\n",
      "        1.92667134e-02,  7.43681937e-02,  4.15189229e-02,  3.13659981e-02,\n",
      "       -1.24647096e-02, -4.61293804e-03,  2.30374951e-02,  1.47214141e-02,\n",
      "        6.84374757e-03,  5.62400185e-02, -9.20446217e-03,  1.04920473e-02,\n",
      "        1.95821486e-02,  1.07573941e-02, -1.24950707e-02, -4.47364291e-03,\n",
      "        3.23085338e-02,  3.98671404e-02, -2.45260783e-02,  1.02603361e-02,\n",
      "       -1.76730771e-02, -2.78056264e-02, -4.52114642e-02, -1.55439824e-02,\n",
      "        1.81391323e-03, -7.52125084e-02,  6.19855300e-02,  7.02546304e-03,\n",
      "        2.59368215e-02, -4.85819159e-03, -1.81853697e-02, -2.97130477e-02,\n",
      "        2.58807540e-02, -1.48603693e-03, -8.53605755e-03, -1.67817827e-02,\n",
      "        5.77119086e-03,  5.24521945e-03,  2.08669547e-02,  4.24394384e-03,\n",
      "        2.61581391e-02,  1.72143914e-02,  1.81538630e-02,  3.99949774e-02,\n",
      "        3.37495767e-02, -5.16380891e-02, -7.98701309e-04,  2.08255425e-02,\n",
      "        4.33437079e-02, -1.78770199e-02, -2.69566718e-02,  1.17967911e-02,\n",
      "       -2.27393378e-02, -2.49361899e-02, -1.43395504e-02,  2.02512126e-02,\n",
      "        6.39197305e-02, -4.00897786e-02, -2.67100930e-02,  2.77535878e-02,\n",
      "       -1.90367047e-02,  2.75667850e-02,  1.47575447e-02,  3.38191167e-02,\n",
      "        1.75850466e-02, -2.19604634e-02,  3.91743705e-02, -1.01095671e-03,\n",
      "        7.42673734e-03,  1.19125294e-02, -6.48270780e-03,  2.17578886e-03,\n",
      "        3.70078236e-02,  2.39631459e-02,  1.31579665e-02,  6.76633208e-04,\n",
      "       -3.40719409e-02, -2.22820118e-02,  1.31718330e-02, -2.02554986e-02,\n",
      "        1.09682903e-02, -3.21150720e-02,  1.05188927e-02,  3.90720442e-02,\n",
      "       -4.48831394e-02, -4.13293913e-02,  3.28914635e-02, -5.55845210e-03,\n",
      "       -2.98235305e-02, -4.37411759e-03, -1.99780650e-02,  3.49612348e-02,\n",
      "       -2.73174141e-02, -7.76370382e-03,  5.00212796e-03,  3.82833183e-02,\n",
      "        1.25024272e-02,  2.52953321e-02,  2.94322688e-02,  1.18372003e-02,\n",
      "        3.98057653e-03,  1.34978527e-02, -1.62137337e-02, -2.66849948e-03,\n",
      "       -3.26799709e-05, -2.09430909e-05, -3.38053724e-06, -7.70929000e-06,\n",
      "        1.89728617e-05,  2.33929059e-05, -2.04741154e-05,  4.57466667e-05,\n",
      "        4.25782991e-06,  6.74955882e-05,  2.06627701e-05,  3.21534171e-05,\n",
      "       -5.55883016e-05, -3.33123444e-06, -5.97492135e-06, -5.02534385e-06,\n",
      "        2.21070950e-05, -1.16102447e-05,  2.28734298e-05, -1.11220488e-05,\n",
      "        3.34487086e-05,  8.81006126e-05,  7.29606400e-05,  2.77159015e-05,\n",
      "       -5.69018084e-05, -5.44599752e-05, -6.98503754e-06,  9.05689558e-06,\n",
      "       -1.15353978e-05,  1.59668671e-05, -3.35062032e-05, -1.59799547e-05,\n",
      "        2.62861649e-05,  1.14834133e-04,  9.58777491e-06,  3.13996643e-05,\n",
      "       -1.61223979e-05, -7.60510557e-06, -2.32341808e-05, -1.55119978e-05,\n",
      "       -4.91780811e-05, -9.31735303e-06, -1.39653757e-05,  5.02376497e-05,\n",
      "        2.22775761e-05,  8.84197289e-06, -8.69597570e-05, -3.39497492e-05,\n",
      "        4.46596823e-05, -1.02662627e-04,  5.18683646e-06, -3.93469008e-06,\n",
      "       -2.24342020e-05, -4.92315412e-05,  4.85856071e-05,  1.43449415e-05,\n",
      "        6.14975870e-05, -1.59423962e-05, -4.36904111e-06,  8.69102041e-06,\n",
      "        3.37648498e-06,  1.53645960e-05, -3.80350102e-05, -4.64828918e-05,\n",
      "       -9.83768950e-06,  9.90270291e-06, -2.73612186e-05,  5.85881280e-05,\n",
      "       -4.97179790e-05,  7.83792639e-05, -2.26591874e-05, -4.87912585e-05,\n",
      "        3.41984014e-05,  9.58183136e-07, -4.56684793e-05,  1.06187490e-05,\n",
      "        1.66385580e-05, -7.37212304e-06,  1.82994954e-05,  3.81406380e-06,\n",
      "        1.68716851e-05,  5.38761669e-05, -3.06213747e-06,  8.16502961e-06,\n",
      "        1.04152550e-05,  1.01456499e-06, -1.02882987e-05,  1.12855814e-05,\n",
      "        1.91063627e-05,  2.49183322e-05, -5.14245330e-05, -7.47109243e-06,\n",
      "        8.33691229e-06,  6.73732284e-05,  6.77411936e-06,  1.88848044e-05,\n",
      "        4.38968709e-05,  5.65104274e-05,  2.11973456e-05, -3.41068608e-06,\n",
      "       -4.40792428e-05,  1.61907992e-05,  2.47015450e-05,  3.59035475e-05,\n",
      "       -3.32671443e-05,  1.99584192e-05, -4.40366421e-05,  1.49867383e-05,\n",
      "        5.76479215e-06,  9.10617382e-06, -8.70425993e-06,  6.24854601e-06,\n",
      "       -4.09958811e-05, -3.27671150e-05,  2.34923264e-05,  2.12466075e-05,\n",
      "       -3.98353586e-05,  9.88331340e-06, -1.37907446e-05, -5.53232621e-06,\n",
      "       -4.47891989e-06, -2.18878558e-05,  3.31295123e-05, -1.35591381e-06,\n",
      "       -1.03319780e-06, -2.67317773e-06, -8.46699913e-05, -2.52838945e-05],\n",
      "      dtype=float32)>, <tf.Tensor: shape=(128, 10000), dtype=float32, numpy=\n",
      "array([[ 2.4614108e-03,  4.2716498e-03,  3.6889571e-03, ...,\n",
      "        -6.1620849e-06, -6.1624687e-06, -6.1618894e-06],\n",
      "       [ 2.6294435e-03,  3.6248865e-03,  3.2799705e-03, ...,\n",
      "        -4.9354785e-06, -4.9337505e-06, -4.9394339e-06],\n",
      "       [-2.6298244e-04,  2.9672540e-04, -2.9506677e-04, ...,\n",
      "        -3.3548906e-07, -3.3772417e-07, -3.3579033e-07],\n",
      "       ...,\n",
      "       [-2.4766632e-06,  3.1139172e-04,  8.5448002e-05, ...,\n",
      "        -4.3886456e-07, -4.3895463e-07, -4.4095196e-07],\n",
      "       [-9.3739096e-04, -1.0919767e-03, -1.9444257e-03, ...,\n",
      "         1.7217767e-06,  1.7217781e-06,  1.7214392e-06],\n",
      "       [ 1.2160378e-04, -8.5297658e-04, -5.1856088e-04, ...,\n",
      "         8.0485074e-07,  8.0378089e-07,  8.0329545e-07]], dtype=float32)>, <tf.Tensor: shape=(10000,), dtype=float32, numpy=\n",
      "array([-0.797998  , -1.0313318 , -1.0313317 , ...,  0.00199976,\n",
      "        0.00200023,  0.00200046], dtype=float32)>]\n"
     ]
    }
   ],
   "source": [
    "print(grad_t_list)"
   ]
  },
  {
   "cell_type": "markdown",
   "metadata": {
    "button": false,
    "new_sheet": false,
    "run_control": {
     "read_only": false
    }
   },
   "source": [
    "now, we have a list of tensors, t-list. We can use it to find clipped tensors. <b>clip_by_global_norm</b> clips values of multiple tensors by the ratio of the sum of their norms.\n",
    "\n",
    "<b>clip_by_global_norm</b> get <i>t-list</i> as input and returns 2 things:\n",
    "\n",
    "<ul>\n",
    "    <li>a list of clipped tensors, so called <i>list_clipped</i></li> \n",
    "    <li>the global norm (global_norm) of all tensors in t_list</li> \n",
    "</ul>\n"
   ]
  },
  {
   "cell_type": "code",
   "execution_count": 48,
   "metadata": {},
   "outputs": [
    {
     "data": {
      "text/plain": [
       "[<tensorflow.python.framework.indexed_slices.IndexedSlices at 0x7fa1091e22e8>,\n",
       " <tf.Tensor: shape=(200, 1024), dtype=float32, numpy=\n",
       " array([[ 1.96781428e-07, -4.02285650e-07, -1.73162817e-08, ...,\n",
       "          3.61624529e-07, -2.07123037e-07,  1.68175703e-07],\n",
       "        [-9.86017312e-08,  1.57904623e-08,  8.12723613e-08, ...,\n",
       "         -5.75497040e-07, -7.88085970e-08, -1.88942408e-08],\n",
       "        [ 6.06524907e-07, -6.41055067e-07,  4.55881690e-07, ...,\n",
       "         -2.74820650e-07,  2.36336959e-08, -2.47582292e-08],\n",
       "        ...,\n",
       "        [ 3.99810460e-08,  7.14221244e-07, -3.79298967e-07, ...,\n",
       "          3.67319153e-08, -4.85284090e-07,  4.99681960e-07],\n",
       "        [-1.10649943e-07,  2.76211722e-07,  3.65556957e-07, ...,\n",
       "         -2.70802730e-07, -1.75027424e-08,  3.41764064e-07],\n",
       "        [-1.27137810e-07, -1.05978465e-07, -3.22406947e-07, ...,\n",
       "         -3.89916977e-07,  6.39334473e-07,  3.04348362e-07]], dtype=float32)>,\n",
       " <tf.Tensor: shape=(256, 1024), dtype=float32, numpy=\n",
       " array([[ 1.8068522e-07, -7.8597012e-08, -4.9741118e-09, ...,\n",
       "          9.3946795e-08, -1.0986710e-08, -5.9117202e-08],\n",
       "        [ 9.1091721e-08,  6.6480510e-08,  7.8505209e-08, ...,\n",
       "          2.6247559e-08, -8.8779899e-08,  4.0157865e-08],\n",
       "        [-9.1842622e-08,  1.3912199e-07, -7.1634943e-08, ...,\n",
       "         -5.3190870e-08, -1.4761482e-08, -3.4428282e-08],\n",
       "        ...,\n",
       "        [ 3.4071284e-08, -9.5875791e-08, -2.5602994e-08, ...,\n",
       "         -8.7594252e-08, -1.3263718e-07,  8.3729439e-08],\n",
       "        [ 3.9611692e-10, -1.3102922e-07,  8.8510120e-08, ...,\n",
       "         -1.6075215e-07,  3.6617595e-07, -4.8206090e-08],\n",
       "        [ 1.7905882e-07,  1.8352850e-08, -4.1047699e-09, ...,\n",
       "          2.1318681e-07, -6.2352214e-08, -2.0777333e-07]], dtype=float32)>,\n",
       " <tf.Tensor: shape=(1024,), dtype=float32, numpy=\n",
       " array([ 8.6144128e-06, -3.3911383e-05, -2.5679146e-06, ...,\n",
       "         2.9998602e-05,  2.8336650e-05, -2.4594760e-07], dtype=float32)>,\n",
       " <tf.Tensor: shape=(256, 512), dtype=float32, numpy=\n",
       " array([[ 3.7066606e-08,  2.8530880e-07, -1.4810422e-07, ...,\n",
       "         -1.0775170e-07,  2.9045651e-08, -1.6902540e-07],\n",
       "        [ 1.6554685e-07, -4.9531224e-08, -1.1514631e-07, ...,\n",
       "         -1.8146994e-07, -1.4709954e-08, -1.6256175e-07],\n",
       "        [-2.2961956e-07, -8.7467456e-09, -5.8009128e-08, ...,\n",
       "          1.2351691e-07,  1.2712580e-07, -3.6675498e-08],\n",
       "        ...,\n",
       "        [-9.5307442e-09, -8.0343476e-08, -1.2981140e-07, ...,\n",
       "         -9.6978326e-08,  5.5195812e-08, -1.0145199e-07],\n",
       "        [ 2.4788113e-07,  2.2788655e-07, -3.5611599e-08, ...,\n",
       "          1.3292645e-08,  2.1146896e-08, -9.2170197e-08],\n",
       "        [-2.0998467e-08,  1.6806943e-07, -2.7164282e-07, ...,\n",
       "         -3.7103612e-07,  9.3430266e-08, -1.2531811e-07]], dtype=float32)>,\n",
       " <tf.Tensor: shape=(128, 512), dtype=float32, numpy=\n",
       " array([[ 1.20595260e-07,  1.36902585e-07, -1.15842376e-07, ...,\n",
       "          2.90952968e-08,  3.37674550e-07,  9.07828550e-08],\n",
       "        [-5.15287795e-08,  1.57753107e-07, -1.13815737e-07, ...,\n",
       "          1.64013159e-09,  1.34551655e-07,  9.15843827e-08],\n",
       "        [-4.98920869e-08, -3.44170559e-09,  2.77076907e-07, ...,\n",
       "          2.59202082e-09,  1.46124641e-08,  8.30717966e-08],\n",
       "        ...,\n",
       "        [-6.40742712e-08,  9.28744228e-08,  1.08732223e-07, ...,\n",
       "         -1.04041732e-07,  3.17166666e-08, -2.64080207e-08],\n",
       "        [-1.23110880e-07, -1.00550587e-07,  4.17345518e-08, ...,\n",
       "          8.58692815e-08, -2.39511962e-07,  7.98347770e-08],\n",
       "        [ 4.99897226e-08,  7.21521616e-08, -4.38230146e-08, ...,\n",
       "          8.16360846e-09, -7.48789972e-08,  2.37904239e-08]], dtype=float32)>,\n",
       " <tf.Tensor: shape=(512,), dtype=float32, numpy=\n",
       " array([-3.12805896e-05, -2.08779729e-05, -1.79852532e-06, -7.84260101e-06,\n",
       "         1.56339356e-05,  1.81533396e-05, -2.02926967e-05,  4.01914622e-05,\n",
       "         7.79021411e-06,  5.91363132e-05,  3.15206489e-05,  3.00896445e-05,\n",
       "        -6.11713185e-05,  4.28380827e-06, -3.23207041e-06, -6.00298381e-06,\n",
       "         2.16995468e-05, -8.66948540e-06,  1.91413728e-05, -2.03317686e-05,\n",
       "         2.14134798e-05,  7.04735867e-05,  6.36825644e-05,  2.25699132e-05,\n",
       "        -4.06413637e-05, -4.22411358e-05, -1.65905021e-05, -2.00121485e-06,\n",
       "        -1.28528709e-05,  1.40350458e-05, -2.44847542e-05, -3.76598473e-06,\n",
       "         2.53196540e-05,  1.04051782e-04,  6.87047304e-07,  3.01041946e-05,\n",
       "        -7.12943438e-06, -4.26528004e-06, -3.17551094e-05, -1.11068875e-05,\n",
       "        -4.14772876e-05, -3.33372373e-06, -1.64405501e-05,  4.58630384e-05,\n",
       "         2.56843268e-05,  8.42782265e-06, -8.71015654e-05, -3.12190277e-05,\n",
       "         4.01195102e-05, -8.52252924e-05, -3.44810996e-06, -9.21627588e-07,\n",
       "        -2.09855825e-05, -4.26127735e-05,  4.99709058e-05,  1.60729505e-05,\n",
       "         5.66221133e-05, -1.24517683e-05, -2.71923636e-06,  7.67739948e-06,\n",
       "        -8.43647558e-06,  2.11125080e-05, -3.45388107e-05, -3.88357148e-05,\n",
       "        -1.18925018e-05,  5.99862369e-06, -2.98156447e-05,  5.46774172e-05,\n",
       "        -4.70047671e-05,  7.12547480e-05, -2.43752238e-05, -4.11443834e-05,\n",
       "         3.75019517e-05,  1.18341632e-06, -4.23810052e-05,  5.60198168e-06,\n",
       "         1.54694098e-05, -5.10835025e-06,  1.20743443e-05,  9.78850221e-06,\n",
       "         1.20992290e-05,  4.13220005e-05, -2.65722383e-06,  1.93327287e-06,\n",
       "         7.30065904e-06,  6.79237382e-06, -5.69398026e-06,  1.11233212e-05,\n",
       "         1.11382460e-05,  2.73704136e-05, -5.32938320e-05,  2.02357387e-06,\n",
       "         3.26085865e-06,  5.08841949e-05,  5.78731579e-06,  1.86767975e-05,\n",
       "         3.72859722e-05,  5.10182435e-05,  2.27462006e-05, -5.96931386e-07,\n",
       "        -4.13294365e-05,  2.19458598e-05,  1.81385149e-05,  3.15491015e-05,\n",
       "        -3.89561792e-05,  2.24745236e-05, -3.46377892e-05,  1.49055750e-05,\n",
       "        -4.92084382e-07,  1.48772597e-06,  1.08479981e-06,  4.35362927e-06,\n",
       "        -4.32652087e-05, -2.03591262e-05,  2.00344693e-05,  1.93922115e-05,\n",
       "        -3.41523846e-05,  1.13076494e-05, -6.54706810e-06, -4.23496931e-06,\n",
       "        -7.52799042e-06, -2.33221108e-05,  3.81074569e-05, -6.38776874e-06,\n",
       "         4.76381501e-07,  1.23559948e-06, -7.99305199e-05, -2.55280029e-05,\n",
       "        -1.68411279e-05, -9.63826642e-06, -1.09053826e-05, -2.40067384e-05,\n",
       "         1.66553255e-05,  4.64663244e-05, -4.64458717e-05,  5.92280558e-05,\n",
       "         2.70508390e-05,  8.12531362e-05,  3.48471367e-05,  4.76678542e-05,\n",
       "        -3.58067628e-05, -1.14489330e-05,  1.07696787e-05, -2.01676157e-05,\n",
       "         2.22265426e-05, -1.38525756e-05,  2.88727570e-05, -3.26034115e-06,\n",
       "         2.60420129e-05,  8.65179172e-05,  6.85418636e-05,  4.02878395e-05,\n",
       "        -4.80886192e-05, -6.59418874e-05, -2.00135091e-05,  7.76196339e-06,\n",
       "        -1.45321501e-05,  2.48530559e-05, -4.91435712e-05, -1.73705357e-05,\n",
       "         2.80551831e-08,  1.38339266e-04, -1.22236615e-05,  3.91349604e-05,\n",
       "        -1.25217957e-05,  1.53534274e-05, -3.36539815e-05,  3.47009518e-06,\n",
       "        -5.80497508e-05,  1.51392214e-05, -2.59382614e-05,  6.29455608e-05,\n",
       "         3.49871552e-05, -1.10317915e-05, -1.35839873e-04, -4.39369105e-05,\n",
       "         4.79997943e-05, -1.06028077e-04, -1.50400465e-05, -6.66058122e-06,\n",
       "        -3.01755590e-05, -7.53482163e-05,  8.44204915e-05,  4.51813776e-06,\n",
       "         6.20762294e-05, -1.36942963e-05, -3.82448670e-05,  2.01931744e-05,\n",
       "         1.16434567e-05,  4.25343460e-05, -4.15433096e-05, -4.33641908e-05,\n",
       "        -1.66051359e-05,  5.61860861e-06, -1.46599450e-05,  7.88296020e-05,\n",
       "        -6.23586602e-05,  8.03736839e-05, -8.73401223e-06, -2.85385122e-05,\n",
       "         4.97693109e-05, -1.20659697e-05, -3.86656029e-05,  1.88183258e-05,\n",
       "         4.17266128e-05,  5.37555934e-06,  2.52301052e-05,  5.53889186e-06,\n",
       "         1.95090943e-05,  8.01424540e-05, -2.19685280e-05, -4.47359271e-05,\n",
       "         2.13628009e-05,  1.18691514e-05, -2.85551087e-05,  1.61577991e-05,\n",
       "         2.05361284e-05,  2.87211806e-05, -8.54067039e-05,  2.11329952e-05,\n",
       "         7.10254335e-06,  6.01825814e-05,  3.14348063e-06,  3.06685579e-05,\n",
       "         5.98664992e-05,  5.56763007e-05,  2.65131494e-05, -1.82331278e-05,\n",
       "        -5.51286139e-05, -3.47354289e-05,  5.08199300e-05,  5.34019055e-05,\n",
       "        -5.38713139e-05,  4.95928980e-05, -3.90039313e-05,  1.98026464e-05,\n",
       "        -6.23293545e-06,  2.36196865e-05, -3.92395341e-05,  5.11896633e-06,\n",
       "        -5.75320664e-05, -3.52542384e-06,  4.46919221e-05, -1.00389479e-06,\n",
       "        -3.27837406e-05, -9.72685211e-06, -2.60630804e-05, -4.31633453e-07,\n",
       "         1.17390546e-05, -2.33437859e-05,  5.85907910e-05, -6.90216984e-06,\n",
       "         1.38744244e-05,  5.88149214e-06, -9.89936525e-05, -2.38485591e-05,\n",
       "         1.03832139e-02,  7.22420448e-03,  1.94859672e-02,  1.03018535e-02,\n",
       "         1.40680298e-02,  3.41737010e-02, -4.47413772e-02,  4.32818346e-02,\n",
       "        -1.08526526e-02,  4.36681183e-03, -4.60232887e-03, -4.49181423e-02,\n",
       "         1.87199493e-03, -1.04637463e-02, -2.38040090e-02,  5.81739023e-02,\n",
       "         4.18121070e-02,  5.08834608e-02,  8.02579243e-03, -9.43001546e-03,\n",
       "        -2.82202456e-02,  5.11493608e-02, -2.63541471e-02, -1.26144262e-02,\n",
       "         1.92667134e-02,  7.43681937e-02,  4.15189229e-02,  3.13659981e-02,\n",
       "        -1.24647096e-02, -4.61293804e-03,  2.30374951e-02,  1.47214141e-02,\n",
       "         6.84374757e-03,  5.62400185e-02, -9.20446217e-03,  1.04920473e-02,\n",
       "         1.95821486e-02,  1.07573941e-02, -1.24950707e-02, -4.47364291e-03,\n",
       "         3.23085338e-02,  3.98671404e-02, -2.45260783e-02,  1.02603361e-02,\n",
       "        -1.76730771e-02, -2.78056264e-02, -4.52114642e-02, -1.55439824e-02,\n",
       "         1.81391323e-03, -7.52125084e-02,  6.19855300e-02,  7.02546304e-03,\n",
       "         2.59368215e-02, -4.85819159e-03, -1.81853697e-02, -2.97130477e-02,\n",
       "         2.58807540e-02, -1.48603693e-03, -8.53605755e-03, -1.67817827e-02,\n",
       "         5.77119086e-03,  5.24521945e-03,  2.08669547e-02,  4.24394384e-03,\n",
       "         2.61581391e-02,  1.72143914e-02,  1.81538630e-02,  3.99949774e-02,\n",
       "         3.37495767e-02, -5.16380891e-02, -7.98701309e-04,  2.08255425e-02,\n",
       "         4.33437079e-02, -1.78770199e-02, -2.69566718e-02,  1.17967911e-02,\n",
       "        -2.27393378e-02, -2.49361899e-02, -1.43395504e-02,  2.02512126e-02,\n",
       "         6.39197305e-02, -4.00897786e-02, -2.67100930e-02,  2.77535878e-02,\n",
       "        -1.90367047e-02,  2.75667850e-02,  1.47575447e-02,  3.38191167e-02,\n",
       "         1.75850466e-02, -2.19604634e-02,  3.91743705e-02, -1.01095671e-03,\n",
       "         7.42673734e-03,  1.19125294e-02, -6.48270780e-03,  2.17578886e-03,\n",
       "         3.70078236e-02,  2.39631459e-02,  1.31579665e-02,  6.76633208e-04,\n",
       "        -3.40719409e-02, -2.22820118e-02,  1.31718330e-02, -2.02554986e-02,\n",
       "         1.09682903e-02, -3.21150720e-02,  1.05188927e-02,  3.90720442e-02,\n",
       "        -4.48831394e-02, -4.13293913e-02,  3.28914635e-02, -5.55845210e-03,\n",
       "        -2.98235305e-02, -4.37411759e-03, -1.99780650e-02,  3.49612348e-02,\n",
       "        -2.73174141e-02, -7.76370382e-03,  5.00212796e-03,  3.82833183e-02,\n",
       "         1.25024272e-02,  2.52953321e-02,  2.94322688e-02,  1.18372003e-02,\n",
       "         3.98057653e-03,  1.34978527e-02, -1.62137337e-02, -2.66849948e-03,\n",
       "        -3.26799709e-05, -2.09430909e-05, -3.38053724e-06, -7.70929000e-06,\n",
       "         1.89728617e-05,  2.33929059e-05, -2.04741154e-05,  4.57466667e-05,\n",
       "         4.25782991e-06,  6.74955882e-05,  2.06627701e-05,  3.21534171e-05,\n",
       "        -5.55883016e-05, -3.33123444e-06, -5.97492135e-06, -5.02534385e-06,\n",
       "         2.21070950e-05, -1.16102447e-05,  2.28734298e-05, -1.11220488e-05,\n",
       "         3.34487086e-05,  8.81006126e-05,  7.29606400e-05,  2.77159015e-05,\n",
       "        -5.69018084e-05, -5.44599752e-05, -6.98503754e-06,  9.05689558e-06,\n",
       "        -1.15353978e-05,  1.59668671e-05, -3.35062032e-05, -1.59799547e-05,\n",
       "         2.62861649e-05,  1.14834133e-04,  9.58777491e-06,  3.13996643e-05,\n",
       "        -1.61223979e-05, -7.60510557e-06, -2.32341808e-05, -1.55119978e-05,\n",
       "        -4.91780811e-05, -9.31735303e-06, -1.39653757e-05,  5.02376497e-05,\n",
       "         2.22775761e-05,  8.84197289e-06, -8.69597570e-05, -3.39497492e-05,\n",
       "         4.46596823e-05, -1.02662627e-04,  5.18683646e-06, -3.93469008e-06,\n",
       "        -2.24342020e-05, -4.92315412e-05,  4.85856071e-05,  1.43449415e-05,\n",
       "         6.14975870e-05, -1.59423962e-05, -4.36904111e-06,  8.69102041e-06,\n",
       "         3.37648498e-06,  1.53645960e-05, -3.80350102e-05, -4.64828918e-05,\n",
       "        -9.83768950e-06,  9.90270291e-06, -2.73612186e-05,  5.85881280e-05,\n",
       "        -4.97179790e-05,  7.83792639e-05, -2.26591874e-05, -4.87912585e-05,\n",
       "         3.41984014e-05,  9.58183136e-07, -4.56684793e-05,  1.06187490e-05,\n",
       "         1.66385580e-05, -7.37212304e-06,  1.82994954e-05,  3.81406380e-06,\n",
       "         1.68716851e-05,  5.38761669e-05, -3.06213747e-06,  8.16502961e-06,\n",
       "         1.04152550e-05,  1.01456499e-06, -1.02882987e-05,  1.12855814e-05,\n",
       "         1.91063627e-05,  2.49183322e-05, -5.14245330e-05, -7.47109243e-06,\n",
       "         8.33691229e-06,  6.73732284e-05,  6.77411936e-06,  1.88848044e-05,\n",
       "         4.38968709e-05,  5.65104274e-05,  2.11973456e-05, -3.41068608e-06,\n",
       "        -4.40792428e-05,  1.61907992e-05,  2.47015450e-05,  3.59035475e-05,\n",
       "        -3.32671443e-05,  1.99584192e-05, -4.40366421e-05,  1.49867383e-05,\n",
       "         5.76479215e-06,  9.10617382e-06, -8.70425993e-06,  6.24854601e-06,\n",
       "        -4.09958811e-05, -3.27671150e-05,  2.34923264e-05,  2.12466075e-05,\n",
       "        -3.98353586e-05,  9.88331340e-06, -1.37907446e-05, -5.53232621e-06,\n",
       "        -4.47891989e-06, -2.18878558e-05,  3.31295123e-05, -1.35591381e-06,\n",
       "        -1.03319780e-06, -2.67317773e-06, -8.46699913e-05, -2.52838945e-05],\n",
       "       dtype=float32)>,\n",
       " <tf.Tensor: shape=(128, 10000), dtype=float32, numpy=\n",
       " array([[ 2.4614108e-03,  4.2716498e-03,  3.6889571e-03, ...,\n",
       "         -6.1620849e-06, -6.1624687e-06, -6.1618894e-06],\n",
       "        [ 2.6294435e-03,  3.6248865e-03,  3.2799705e-03, ...,\n",
       "         -4.9354785e-06, -4.9337505e-06, -4.9394339e-06],\n",
       "        [-2.6298244e-04,  2.9672540e-04, -2.9506677e-04, ...,\n",
       "         -3.3548906e-07, -3.3772417e-07, -3.3579033e-07],\n",
       "        ...,\n",
       "        [-2.4766632e-06,  3.1139172e-04,  8.5448002e-05, ...,\n",
       "         -4.3886456e-07, -4.3895463e-07, -4.4095196e-07],\n",
       "        [-9.3739096e-04, -1.0919767e-03, -1.9444257e-03, ...,\n",
       "          1.7217767e-06,  1.7217781e-06,  1.7214392e-06],\n",
       "        [ 1.2160378e-04, -8.5297658e-04, -5.1856088e-04, ...,\n",
       "          8.0485074e-07,  8.0378089e-07,  8.0329545e-07]], dtype=float32)>,\n",
       " <tf.Tensor: shape=(10000,), dtype=float32, numpy=\n",
       " array([-0.797998  , -1.0313318 , -1.0313317 , ...,  0.00199976,\n",
       "         0.00200023,  0.00200046], dtype=float32)>]"
      ]
     },
     "execution_count": 48,
     "metadata": {},
     "output_type": "execute_result"
    }
   ],
   "source": [
    "# Define the gradient clipping threshold\n",
    "grads, _ = tf.clip_by_global_norm(grad_t_list, max_grad_norm)\n",
    "grads"
   ]
  },
  {
   "cell_type": "markdown",
   "metadata": {},
   "source": [
    "<h4> 4.Apply the optimizer to the variables/gradients tuple. </h4>\n"
   ]
  },
  {
   "cell_type": "code",
   "execution_count": 49,
   "metadata": {},
   "outputs": [],
   "source": [
    "# Create the training TensorFlow Operation through our optimizer\n",
    "train_op = optimizer.apply_gradients(zip(grads, tvars))"
   ]
  },
  {
   "cell_type": "markdown",
   "metadata": {},
   "source": [
    "<a id=\"ltsm\"></a>\n",
    "\n",
    "<h2>LSTM</h2>\n"
   ]
  },
  {
   "cell_type": "markdown",
   "metadata": {
    "button": false,
    "deletable": true,
    "new_sheet": false,
    "run_control": {
     "read_only": false
    }
   },
   "source": [
    "We learned how the model is build step by step. Noe, let's then create a Class that represents our model. This class needs a few things:\n",
    "\n",
    "<ul>\n",
    "    <li>We have to create the model in accordance with our defined hyperparameters</li>\n",
    "    <li>We have to create the LSTM cell structure and connect them with our RNN structure</li>\n",
    "    <li>We have to create the word embeddings and point them to the input data</li>\n",
    "    <li>We have to create the input structure for our RNN</li>\n",
    "    <li>We need to create a logistic structure to return the probability of our words</li>\n",
    "    <li>We need to create the loss and cost functions for our optimizer to work, and then create the optimizer</li>\n",
    "    <li>And finally, we need to create a training operation that can be run to actually train our model</li>\n",
    "</ul>\n"
   ]
  },
  {
   "cell_type": "code",
   "execution_count": 50,
   "metadata": {
    "button": false,
    "deletable": true,
    "new_sheet": false,
    "run_control": {
     "read_only": false
    },
    "tags": []
   },
   "outputs": [],
   "source": [
    "class PTBModel(object):\n",
    "\n",
    "\n",
    "    def __init__(self):\n",
    "        ######################################\n",
    "        # Setting parameters for ease of use #\n",
    "        ######################################\n",
    "        self.batch_size = batch_size\n",
    "        self.num_steps = num_steps\n",
    "        self.hidden_size_l1 = hidden_size_l1\n",
    "        self.hidden_size_l2 = hidden_size_l2\n",
    "        self.vocab_size = vocab_size\n",
    "        self.embeding_vector_size = embeding_vector_size\n",
    "        # Create a variable for the learning rate\n",
    "        self._lr = 1.0\n",
    "        \n",
    "        ###############################################################################\n",
    "        # Initializing the model using keras Sequential API  #\n",
    "        ###############################################################################\n",
    "        \n",
    "        self._model = tf.keras.models.Sequential()\n",
    "        \n",
    "        ####################################################################\n",
    "        # Creating the word embeddings layer and adding it to the sequence #\n",
    "        ####################################################################\n",
    "        with tf.device(\"/cpu:0\"):\n",
    "            # Create the embeddings for our input data. Size is hidden size.\n",
    "            self._embedding_layer = tf.keras.layers.Embedding(self.vocab_size, self.embeding_vector_size,batch_input_shape=(self.batch_size, self.num_steps),trainable=True,name=\"embedding_vocab\")  #[10000x200]\n",
    "            self._model.add(self._embedding_layer)\n",
    "            \n",
    "\n",
    "        ##########################################################################\n",
    "        # Creating the LSTM cell structure and connect it with the RNN structure #\n",
    "        ##########################################################################\n",
    "        # Create the LSTM Cells. \n",
    "        # This creates only the structure for the LSTM and has to be associated with a RNN unit still.\n",
    "        # The argument  of LSTMCell is size of hidden layer, that is, the number of hidden units of the LSTM (inside A). \n",
    "        # LSTM cell processes one word at a time and computes probabilities of the possible continuations of the sentence.\n",
    "        lstm_cell_l1 = tf.keras.layers.LSTMCell(hidden_size_l1)\n",
    "        lstm_cell_l2 = tf.keras.layers.LSTMCell(hidden_size_l2)\n",
    "        \n",
    "\n",
    "        \n",
    "        # By taking in the LSTM cells as parameters, the StackedRNNCells function junctions the LSTM units to the RNN units.\n",
    "        # RNN cell composed sequentially of stacked simple cells.\n",
    "        stacked_lstm = tf.keras.layers.StackedRNNCells([lstm_cell_l1, lstm_cell_l2])\n",
    "\n",
    "\n",
    "        \n",
    "\n",
    "        ############################################\n",
    "        # Creating the input structure for our RNN #\n",
    "        ############################################\n",
    "        # Input structure is 20x[30x200]\n",
    "        # Considering each word is represended by a 200 dimentional vector, and we have 30 batchs, we create 30 word-vectors of size [30xx2000]\n",
    "        # The input structure is fed from the embeddings, which are filled in by the input data\n",
    "        # Feeding a batch of b sentences to a RNN:\n",
    "        # In step 1,  first word of each of the b sentences (in a batch) is input in parallel.  \n",
    "        # In step 2,  second word of each of the b sentences is input in parallel. \n",
    "        # The parallelism is only for efficiency.  \n",
    "        # Each sentence in a batch is handled in parallel, but the network sees one word of a sentence at a time and does the computations accordingly. \n",
    "        # All the computations involving the words of all sentences in a batch at a given time step are done in parallel. \n",
    "\n",
    "        ########################################################################################################\n",
    "        # Instantiating our RNN model and setting stateful to True to feed forward the state to the next layer #\n",
    "        ########################################################################################################\n",
    "        \n",
    "        self._RNNlayer  =  tf.keras.layers.RNN(stacked_lstm,[batch_size, num_steps],return_state=False,stateful=True,trainable=True)\n",
    "        \n",
    "        # Define the initial state, i.e., the model state for the very first data point\n",
    "        # It initialize the state of the LSTM memory. The memory state of the network is initialized with a vector of zeros and gets updated after reading each word.\n",
    "        self._initial_state = tf.Variable(tf.zeros([batch_size,embeding_vector_size]),trainable=False)\n",
    "        self._RNNlayer.inital_state = self._initial_state\n",
    "    \n",
    "        ############################################\n",
    "        # Adding RNN layer to keras sequential API #\n",
    "        ############################################        \n",
    "        self._model.add(self._RNNlayer)\n",
    "        \n",
    "        #self._model.add(tf.keras.layers.LSTM(hidden_size_l1,return_sequences=True,stateful=True))\n",
    "        #self._model.add(tf.keras.layers.LSTM(hidden_size_l2,return_sequences=True))\n",
    "        \n",
    "        \n",
    "        ####################################################################################################\n",
    "        # Instantiating a Dense layer that connects the output to the vocab_size  and adding layer to model#\n",
    "        ####################################################################################################\n",
    "        self._dense = tf.keras.layers.Dense(self.vocab_size)\n",
    "        self._model.add(self._dense)\n",
    " \n",
    "        \n",
    "        ####################################################################################################\n",
    "        # Adding softmax activation layer and deriving probability to each class and adding layer to model #\n",
    "        ####################################################################################################\n",
    "        self._activation = tf.keras.layers.Activation('softmax')\n",
    "        self._model.add(self._activation)\n",
    "\n",
    "        ##########################################################\n",
    "        # Instantiating the stochastic gradient decent optimizer #\n",
    "        ########################################################## \n",
    "        self._optimizer = tf.keras.optimizers.SGD(lr=self._lr, clipnorm=max_grad_norm)\n",
    "        \n",
    "        \n",
    "        ##############################################################################\n",
    "        # Compiling and summarizing the model stacked using the keras sequential API #\n",
    "        ##############################################################################\n",
    "        self._model.compile(loss=self.crossentropy, optimizer=self._optimizer)\n",
    "        self._model.summary()\n",
    "\n",
    "\n",
    "    def crossentropy(self,y_true, y_pred):\n",
    "        return tf.keras.losses.sparse_categorical_crossentropy(y_true, y_pred)\n",
    "\n",
    "    def train_batch(self,_input_data,_targets):\n",
    "        #################################################\n",
    "        # Creating the Training Operation for our Model #\n",
    "        #################################################\n",
    "        # Create a variable for the learning rate\n",
    "        self._lr = tf.Variable(0.0, trainable=False)\n",
    "        # Get all TensorFlow variables marked as \"trainable\" (i.e. all of them except _lr, which we just created)\n",
    "        tvars = self._model.trainable_variables\n",
    "        # Define the gradient clipping threshold\n",
    "        with tf.GradientTape() as tape:\n",
    "            # Forward pass.\n",
    "            output_words_prob = self._model(_input_data)\n",
    "            # Loss value for this batch.\n",
    "            loss  = self.crossentropy(_targets, output_words_prob)\n",
    "            # average across batch and reduce sum\n",
    "            cost = tf.reduce_sum(loss/ self.batch_size)\n",
    "        # Get gradients of loss wrt the trainable variables.\n",
    "        grad_t_list = tape.gradient(cost, tvars)\n",
    "        # Define the gradient clipping threshold\n",
    "        grads, _ = tf.clip_by_global_norm(grad_t_list, max_grad_norm)\n",
    "        # Create the training TensorFlow Operation through our optimizer\n",
    "        train_op = self._optimizer.apply_gradients(zip(grads, tvars))\n",
    "        return cost\n",
    "        \n",
    "    def test_batch(self,_input_data,_targets):\n",
    "        #################################################\n",
    "        # Creating the Testing Operation for our Model #\n",
    "        #################################################\n",
    "        output_words_prob = self._model(_input_data)\n",
    "        loss  = self.crossentropy(_targets, output_words_prob)\n",
    "        # average across batch and reduce sum\n",
    "        cost = tf.reduce_sum(loss/ self.batch_size)\n",
    "\n",
    "        return cost\n",
    "    @classmethod\n",
    "    def instance(cls) : \n",
    "        return PTBModel()"
   ]
  },
  {
   "cell_type": "markdown",
   "metadata": {
    "button": false,
    "deletable": true,
    "new_sheet": false,
    "run_control": {
     "read_only": false
    }
   },
   "source": [
    "With that, the actual structure of our Recurrent Neural Network with Long Short-Term Memory is finished. What remains for us to do is to actually create the methods to run through time -- that is, the <code>run_epoch</code> method to be run at each epoch and a <code>main</code> script which ties all of this together.\n",
    "\n",
    "What our <code>run_epoch</code> method should do is take our input data and feed it to the relevant operations. This will return at the very least the current result for the cost function.\n"
   ]
  },
  {
   "cell_type": "code",
   "execution_count": 51,
   "metadata": {
    "button": false,
    "deletable": true,
    "new_sheet": false,
    "run_control": {
     "read_only": false
    }
   },
   "outputs": [],
   "source": [
    "\n",
    "########################################################################################################################\n",
    "# run_one_epoch takes as parameters  the model instance, the data to be fed, training or testing mode and verbose info #\n",
    "########################################################################################################################\n",
    "def run_one_epoch(m, data,is_training=True,verbose=False):\n",
    "\n",
    "    #Define the epoch size based on the length of the data, batch size and the number of steps\n",
    "    epoch_size = ((len(data) // m.batch_size) - 1) // m.num_steps\n",
    "    start_time = time.time()\n",
    "    costs = 0.\n",
    "    iters = 0\n",
    "    \n",
    "    m._model.reset_states()\n",
    "    \n",
    "    #For each step and data point\n",
    "    for step, (x, y) in enumerate(reader.ptb_iterator(data, m.batch_size, m.num_steps)):\n",
    "        \n",
    "        #Evaluate and return cost, state by running cost, final_state and the function passed as parameter\n",
    "        #y = tf.keras.utils.to_categorical(y, num_classes=vocab_size)\n",
    "        if is_training : \n",
    "            loss=  m.train_batch(x, y)\n",
    "        else :\n",
    "            loss = m.test_batch(x, y)\n",
    "                                   \n",
    "\n",
    "        #Add returned cost to costs (which keeps track of the total costs for this epoch)\n",
    "        costs += loss\n",
    "        \n",
    "        #Add number of steps to iteration counter\n",
    "        iters += m.num_steps\n",
    "\n",
    "        if verbose and step % (epoch_size // 10) == 10:\n",
    "            print(\"Itr %d of %d, perplexity: %.3f speed: %.0f wps\" % (step , epoch_size, np.exp(costs / iters), iters * m.batch_size / (time.time() - start_time)))\n",
    "        \n",
    "\n",
    "\n",
    "    # Returns the Perplexity rating for us to keep track of how the model is evolving\n",
    "    return np.exp(costs / iters)\n"
   ]
  },
  {
   "cell_type": "markdown",
   "metadata": {
    "button": false,
    "deletable": true,
    "new_sheet": false,
    "run_control": {
     "read_only": false
    }
   },
   "source": [
    "Now, we create the <code>main</code> method to tie everything together. The code here reads the data from the directory, using the <code>reader</code> helper module, and then trains and evaluates the model on both a testing and a validating subset of data.\n"
   ]
  },
  {
   "cell_type": "code",
   "execution_count": 52,
   "metadata": {
    "button": false,
    "deletable": true,
    "new_sheet": false,
    "run_control": {
     "read_only": false
    },
    "tags": []
   },
   "outputs": [],
   "source": [
    "# Reads the data and separates it into training data, validation data and testing data\n",
    "raw_data = reader.ptb_raw_data(data_dir)\n",
    "train_data, valid_data, test_data, _, _ = raw_data"
   ]
  },
  {
   "cell_type": "code",
   "execution_count": null,
   "metadata": {
    "tags": []
   },
   "outputs": [
    {
     "name": "stdout",
     "output_type": "stream",
     "text": [
      "Model: \"sequential_1\"\n",
      "_________________________________________________________________\n",
      "Layer (type)                 Output Shape              Param #   \n",
      "=================================================================\n",
      "embedding_vocab (Embedding)  (30, 20, 200)             2000000   \n",
      "_________________________________________________________________\n",
      "rnn_1 (RNN)                  (30, 20, 128)             671088    \n",
      "_________________________________________________________________\n",
      "dense_1 (Dense)              (30, 20, 10000)           1290000   \n",
      "_________________________________________________________________\n",
      "activation_1 (Activation)    (30, 20, 10000)           0         \n",
      "=================================================================\n",
      "Total params: 3,961,088\n",
      "Trainable params: 3,955,088\n",
      "Non-trainable params: 6,000\n",
      "_________________________________________________________________\n",
      "Epoch 1 : Learning rate: 1.000\n",
      "Itr 10 of 1549, perplexity: 4793.374 speed: 462 wps\n",
      "Itr 164 of 1549, perplexity: 1080.880 speed: 488 wps\n",
      "Itr 318 of 1549, perplexity: 839.086 speed: 484 wps\n",
      "Itr 472 of 1549, perplexity: 698.078 speed: 483 wps\n",
      "Itr 626 of 1549, perplexity: 597.177 speed: 482 wps\n",
      "Itr 780 of 1549, perplexity: 531.034 speed: 481 wps\n",
      "Itr 934 of 1549, perplexity: 479.257 speed: 481 wps\n",
      "Itr 1088 of 1549, perplexity: 439.875 speed: 481 wps\n",
      "Itr 1242 of 1549, perplexity: 409.507 speed: 481 wps\n",
      "Itr 1396 of 1549, perplexity: 381.470 speed: 482 wps\n",
      "Epoch 1 : Train Perplexity: 359.099\n",
      "Epoch 1 : Valid Perplexity: 210.460\n",
      "Epoch 2 : Learning rate: 1.000\n",
      "Itr 10 of 1549, perplexity: 236.109 speed: 465 wps\n",
      "Itr 164 of 1549, perplexity: 210.540 speed: 475 wps\n",
      "Itr 318 of 1549, perplexity: 201.352 speed: 475 wps\n",
      "Itr 472 of 1549, perplexity: 193.289 speed: 475 wps\n",
      "Itr 626 of 1549, perplexity: 184.606 speed: 476 wps\n",
      "Itr 780 of 1549, perplexity: 180.936 speed: 475 wps\n",
      "Itr 934 of 1549, perplexity: 176.956 speed: 475 wps\n",
      "Itr 1088 of 1549, perplexity: 173.514 speed: 475 wps\n",
      "Itr 1242 of 1549, perplexity: 171.122 speed: 475 wps\n",
      "Itr 1396 of 1549, perplexity: 167.030 speed: 475 wps\n",
      "Epoch 2 : Train Perplexity: 164.105\n",
      "Epoch 2 : Valid Perplexity: 160.211\n",
      "Epoch 3 : Learning rate: 1.000\n",
      "Itr 10 of 1549, perplexity: 160.190 speed: 483 wps\n",
      "Itr 164 of 1549, perplexity: 146.613 speed: 479 wps\n",
      "Itr 318 of 1549, perplexity: 142.878 speed: 477 wps\n",
      "Itr 472 of 1549, perplexity: 138.661 speed: 476 wps\n"
     ]
    }
   ],
   "source": [
    "# Instantiates the PTBModel class\n",
    "m=PTBModel.instance()   \n",
    "K = tf.keras.backend \n",
    "for i in range(max_epoch):\n",
    "    # Define the decay for this epoch\n",
    "    lr_decay = decay ** max(i - max_epoch_decay_lr, 0.0)\n",
    "    dcr = learning_rate * lr_decay\n",
    "    m._lr = dcr\n",
    "    K.set_value(m._model.optimizer.learning_rate,m._lr)\n",
    "    print(\"Epoch %d : Learning rate: %.3f\" % (i + 1, m._model.optimizer.learning_rate))\n",
    "    # Run the loop for this epoch in the training mode\n",
    "    train_perplexity = run_one_epoch(m, train_data,is_training=True,verbose=True)\n",
    "    print(\"Epoch %d : Train Perplexity: %.3f\" % (i + 1, train_perplexity))\n",
    "        \n",
    "    # Run the loop for this epoch in the validation mode\n",
    "    valid_perplexity = run_one_epoch(m, valid_data,is_training=False,verbose=False)\n",
    "    print(\"Epoch %d : Valid Perplexity: %.3f\" % (i + 1, valid_perplexity))\n",
    "    \n",
    "# Run the loop in the testing mode to see how effective was our training\n",
    "test_perplexity = run_one_epoch(m, test_data,is_training=False,verbose=False)\n",
    "print(\"Test Perplexity: %.3f\" % test_perplexity)"
   ]
  },
  {
   "cell_type": "markdown",
   "metadata": {
    "button": false,
    "deletable": true,
    "new_sheet": false,
    "run_control": {
     "read_only": false
    }
   },
   "source": [
    "As you can see, the model's perplexity rating drops very quickly after a few iterations. As was elaborated before, <b>lower Perplexity means that the model is more certain about its prediction</b>. As such, we can be sure that this model is performing well!\n"
   ]
  },
  {
   "cell_type": "markdown",
   "metadata": {
    "button": false,
    "deletable": true,
    "new_sheet": false,
    "run_control": {
     "read_only": false
    }
   },
   "source": [
    "* * *\n"
   ]
  },
  {
   "cell_type": "markdown",
   "metadata": {
    "button": false,
    "deletable": true,
    "new_sheet": false,
    "run_control": {
     "read_only": false
    }
   },
   "source": [
    "This is the end of the <b>Applying Recurrent Neural Networks to Text Processing</b> notebook. Hopefully you now have a better understanding of Recurrent Neural Networks and how to implement one utilizing TensorFlow. Thank you for reading this notebook, and good luck on your studies.\n"
   ]
  },
  {
   "cell_type": "markdown",
   "metadata": {
    "button": false,
    "deletable": true,
    "new_sheet": false,
    "run_control": {
     "read_only": false
    }
   },
   "source": [
    "## Want to learn more?\n",
    "\n",
    "Running deep learning programs usually needs a high performance platform. **PowerAI** speeds up deep learning and AI. Built on IBM’s Power Systems, **PowerAI** is a scalable software platform that accelerates deep learning and AI with blazing performance for individual users or enterprises. The **PowerAI** platform supports popular machine learning libraries and dependencies including TensorFlow, Caffe, Torch, and Theano. You can use [PowerAI on IMB Cloud](https://cocl.us/ML0120EN_PAI).\n",
    "\n",
    "Also, you can use **Watson Studio** to run these notebooks faster with bigger datasets.**Watson Studio** is IBM’s leading cloud solution for data scientists, built by data scientists. With Jupyter notebooks, RStudio, Apache Spark and popular libraries pre-packaged in the cloud, **Watson Studio** enables data scientists to collaborate on their projects without having to install anything. Join the fast-growing community of **Watson Studio** users today with a free account at [Watson Studio](https://cocl.us/ML0120EN_DSX).This is the end of this lesson. Thank you for reading this notebook, and good luck on your studies.\n"
   ]
  },
  {
   "cell_type": "markdown",
   "metadata": {
    "button": false,
    "deletable": true,
    "new_sheet": false,
    "run_control": {
     "read_only": false
    }
   },
   "source": [
    "### Thanks for completing this lesson!\n",
    "\n",
    "Notebook created by <a href=\"https://br.linkedin.com/in/walter-gomes-de-amorim-junior-624726121\">Walter Gomes de Amorim Junior</a>, <a href = \"https://linkedin.com/in/saeedaghabozorgi\"> Saeed Aghabozorgi </a></h4>\n",
    "\n",
    "Updated to TF 2.X by  <a href=\"https://www.linkedin.com/in/samaya-madhavan\"> Samaya Madhavan </a>\n"
   ]
  },
  {
   "cell_type": "markdown",
   "metadata": {
    "button": false,
    "deletable": true,
    "new_sheet": false,
    "run_control": {
     "read_only": false
    }
   },
   "source": [
    "<hr>\n",
    "\n",
    "Copyright © 2018 [Cognitive Class](https://cocl.us/DX0108EN_CC). This notebook and its source code are released under the terms of the [MIT License](https://bigdatauniversity.com/mit-license?cm_mmc=Email_Newsletter-_-Developer_Ed%2BTech-_-WW_WW-_-SkillsNetwork-Courses-IBMDeveloperSkillsNetwork-DL0120EN-SkillsNetwork-20629446&cm_mmca1=000026UJ&cm_mmca2=10006555&cm_mmca3=M12345678&cvosrc=email.Newsletter.M12345678&cvo_campaign=000026UJ&cm_mmc=Email_Newsletter-_-Developer_Ed%2BTech-_-WW_WW-_-SkillsNetwork-Courses-IBMDeveloperSkillsNetwork-DL0120EN-SkillsNetwork-20629446&cm_mmca1=000026UJ&cm_mmca2=10006555&cm_mmca3=M12345678&cvosrc=email.Newsletter.M12345678&cvo_campaign=000026UJ).\n"
   ]
  }
 ],
 "metadata": {
  "anaconda-cloud": {},
  "kernelspec": {
   "display_name": "Python",
   "language": "python",
   "name": "conda-env-python-py"
  },
  "language_info": {
   "codemirror_mode": {
    "name": "ipython",
    "version": 3
   },
   "file_extension": ".py",
   "mimetype": "text/x-python",
   "name": "python",
   "nbconvert_exporter": "python",
   "pygments_lexer": "ipython3",
   "version": "3.6.13"
  },
  "widgets": {
   "state": {},
   "version": "1.1.2"
  }
 },
 "nbformat": 4,
 "nbformat_minor": 4
}
